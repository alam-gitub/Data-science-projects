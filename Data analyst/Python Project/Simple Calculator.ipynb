{
 "cells": [
  {
   "cell_type": "markdown",
   "metadata": {},
   "source": [
    "# Simple Calculator"
   ]
  },
  {
   "cell_type": "code",
   "execution_count": 8,
   "metadata": {},
   "outputs": [
    {
     "name": "stdout",
     "output_type": "stream",
     "text": [
      "Simple Calculator\n",
      "Operations: + (Add), - (Subtract), * (Multiply), / (Divide)\n",
      "Enter first number: 457\n",
      "Enter operator (+, -, *, /): -222\n",
      "Enter second number: 222\n",
      "Invalid operator! Please use +, -, *, or /\n"
     ]
    }
   ],
   "source": [
    "def calculator():\n",
    "    print(\"Simple Calculator\")\n",
    "    print(\"Operations: + (Add), - (Subtract), * (Multiply), / (Divide)\")\n",
    "    \n",
    "    try:\n",
    "        # Get user input\n",
    "        num1 = float(input(\"Enter first number: \"))\n",
    "        operator = input(\"Enter operator (+, -, *, /): \")\n",
    "        num2 = float(input(\"Enter second number: \"))\n",
    "        \n",
    "        # Perform calculation based on operator\n",
    "        if operator == '+':\n",
    "            result = num1 + num2\n",
    "        elif operator == '-':\n",
    "            result = num1 - num2\n",
    "        elif operator == '*':\n",
    "            result = num1 * num2\n",
    "        elif operator == '/':\n",
    "            if num2 == 0:\n",
    "                print(\"Error: Division by zero is not allowed!\")\n",
    "                return\n",
    "            result = num1 / num2\n",
    "        else:\n",
    "            print(\"Invalid operator! Please use +, -, *, or /\")\n",
    "            return\n",
    "        \n",
    "        # Display the result\n",
    "        print(f\"Result: {num1} {operator} {num2} = {result}\")\n",
    "    \n",
    "    except ValueError:\n",
    "        print(\"Invalid input! Please enter numeric values.\")\n",
    "\n",
    "# Run the calculator\n",
    "if __name__ == \"__main__\":\n",
    "    calculator()"
   ]
  },
  {
   "cell_type": "code",
   "execution_count": null,
   "metadata": {},
   "outputs": [],
   "source": []
  }
 ],
 "metadata": {
  "kernelspec": {
   "display_name": "Python 3",
   "language": "python",
   "name": "python3"
  }
 },
 "nbformat": 4,
 "nbformat_minor": 4
}
