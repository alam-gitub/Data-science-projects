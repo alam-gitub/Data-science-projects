{
 "cells": [
  {
   "cell_type": "markdown",
   "metadata": {},
   "source": [
    "# **Problem Statement**"
   ]
  },
  {
   "cell_type": "markdown",
   "metadata": {},
   "source": [
    "- **Context and Company Background:** TechWorks Consulting specializes in IT talent recruitment, uniquely connecting skilled professionals with the right job opportunities. Our deep industry knowledge and strong network help us ensure a perfect match for both candidates and companies, fostering successful partnerships in the tech sectorr.\n"
   ]
  },
  {
   "cell_type": "markdown",
   "metadata": {},
   "source": [
    "- **Data Description:** The dataset contains information about colleges, cities, roles, previous experience, and salary. This data will be used to train and test the predictive model, helping us gain insights into trends and making informed decisions."
   ]
  },
  {
   "cell_type": "markdown",
   "metadata": {},
   "source": [
    "- **Regression Task:** The primary objective is to perform a regression task, where the aim is to predict a continuous variable, specifically the salary of newly hired employees."
   ]
  },
  {
   "cell_type": "markdown",
   "metadata": {},
   "source": [
    "- **Role of Statistics:** Statistics play a crucial role in building and validating the accuracy of the model. By applying statistical methods, we can analyze data patterns, assess model performance, and ensure that our predictions are reliable and meaningful."
   ]
  },
  {
   "cell_type": "markdown",
   "metadata": {},
   "source": [
    "- **Data Preprocessing:** Data preprocessing is a critical task that involves handling missing values, addressing outliers, encoding categorical variables, normalizing data, and selecting relevant features. These steps are essential for preparing the data, ensuring its quality, and enhancing the performance of the predictive model."
   ]
  },
  {
   "cell_type": "markdown",
   "metadata": {},
   "source": [
    "# Creating a Salary Prediction Model: A Systematic Approach"
   ]
  },
  {
   "cell_type": "markdown",
   "metadata": {},
   "source": [
    "**Data Understanding:**\n",
    "*Begin by thoroughly examining the provided dataset, including its structure and columns.\n",
    "Interpret the meaning of each variable, and gain insights into data distribution, summary statistics, and potential outliers."
   ]
  },
  {
   "cell_type": "markdown",
   "metadata": {},
   "source": [
    "**Data Preprocessing:**\n",
    "- **Handle Missing Values:** Identify and address missing data through imputation or removal to ensure data completeness.\n",
    "- **Outlier Detection and Treatment:** Detect and manage outliers that could negatively impact the model's accuracy.\n",
    "-**Convert Categorical Data:** Transform categorical variables (e.g., \"College\" and \"City\") into numerical formats to facilitate analysis.\n",
    "-**Normalize Data:** Normalize numerical features to bring them to a common scale, preventing any single feature from dominating the model.\n",
    "-**Feature Selection:** Utilize statistical techniques such as Lasso, Ridge regression, or correlation analysis to identify the most relevant features for salary prediction."
   ]
  },
  {
   "cell_type": "markdown",
   "metadata": {},
   "source": [
    "**Performing Exploratory Data Analysis (EDA)**\n",
    "* Conduct EDA to visualize data distributions, relationships between variables, and any trends that may inform model development."
   ]
  },
  {
   "cell_type": "markdown",
   "metadata": {},
   "source": [
    "**Model Selection:**\n",
    "* Choose various regression models (e.g., Linear Regression, Multiple Linear Regression) to build and evaluate predictive capabilities."
   ]
  },
  {
   "cell_type": "markdown",
   "metadata": {},
   "source": [
    "**Model Training and Evaluation:**\n",
    "* Split the dataset into training and testing sets for effective model training and performance assessment.\n",
    "* Use evaluation metrics like Mean Squared Error (MSE), R-squared, and Mean Absolute Error (MAE) to gauge model accuracy.\n",
    "* Experiment with different hyperparameters and employ cross-validation to prevent overfitting.\n"
   ]
  },
  {
   "cell_type": "markdown",
   "metadata": {},
   "source": [
    "**Model Comparison:**\n",
    "* Compare the performance of different models, selecting the one that demonstrates the best accuracy and generalization capabilities.\n"
   ]
  },
  {
   "cell_type": "markdown",
   "metadata": {},
   "source": [
    "**Further Improvement:**\n",
    "* Explore additional techniques for enhancing model performance, such as feature engineering, hyperparameter tuning, and ensemble methods."
   ]
  },
  {
   "cell_type": "markdown",
   "metadata": {},
   "source": [
    "# Available ML Model Options"
   ]
  },
  {
   "cell_type": "markdown",
   "metadata": {},
   "source": [
    "**In the task of predicting employee salaries at TechWorks Consulting, several machine learning models can be utilized for regression tasks. The choice of model depends on various factors, including data characteristics, problem complexity, and the need for model interpretability. Here are some of the available ML model options:**"
   ]
  },
  {
   "cell_type": "markdown",
   "metadata": {},
   "source": [
    "**1. Linear Regression** \n",
    "* Linear regression is a simple and interpretable model that assumes a linear relationship between the features and the target variable (salary). It's a good starting point and can provide baseline performance."
   ]
  },
  {
   "cell_type": "markdown",
   "metadata": {},
   "source": [
    "**2. Ridge Regression and Lasso Regression**\n",
    "* Ridge and Lasso regression are regularization techniques designed to handle multicollinearity and prevent overfitting. These variants of linear regression incorporate regularization terms into the cost function to improve model robustness."
   ]
  },
  {
   "cell_type": "markdown",
   "metadata": {},
   "source": [
    "**3. Decision Trees**\n",
    "* Decision tree-based models, such as Random Forest and Gradient Boosting, excel at capturing non-linear relationships in the data. They can accommodate both numerical and categorical features and automatically assess feature importance."
   ]
  },
  {
   "cell_type": "markdown",
   "metadata": {},
   "source": [
    "**4. K-Nearest Neighbors (KNN)**\n",
    "* KNN is a non-parametric method that makes predictions based on the average of the 'k' nearest data points. It can be particularly effective for small to medium-sized datasets."
   ]
  },
  {
   "cell_type": "markdown",
   "metadata": {},
   "source": [
    "**5. Polynomial Regression**\n",
    "* Polynomial regression extends linear regression by introducing polynomial features, allowing it to capture non-linear relationships."
   ]
  },
  {
   "cell_type": "markdown",
   "metadata": {},
   "source": [
    "For this analysis, I will focus on three of these models. I will evaluate their performance using default parameters and will also experiment with adjusting certain parameters to optimize their effectiveness."
   ]
  },
  {
   "cell_type": "code",
   "execution_count": 133,
   "metadata": {},
   "outputs": [],
   "source": [
    "# Import the pandas library for data manipulation and analysis\n",
    "# Import the numpy library for numerical operations and array processing \n",
    "# Import the seaborn library for data visualization\n",
    "\n",
    "import pandas as pd  \n",
    "import numpy as np   \n",
    "import seaborn as sns   "
   ]
  },
  {
   "cell_type": "code",
   "execution_count": 134,
   "metadata": {},
   "outputs": [],
   "source": [
    "# Read a CSV file into a DataFrame for the main dataset\n",
    "df = pd.read_csv(r'C:\\Users\\win10\\OneDrive\\Desktop\\Intershala assignment\\Machine Learing\\project\\ML case Study.csv')\n",
    "\n",
    "# Read a CSV file into a DataFrame for college information\n",
    "college = pd.read_csv(r'C:\\Users\\win10\\OneDrive\\Desktop\\Intershala assignment\\Machine Learing\\project\\Colleges (1).csv')\n",
    "\n",
    "# Read a CSV file into a DataFrame for city information\n",
    "cities = pd.read_csv(r'C:\\Users\\win10\\OneDrive\\Desktop\\Intershala assignment\\Machine Learing\\project\\cities.csv')"
   ]
  },
  {
   "cell_type": "code",
   "execution_count": 135,
   "metadata": {},
   "outputs": [
    {
     "data": {
      "text/html": [
       "<div>\n",
       "<style scoped>\n",
       "    .dataframe tbody tr th:only-of-type {\n",
       "        vertical-align: middle;\n",
       "    }\n",
       "\n",
       "    .dataframe tbody tr th {\n",
       "        vertical-align: top;\n",
       "    }\n",
       "\n",
       "    .dataframe thead th {\n",
       "        text-align: right;\n",
       "    }\n",
       "</style>\n",
       "<table border=\"1\" class=\"dataframe\">\n",
       "  <thead>\n",
       "    <tr style=\"text-align: right;\">\n",
       "      <th></th>\n",
       "      <th>College</th>\n",
       "      <th>City</th>\n",
       "      <th>Role</th>\n",
       "      <th>Previous CTC</th>\n",
       "      <th>Previous job change</th>\n",
       "      <th>Graduation Marks</th>\n",
       "      <th>EXP (Month)</th>\n",
       "      <th>CTC</th>\n",
       "    </tr>\n",
       "  </thead>\n",
       "  <tbody>\n",
       "    <tr>\n",
       "      <th>0</th>\n",
       "      <td>SVNIT Surat</td>\n",
       "      <td>Asansol</td>\n",
       "      <td>Manager</td>\n",
       "      <td>55523.0</td>\n",
       "      <td>3</td>\n",
       "      <td>66</td>\n",
       "      <td>19</td>\n",
       "      <td>71406.58</td>\n",
       "    </tr>\n",
       "    <tr>\n",
       "      <th>1</th>\n",
       "      <td>NIT Bhopal</td>\n",
       "      <td>Ajmer</td>\n",
       "      <td>Executive</td>\n",
       "      <td>57081.0</td>\n",
       "      <td>1</td>\n",
       "      <td>84</td>\n",
       "      <td>18</td>\n",
       "      <td>68005.87</td>\n",
       "    </tr>\n",
       "    <tr>\n",
       "      <th>2</th>\n",
       "      <td>IEM, Kolkata</td>\n",
       "      <td>Rajpur Sonarpur</td>\n",
       "      <td>Executive</td>\n",
       "      <td>60347.0</td>\n",
       "      <td>2</td>\n",
       "      <td>52</td>\n",
       "      <td>28</td>\n",
       "      <td>76764.02</td>\n",
       "    </tr>\n",
       "    <tr>\n",
       "      <th>3</th>\n",
       "      <td>KIIT, Bhubaneswar</td>\n",
       "      <td>Ajmer</td>\n",
       "      <td>Executive</td>\n",
       "      <td>49010.0</td>\n",
       "      <td>2</td>\n",
       "      <td>81</td>\n",
       "      <td>33</td>\n",
       "      <td>82092.39</td>\n",
       "    </tr>\n",
       "    <tr>\n",
       "      <th>4</th>\n",
       "      <td>DTU</td>\n",
       "      <td>Durgapur</td>\n",
       "      <td>Executive</td>\n",
       "      <td>57879.0</td>\n",
       "      <td>4</td>\n",
       "      <td>74</td>\n",
       "      <td>32</td>\n",
       "      <td>73878.10</td>\n",
       "    </tr>\n",
       "  </tbody>\n",
       "</table>\n",
       "</div>"
      ],
      "text/plain": [
       "             College             City       Role  Previous CTC  \\\n",
       "0        SVNIT Surat          Asansol    Manager       55523.0   \n",
       "1         NIT Bhopal            Ajmer  Executive       57081.0   \n",
       "2       IEM, Kolkata  Rajpur Sonarpur  Executive       60347.0   \n",
       "3  KIIT, Bhubaneswar            Ajmer  Executive       49010.0   \n",
       "4                DTU         Durgapur  Executive       57879.0   \n",
       "\n",
       "   Previous job change  Graduation Marks  EXP (Month)       CTC  \n",
       "0                    3                66           19  71406.58  \n",
       "1                    1                84           18  68005.87  \n",
       "2                    2                52           28  76764.02  \n",
       "3                    2                81           33  82092.39  \n",
       "4                    4                74           32  73878.10  "
      ]
     },
     "execution_count": 135,
     "metadata": {},
     "output_type": "execute_result"
    }
   ],
   "source": [
    "df.head()   # Overview of Data"
   ]
  },
  {
   "cell_type": "code",
   "execution_count": 136,
   "metadata": {},
   "outputs": [
    {
     "data": {
      "text/html": [
       "<div>\n",
       "<style scoped>\n",
       "    .dataframe tbody tr th:only-of-type {\n",
       "        vertical-align: middle;\n",
       "    }\n",
       "\n",
       "    .dataframe tbody tr th {\n",
       "        vertical-align: top;\n",
       "    }\n",
       "\n",
       "    .dataframe thead th {\n",
       "        text-align: right;\n",
       "    }\n",
       "</style>\n",
       "<table border=\"1\" class=\"dataframe\">\n",
       "  <thead>\n",
       "    <tr style=\"text-align: right;\">\n",
       "      <th></th>\n",
       "      <th>Tier 1</th>\n",
       "      <th>Tier 2</th>\n",
       "      <th>Tier 3</th>\n",
       "    </tr>\n",
       "  </thead>\n",
       "  <tbody>\n",
       "    <tr>\n",
       "      <th>0</th>\n",
       "      <td>IIT Bombay</td>\n",
       "      <td>IIIT Bangalore</td>\n",
       "      <td>Ramaiah Institute of Technology, Bengaluru</td>\n",
       "    </tr>\n",
       "    <tr>\n",
       "      <th>1</th>\n",
       "      <td>IIT Delhi</td>\n",
       "      <td>IIIT Delhi</td>\n",
       "      <td>TIET/Thapar University</td>\n",
       "    </tr>\n",
       "    <tr>\n",
       "      <th>2</th>\n",
       "      <td>IIT Kharagpur</td>\n",
       "      <td>IGDTUW</td>\n",
       "      <td>Manipal Main Campus</td>\n",
       "    </tr>\n",
       "    <tr>\n",
       "      <th>3</th>\n",
       "      <td>IIT Madras</td>\n",
       "      <td>NIT Calicut</td>\n",
       "      <td>VIT Vellore</td>\n",
       "    </tr>\n",
       "    <tr>\n",
       "      <th>4</th>\n",
       "      <td>IIT Kanpur</td>\n",
       "      <td>IIITM Gwalior</td>\n",
       "      <td>SRM Main Campus</td>\n",
       "    </tr>\n",
       "  </tbody>\n",
       "</table>\n",
       "</div>"
      ],
      "text/plain": [
       "          Tier 1          Tier 2                                      Tier 3\n",
       "0     IIT Bombay  IIIT Bangalore  Ramaiah Institute of Technology, Bengaluru\n",
       "1      IIT Delhi      IIIT Delhi                      TIET/Thapar University\n",
       "2  IIT Kharagpur          IGDTUW                         Manipal Main Campus\n",
       "3     IIT Madras     NIT Calicut                                 VIT Vellore\n",
       "4     IIT Kanpur   IIITM Gwalior                             SRM Main Campus"
      ]
     },
     "execution_count": 136,
     "metadata": {},
     "output_type": "execute_result"
    }
   ],
   "source": [
    "college.head()   # Overview of College data"
   ]
  },
  {
   "cell_type": "code",
   "execution_count": 137,
   "metadata": {},
   "outputs": [
    {
     "data": {
      "text/html": [
       "<div>\n",
       "<style scoped>\n",
       "    .dataframe tbody tr th:only-of-type {\n",
       "        vertical-align: middle;\n",
       "    }\n",
       "\n",
       "    .dataframe tbody tr th {\n",
       "        vertical-align: top;\n",
       "    }\n",
       "\n",
       "    .dataframe thead th {\n",
       "        text-align: right;\n",
       "    }\n",
       "</style>\n",
       "<table border=\"1\" class=\"dataframe\">\n",
       "  <thead>\n",
       "    <tr style=\"text-align: right;\">\n",
       "      <th></th>\n",
       "      <th>Metrio City</th>\n",
       "      <th>non-metro cities</th>\n",
       "    </tr>\n",
       "  </thead>\n",
       "  <tbody>\n",
       "    <tr>\n",
       "      <th>0</th>\n",
       "      <td>Mumbai</td>\n",
       "      <td>Dehradun</td>\n",
       "    </tr>\n",
       "    <tr>\n",
       "      <th>1</th>\n",
       "      <td>Delhi</td>\n",
       "      <td>Durgapur</td>\n",
       "    </tr>\n",
       "    <tr>\n",
       "      <th>2</th>\n",
       "      <td>Kolkata</td>\n",
       "      <td>Asansol</td>\n",
       "    </tr>\n",
       "    <tr>\n",
       "      <th>3</th>\n",
       "      <td>Chennai</td>\n",
       "      <td>Rourkela</td>\n",
       "    </tr>\n",
       "    <tr>\n",
       "      <th>4</th>\n",
       "      <td>Bangalore</td>\n",
       "      <td>Kozhikode</td>\n",
       "    </tr>\n",
       "  </tbody>\n",
       "</table>\n",
       "</div>"
      ],
      "text/plain": [
       "  Metrio City non-metro cities\n",
       "0      Mumbai         Dehradun\n",
       "1       Delhi         Durgapur\n",
       "2     Kolkata          Asansol\n",
       "3     Chennai         Rourkela\n",
       "4   Bangalore        Kozhikode"
      ]
     },
     "execution_count": 137,
     "metadata": {},
     "output_type": "execute_result"
    }
   ],
   "source": [
    "cities.head()   # Overview of City data"
   ]
  },
  {
   "cell_type": "code",
   "execution_count": 138,
   "metadata": {},
   "outputs": [],
   "source": [
    "# Extract data from the \"Tier 1,\" \"Tier 2,\" and \"Tier 3\" columns of the 'college' DataFrame\n",
    "# and store them in separate lists 'Tier1,' 'Tier2,' and 'Tier3' for further analysis.\n",
    "\n",
    "Tier1 = college[\"Tier 1\"].tolist()\n",
    "Tier2 = college[\"Tier 2\"].tolist()\n",
    "Tier3 = college[\"Tier 3\"].tolist()"
   ]
  },
  {
   "cell_type": "code",
   "execution_count": 139,
   "metadata": {},
   "outputs": [
    {
     "data": {
      "text/plain": [
       "['IIT Bombay',\n",
       " 'IIT Delhi',\n",
       " 'IIT Kharagpur',\n",
       " 'IIT Madras',\n",
       " 'IIT Kanpur',\n",
       " 'IIT Roorkee',\n",
       " 'IIT Guwahati',\n",
       " 'IIIT Hyderabad',\n",
       " 'BITS Pilani (Pilani Campus)',\n",
       " 'IIT Indore',\n",
       " 'IIT Ropar',\n",
       " 'IIT BHU (Varanasi)',\n",
       " 'IIT ISM Dhanbad',\n",
       " 'DTU',\n",
       " 'NSUT Delhi (NSIT)',\n",
       " 'NIT Tiruchipally (Trichy)',\n",
       " 'NIT Warangal',\n",
       " 'NIT Surathkal (Karnataka)',\n",
       " 'Jadavpur University',\n",
       " 'BITS Pilani (Hyderabad Campus)',\n",
       " 'BITS Pilani (Goa Campus)',\n",
       " 'IIIT Allahabad',\n",
       " nan,\n",
       " nan,\n",
       " nan,\n",
       " nan,\n",
       " nan,\n",
       " nan]"
      ]
     },
     "execution_count": 139,
     "metadata": {},
     "output_type": "execute_result"
    }
   ],
   "source": [
    "Tier1   # Printing the data contained in Tier1"
   ]
  },
  {
   "cell_type": "code",
   "execution_count": 140,
   "metadata": {},
   "outputs": [],
   "source": [
    "# Assign tier values based on the tier classification\n",
    "# - If a college is in 'Tier1', set its value to 3\n",
    "# - If a college is in 'Tier2', set its value to 2\n",
    "# - If a college is in 'Tier3', set its value to 1\n",
    "# Tier1 college get value of 3 and tier 3 of 1 because tier1 college has higher weightage then 2 and 3\n",
    "\n",
    "for item in df.College:\n",
    "    if item in Tier1:\n",
    "        df[\"College\"].replace(item,3,inplace=True)\n",
    "    elif item in Tier2:\n",
    "        df[\"College\"].replace(item,2,inplace=True)\n",
    "    elif item in Tier3:\n",
    "        df[\"College\"].replace(item,1,inplace=True)"
   ]
  },
  {
   "cell_type": "code",
   "execution_count": 141,
   "metadata": {},
   "outputs": [
    {
     "data": {
      "text/html": [
       "<div>\n",
       "<style scoped>\n",
       "    .dataframe tbody tr th:only-of-type {\n",
       "        vertical-align: middle;\n",
       "    }\n",
       "\n",
       "    .dataframe tbody tr th {\n",
       "        vertical-align: top;\n",
       "    }\n",
       "\n",
       "    .dataframe thead th {\n",
       "        text-align: right;\n",
       "    }\n",
       "</style>\n",
       "<table border=\"1\" class=\"dataframe\">\n",
       "  <thead>\n",
       "    <tr style=\"text-align: right;\">\n",
       "      <th></th>\n",
       "      <th>College</th>\n",
       "      <th>City</th>\n",
       "      <th>Role</th>\n",
       "      <th>Previous CTC</th>\n",
       "      <th>Previous job change</th>\n",
       "      <th>Graduation Marks</th>\n",
       "      <th>EXP (Month)</th>\n",
       "      <th>CTC</th>\n",
       "    </tr>\n",
       "  </thead>\n",
       "  <tbody>\n",
       "    <tr>\n",
       "      <th>0</th>\n",
       "      <td>2</td>\n",
       "      <td>Asansol</td>\n",
       "      <td>Manager</td>\n",
       "      <td>55523.0</td>\n",
       "      <td>3</td>\n",
       "      <td>66</td>\n",
       "      <td>19</td>\n",
       "      <td>71406.58</td>\n",
       "    </tr>\n",
       "    <tr>\n",
       "      <th>1</th>\n",
       "      <td>2</td>\n",
       "      <td>Ajmer</td>\n",
       "      <td>Executive</td>\n",
       "      <td>57081.0</td>\n",
       "      <td>1</td>\n",
       "      <td>84</td>\n",
       "      <td>18</td>\n",
       "      <td>68005.87</td>\n",
       "    </tr>\n",
       "    <tr>\n",
       "      <th>2</th>\n",
       "      <td>1</td>\n",
       "      <td>Rajpur Sonarpur</td>\n",
       "      <td>Executive</td>\n",
       "      <td>60347.0</td>\n",
       "      <td>2</td>\n",
       "      <td>52</td>\n",
       "      <td>28</td>\n",
       "      <td>76764.02</td>\n",
       "    </tr>\n",
       "    <tr>\n",
       "      <th>3</th>\n",
       "      <td>1</td>\n",
       "      <td>Ajmer</td>\n",
       "      <td>Executive</td>\n",
       "      <td>49010.0</td>\n",
       "      <td>2</td>\n",
       "      <td>81</td>\n",
       "      <td>33</td>\n",
       "      <td>82092.39</td>\n",
       "    </tr>\n",
       "    <tr>\n",
       "      <th>4</th>\n",
       "      <td>3</td>\n",
       "      <td>Durgapur</td>\n",
       "      <td>Executive</td>\n",
       "      <td>57879.0</td>\n",
       "      <td>4</td>\n",
       "      <td>74</td>\n",
       "      <td>32</td>\n",
       "      <td>73878.10</td>\n",
       "    </tr>\n",
       "  </tbody>\n",
       "</table>\n",
       "</div>"
      ],
      "text/plain": [
       "   College             City       Role  Previous CTC  Previous job change  \\\n",
       "0        2          Asansol    Manager       55523.0                    3   \n",
       "1        2            Ajmer  Executive       57081.0                    1   \n",
       "2        1  Rajpur Sonarpur  Executive       60347.0                    2   \n",
       "3        1            Ajmer  Executive       49010.0                    2   \n",
       "4        3         Durgapur  Executive       57879.0                    4   \n",
       "\n",
       "   Graduation Marks  EXP (Month)       CTC  \n",
       "0                66           19  71406.58  \n",
       "1                84           18  68005.87  \n",
       "2                52           28  76764.02  \n",
       "3                81           33  82092.39  \n",
       "4                74           32  73878.10  "
      ]
     },
     "execution_count": 141,
     "metadata": {},
     "output_type": "execute_result"
    }
   ],
   "source": [
    "df.head()    # Overview of Data"
   ]
  },
  {
   "cell_type": "code",
   "execution_count": 142,
   "metadata": {},
   "outputs": [],
   "source": [
    "# Extracting lists of metropolitan and non-metropolitan cities\n",
    "metro = cities['Metrio City'].tolist()\n",
    "non_metro_cities = cities['non-metro cities'].tolist()"
   ]
  },
  {
   "cell_type": "code",
   "execution_count": 143,
   "metadata": {},
   "outputs": [],
   "source": [
    "# Repeating previpus steps and assigning value as 1 if city is merto and 0 if non metro\n",
    "df['City'] = np.where(df['City'].isin(metro), 1,\n",
    "                      np.where(df['City'].isin(non_metro_cities), 0, df['City']))"
   ]
  },
  {
   "cell_type": "code",
   "execution_count": 144,
   "metadata": {},
   "outputs": [
    {
     "data": {
      "text/html": [
       "<div>\n",
       "<style scoped>\n",
       "    .dataframe tbody tr th:only-of-type {\n",
       "        vertical-align: middle;\n",
       "    }\n",
       "\n",
       "    .dataframe tbody tr th {\n",
       "        vertical-align: top;\n",
       "    }\n",
       "\n",
       "    .dataframe thead th {\n",
       "        text-align: right;\n",
       "    }\n",
       "</style>\n",
       "<table border=\"1\" class=\"dataframe\">\n",
       "  <thead>\n",
       "    <tr style=\"text-align: right;\">\n",
       "      <th></th>\n",
       "      <th>College</th>\n",
       "      <th>City</th>\n",
       "      <th>Role</th>\n",
       "      <th>Previous CTC</th>\n",
       "      <th>Previous job change</th>\n",
       "      <th>Graduation Marks</th>\n",
       "      <th>EXP (Month)</th>\n",
       "      <th>CTC</th>\n",
       "    </tr>\n",
       "  </thead>\n",
       "  <tbody>\n",
       "    <tr>\n",
       "      <th>0</th>\n",
       "      <td>2</td>\n",
       "      <td>0</td>\n",
       "      <td>Manager</td>\n",
       "      <td>55523.0</td>\n",
       "      <td>3</td>\n",
       "      <td>66</td>\n",
       "      <td>19</td>\n",
       "      <td>71406.58</td>\n",
       "    </tr>\n",
       "    <tr>\n",
       "      <th>1</th>\n",
       "      <td>2</td>\n",
       "      <td>0</td>\n",
       "      <td>Executive</td>\n",
       "      <td>57081.0</td>\n",
       "      <td>1</td>\n",
       "      <td>84</td>\n",
       "      <td>18</td>\n",
       "      <td>68005.87</td>\n",
       "    </tr>\n",
       "    <tr>\n",
       "      <th>2</th>\n",
       "      <td>1</td>\n",
       "      <td>0</td>\n",
       "      <td>Executive</td>\n",
       "      <td>60347.0</td>\n",
       "      <td>2</td>\n",
       "      <td>52</td>\n",
       "      <td>28</td>\n",
       "      <td>76764.02</td>\n",
       "    </tr>\n",
       "    <tr>\n",
       "      <th>3</th>\n",
       "      <td>1</td>\n",
       "      <td>0</td>\n",
       "      <td>Executive</td>\n",
       "      <td>49010.0</td>\n",
       "      <td>2</td>\n",
       "      <td>81</td>\n",
       "      <td>33</td>\n",
       "      <td>82092.39</td>\n",
       "    </tr>\n",
       "    <tr>\n",
       "      <th>4</th>\n",
       "      <td>3</td>\n",
       "      <td>0</td>\n",
       "      <td>Executive</td>\n",
       "      <td>57879.0</td>\n",
       "      <td>4</td>\n",
       "      <td>74</td>\n",
       "      <td>32</td>\n",
       "      <td>73878.10</td>\n",
       "    </tr>\n",
       "  </tbody>\n",
       "</table>\n",
       "</div>"
      ],
      "text/plain": [
       "   College City       Role  Previous CTC  Previous job change  \\\n",
       "0        2    0    Manager       55523.0                    3   \n",
       "1        2    0  Executive       57081.0                    1   \n",
       "2        1    0  Executive       60347.0                    2   \n",
       "3        1    0  Executive       49010.0                    2   \n",
       "4        3    0  Executive       57879.0                    4   \n",
       "\n",
       "   Graduation Marks  EXP (Month)       CTC  \n",
       "0                66           19  71406.58  \n",
       "1                84           18  68005.87  \n",
       "2                52           28  76764.02  \n",
       "3                81           33  82092.39  \n",
       "4                74           32  73878.10  "
      ]
     },
     "execution_count": 144,
     "metadata": {},
     "output_type": "execute_result"
    }
   ],
   "source": [
    "df.head()"
   ]
  },
  {
   "cell_type": "code",
   "execution_count": 145,
   "metadata": {},
   "outputs": [],
   "source": [
    "# Converting Categorical column 'Role' into numeri\n",
    "df = pd.get_dummies(df, columns=['Role'], drop_first=True)"
   ]
  },
  {
   "cell_type": "code",
   "execution_count": 146,
   "metadata": {},
   "outputs": [
    {
     "data": {
      "text/plain": [
       "College                0\n",
       "City                   0\n",
       "Previous CTC           0\n",
       "Previous job change    0\n",
       "Graduation Marks       0\n",
       "EXP (Month)            0\n",
       "CTC                    0\n",
       "Role_Manager           0\n",
       "dtype: int64"
      ]
     },
     "execution_count": 146,
     "metadata": {},
     "output_type": "execute_result"
    }
   ],
   "source": [
    "# Check for missing values in the DataFrame\n",
    "df.isna().sum()"
   ]
  },
  {
   "cell_type": "code",
   "execution_count": 147,
   "metadata": {},
   "outputs": [
    {
     "name": "stdout",
     "output_type": "stream",
     "text": [
      "<class 'pandas.core.frame.DataFrame'>\n",
      "RangeIndex: 1589 entries, 0 to 1588\n",
      "Data columns (total 8 columns):\n",
      " #   Column               Non-Null Count  Dtype  \n",
      "---  ------               --------------  -----  \n",
      " 0   College              1589 non-null   int64  \n",
      " 1   City                 1589 non-null   object \n",
      " 2   Previous CTC         1589 non-null   float64\n",
      " 3   Previous job change  1589 non-null   int64  \n",
      " 4   Graduation Marks     1589 non-null   int64  \n",
      " 5   EXP (Month)          1589 non-null   int64  \n",
      " 6   CTC                  1589 non-null   float64\n",
      " 7   Role_Manager         1589 non-null   uint8  \n",
      "dtypes: float64(2), int64(4), object(1), uint8(1)\n",
      "memory usage: 88.6+ KB\n"
     ]
    }
   ],
   "source": [
    "# Get information about the DataFrame\n",
    "df.info()"
   ]
  },
  {
   "cell_type": "code",
   "execution_count": 148,
   "metadata": {},
   "outputs": [
    {
     "data": {
      "text/html": [
       "<div>\n",
       "<style scoped>\n",
       "    .dataframe tbody tr th:only-of-type {\n",
       "        vertical-align: middle;\n",
       "    }\n",
       "\n",
       "    .dataframe tbody tr th {\n",
       "        vertical-align: top;\n",
       "    }\n",
       "\n",
       "    .dataframe thead th {\n",
       "        text-align: right;\n",
       "    }\n",
       "</style>\n",
       "<table border=\"1\" class=\"dataframe\">\n",
       "  <thead>\n",
       "    <tr style=\"text-align: right;\">\n",
       "      <th></th>\n",
       "      <th>College</th>\n",
       "      <th>Previous CTC</th>\n",
       "      <th>Previous job change</th>\n",
       "      <th>Graduation Marks</th>\n",
       "      <th>EXP (Month)</th>\n",
       "      <th>CTC</th>\n",
       "      <th>Role_Manager</th>\n",
       "    </tr>\n",
       "  </thead>\n",
       "  <tbody>\n",
       "    <tr>\n",
       "      <th>count</th>\n",
       "      <td>1589.000000</td>\n",
       "      <td>1589.000000</td>\n",
       "      <td>1589.000000</td>\n",
       "      <td>1589.000000</td>\n",
       "      <td>1589.000000</td>\n",
       "      <td>1589.000000</td>\n",
       "      <td>1589.000000</td>\n",
       "    </tr>\n",
       "    <tr>\n",
       "      <th>mean</th>\n",
       "      <td>2.024544</td>\n",
       "      <td>55518.453744</td>\n",
       "      <td>2.528634</td>\n",
       "      <td>59.855255</td>\n",
       "      <td>39.044682</td>\n",
       "      <td>75353.278798</td>\n",
       "      <td>0.206419</td>\n",
       "    </tr>\n",
       "    <tr>\n",
       "      <th>std</th>\n",
       "      <td>0.838330</td>\n",
       "      <td>6655.218445</td>\n",
       "      <td>1.123918</td>\n",
       "      <td>14.935139</td>\n",
       "      <td>14.108875</td>\n",
       "      <td>12587.288237</td>\n",
       "      <td>0.404862</td>\n",
       "    </tr>\n",
       "    <tr>\n",
       "      <th>min</th>\n",
       "      <td>1.000000</td>\n",
       "      <td>36990.000000</td>\n",
       "      <td>1.000000</td>\n",
       "      <td>35.000000</td>\n",
       "      <td>18.000000</td>\n",
       "      <td>53020.320000</td>\n",
       "      <td>0.000000</td>\n",
       "    </tr>\n",
       "    <tr>\n",
       "      <th>25%</th>\n",
       "      <td>1.000000</td>\n",
       "      <td>50518.000000</td>\n",
       "      <td>2.000000</td>\n",
       "      <td>46.000000</td>\n",
       "      <td>26.000000</td>\n",
       "      <td>66902.350000</td>\n",
       "      <td>0.000000</td>\n",
       "    </tr>\n",
       "    <tr>\n",
       "      <th>50%</th>\n",
       "      <td>2.000000</td>\n",
       "      <td>55291.000000</td>\n",
       "      <td>3.000000</td>\n",
       "      <td>60.000000</td>\n",
       "      <td>39.000000</td>\n",
       "      <td>73028.670000</td>\n",
       "      <td>0.000000</td>\n",
       "    </tr>\n",
       "    <tr>\n",
       "      <th>75%</th>\n",
       "      <td>3.000000</td>\n",
       "      <td>60109.000000</td>\n",
       "      <td>4.000000</td>\n",
       "      <td>73.000000</td>\n",
       "      <td>51.000000</td>\n",
       "      <td>80588.670000</td>\n",
       "      <td>0.000000</td>\n",
       "    </tr>\n",
       "    <tr>\n",
       "      <th>max</th>\n",
       "      <td>3.000000</td>\n",
       "      <td>77911.000000</td>\n",
       "      <td>4.000000</td>\n",
       "      <td>85.000000</td>\n",
       "      <td>64.000000</td>\n",
       "      <td>123416.990000</td>\n",
       "      <td>1.000000</td>\n",
       "    </tr>\n",
       "  </tbody>\n",
       "</table>\n",
       "</div>"
      ],
      "text/plain": [
       "           College  Previous CTC  Previous job change  Graduation Marks  \\\n",
       "count  1589.000000   1589.000000          1589.000000       1589.000000   \n",
       "mean      2.024544  55518.453744             2.528634         59.855255   \n",
       "std       0.838330   6655.218445             1.123918         14.935139   \n",
       "min       1.000000  36990.000000             1.000000         35.000000   \n",
       "25%       1.000000  50518.000000             2.000000         46.000000   \n",
       "50%       2.000000  55291.000000             3.000000         60.000000   \n",
       "75%       3.000000  60109.000000             4.000000         73.000000   \n",
       "max       3.000000  77911.000000             4.000000         85.000000   \n",
       "\n",
       "       EXP (Month)            CTC  Role_Manager  \n",
       "count  1589.000000    1589.000000   1589.000000  \n",
       "mean     39.044682   75353.278798      0.206419  \n",
       "std      14.108875   12587.288237      0.404862  \n",
       "min      18.000000   53020.320000      0.000000  \n",
       "25%      26.000000   66902.350000      0.000000  \n",
       "50%      39.000000   73028.670000      0.000000  \n",
       "75%      51.000000   80588.670000      0.000000  \n",
       "max      64.000000  123416.990000      1.000000  "
      ]
     },
     "execution_count": 148,
     "metadata": {},
     "output_type": "execute_result"
    }
   ],
   "source": [
    "# Get statistical information about numerical data\n",
    "df.describe()"
   ]
  },
  {
   "cell_type": "markdown",
   "metadata": {},
   "source": [
    "## Detection of Outliers"
   ]
  },
  {
   "cell_type": "code",
   "execution_count": 149,
   "metadata": {},
   "outputs": [
    {
     "data": {
      "text/plain": [
       "<AxesSubplot:xlabel='Previous CTC'>"
      ]
     },
     "execution_count": 149,
     "metadata": {},
     "output_type": "execute_result"
    },
    {
     "data": {
      "image/png": "[encoded data removed]",
      "text/plain": [
       "<Figure size 432x288 with 1 Axes>"
      ]
     },
     "metadata": {
      "needs_background": "light"
     },
     "output_type": "display_data"
    }
   ],
   "source": [
    "# Using seaborn library to plot box plot for detection of outliers\n",
    "sns.boxplot(x='Previous CTC', data=df)   "
   ]
  },
  {
   "cell_type": "code",
   "execution_count": 150,
   "metadata": {},
   "outputs": [
    {
     "data": {
      "text/plain": [
       "<AxesSubplot:xlabel='Graduation Marks'>"
      ]
     },
     "execution_count": 150,
     "metadata": {},
     "output_type": "execute_result"
    },
    {
     "data": {
      "image/png": "[encoded data removed]",
      "text/plain": [
       "<Figure size 432x288 with 1 Axes>"
      ]
     },
     "metadata": {
      "needs_background": "light"
     },
     "output_type": "display_data"
    }
   ],
   "source": [
    "# Creating a box plot for the 'Graduation Marks' column to visualize its distribution\n",
    "sns.boxplot(x=df['Graduation Marks'])"
   ]
  },
  {
   "cell_type": "code",
   "execution_count": 151,
   "metadata": {},
   "outputs": [
    {
     "data": {
      "text/plain": [
       "<AxesSubplot:xlabel='EXP (Month)'>"
      ]
     },
     "execution_count": 151,
     "metadata": {},
     "output_type": "execute_result"
    },
    {
     "data": {
      "image/png": "[encoded data removed]",
      "text/plain": [
       "<Figure size 432x288 with 1 Axes>"
      ]
     },
     "metadata": {
      "needs_background": "light"
     },
     "output_type": "display_data"
    }
   ],
   "source": [
    "# Creating a box plot for the 'EXP (Month)' column to visualize its distribution\n",
    "sns.boxplot(x=df['EXP (Month)'])"
   ]
  },
  {
   "cell_type": "code",
   "execution_count": 152,
   "metadata": {},
   "outputs": [
    {
     "data": {
      "text/plain": [
       "<AxesSubplot:xlabel='CTC'>"
      ]
     },
     "execution_count": 152,
     "metadata": {},
     "output_type": "execute_result"
    },
    {
     "data": {
      "image/png": "[encoded data removed]",
      "text/plain": [
       "<Figure size 432x288 with 1 Axes>"
      ]
     },
     "metadata": {
      "needs_background": "light"
     },
     "output_type": "display_data"
    }
   ],
   "source": [
    "# Creating a box plot for the 'CTC' column\n",
    "sns.boxplot(x=df['CTC'])"
   ]
  },
  {
   "cell_type": "code",
   "execution_count": 153,
   "metadata": {},
   "outputs": [],
   "source": [
    "# Calculating the correlation matrix between variables\n",
    "corr = df.corr()"
   ]
  },
  {
   "cell_type": "code",
   "execution_count": 154,
   "metadata": {},
   "outputs": [
    {
     "data": {
      "text/html": [
       "<div>\n",
       "<style scoped>\n",
       "    .dataframe tbody tr th:only-of-type {\n",
       "        vertical-align: middle;\n",
       "    }\n",
       "\n",
       "    .dataframe tbody tr th {\n",
       "        vertical-align: top;\n",
       "    }\n",
       "\n",
       "    .dataframe thead th {\n",
       "        text-align: right;\n",
       "    }\n",
       "</style>\n",
       "<table border=\"1\" class=\"dataframe\">\n",
       "  <thead>\n",
       "    <tr style=\"text-align: right;\">\n",
       "      <th></th>\n",
       "      <th>College</th>\n",
       "      <th>Previous CTC</th>\n",
       "      <th>Previous job change</th>\n",
       "      <th>Graduation Marks</th>\n",
       "      <th>EXP (Month)</th>\n",
       "      <th>CTC</th>\n",
       "      <th>Role_Manager</th>\n",
       "    </tr>\n",
       "  </thead>\n",
       "  <tbody>\n",
       "    <tr>\n",
       "      <th>College</th>\n",
       "      <td>1.000000</td>\n",
       "      <td>-0.041979</td>\n",
       "      <td>0.055060</td>\n",
       "      <td>-0.003539</td>\n",
       "      <td>-0.011752</td>\n",
       "      <td>0.029592</td>\n",
       "      <td>0.014749</td>\n",
       "    </tr>\n",
       "    <tr>\n",
       "      <th>Previous CTC</th>\n",
       "      <td>-0.041979</td>\n",
       "      <td>1.000000</td>\n",
       "      <td>0.005756</td>\n",
       "      <td>-0.032976</td>\n",
       "      <td>0.119163</td>\n",
       "      <td>0.258000</td>\n",
       "      <td>0.012321</td>\n",
       "    </tr>\n",
       "    <tr>\n",
       "      <th>Previous job change</th>\n",
       "      <td>0.055060</td>\n",
       "      <td>0.005756</td>\n",
       "      <td>1.000000</td>\n",
       "      <td>0.019267</td>\n",
       "      <td>0.023488</td>\n",
       "      <td>0.011370</td>\n",
       "      <td>-0.017150</td>\n",
       "    </tr>\n",
       "    <tr>\n",
       "      <th>Graduation Marks</th>\n",
       "      <td>-0.003539</td>\n",
       "      <td>-0.032976</td>\n",
       "      <td>0.019267</td>\n",
       "      <td>1.000000</td>\n",
       "      <td>-0.057061</td>\n",
       "      <td>-0.005450</td>\n",
       "      <td>0.017858</td>\n",
       "    </tr>\n",
       "    <tr>\n",
       "      <th>EXP (Month)</th>\n",
       "      <td>-0.011752</td>\n",
       "      <td>0.119163</td>\n",
       "      <td>0.023488</td>\n",
       "      <td>-0.057061</td>\n",
       "      <td>1.000000</td>\n",
       "      <td>0.301115</td>\n",
       "      <td>-0.026751</td>\n",
       "    </tr>\n",
       "    <tr>\n",
       "      <th>CTC</th>\n",
       "      <td>0.029592</td>\n",
       "      <td>0.258000</td>\n",
       "      <td>0.011370</td>\n",
       "      <td>-0.005450</td>\n",
       "      <td>0.301115</td>\n",
       "      <td>1.000000</td>\n",
       "      <td>0.621311</td>\n",
       "    </tr>\n",
       "    <tr>\n",
       "      <th>Role_Manager</th>\n",
       "      <td>0.014749</td>\n",
       "      <td>0.012321</td>\n",
       "      <td>-0.017150</td>\n",
       "      <td>0.017858</td>\n",
       "      <td>-0.026751</td>\n",
       "      <td>0.621311</td>\n",
       "      <td>1.000000</td>\n",
       "    </tr>\n",
       "  </tbody>\n",
       "</table>\n",
       "</div>"
      ],
      "text/plain": [
       "                      College  Previous CTC  Previous job change  \\\n",
       "College              1.000000     -0.041979             0.055060   \n",
       "Previous CTC        -0.041979      1.000000             0.005756   \n",
       "Previous job change  0.055060      0.005756             1.000000   \n",
       "Graduation Marks    -0.003539     -0.032976             0.019267   \n",
       "EXP (Month)         -0.011752      0.119163             0.023488   \n",
       "CTC                  0.029592      0.258000             0.011370   \n",
       "Role_Manager         0.014749      0.012321            -0.017150   \n",
       "\n",
       "                     Graduation Marks  EXP (Month)       CTC  Role_Manager  \n",
       "College                     -0.003539    -0.011752  0.029592      0.014749  \n",
       "Previous CTC                -0.032976     0.119163  0.258000      0.012321  \n",
       "Previous job change          0.019267     0.023488  0.011370     -0.017150  \n",
       "Graduation Marks             1.000000    -0.057061 -0.005450      0.017858  \n",
       "EXP (Month)                 -0.057061     1.000000  0.301115     -0.026751  \n",
       "CTC                         -0.005450     0.301115  1.000000      0.621311  \n",
       "Role_Manager                 0.017858    -0.026751  0.621311      1.000000  "
      ]
     },
     "execution_count": 154,
     "metadata": {},
     "output_type": "execute_result"
    }
   ],
   "source": [
    "# Displaying the correlation matrix\n",
    "corr"
   ]
  },
  {
   "cell_type": "code",
   "execution_count": 155,
   "metadata": {},
   "outputs": [
    {
     "data": {
      "text/plain": [
       "<AxesSubplot:>"
      ]
     },
     "execution_count": 155,
     "metadata": {},
     "output_type": "execute_result"
    },
    {
     "data": {
      "image/png": "[encoded data removed]",
      "text/plain": [
       "<Figure size 432x288 with 2 Axes>"
      ]
     },
     "metadata": {
      "needs_background": "light"
     },
     "output_type": "display_data"
    }
   ],
   "source": [
    "# Visual representation of the correlation matrix\n",
    "# Creating a heatmap to visualize the correlations\n",
    "sns.heatmap(data=corr, annot=True, cmap='viridis', fmt=\".2f\", linewidths=0.5, cbar_kws={\"shrink\": .8})"
   ]
  },
  {
   "cell_type": "markdown",
   "metadata": {},
   "source": [
    "## Outlier Analysis for \"Previous CTC\""
   ]
  },
  {
   "cell_type": "markdown",
   "metadata": {},
   "source": [
    "- **In the DataFrame, we have identified the following outliers in the \"Previous CTC\" column.**"
   ]
  },
  {
   "cell_type": "code",
   "execution_count": 156,
   "metadata": {},
   "outputs": [],
   "source": [
    "percent25 = df['Previous CTC'].quantile(0.25)\n",
    "percent75 = df['Previous CTC'].quantile(0.75)"
   ]
  },
  {
   "cell_type": "code",
   "execution_count": 157,
   "metadata": {},
   "outputs": [],
   "source": [
    "iqr = percent75 - percent25"
   ]
  },
  {
   "cell_type": "code",
   "execution_count": 158,
   "metadata": {},
   "outputs": [],
   "source": [
    "upper_limit = percent75 + 1.5 * iqr\n",
    "lower_limit = percent25 - 1.5 * iqr"
   ]
  },
  {
   "cell_type": "code",
   "execution_count": 159,
   "metadata": {},
   "outputs": [
    {
     "name": "stdout",
     "output_type": "stream",
     "text": [
      "25th Percentile (Q1): 50518.0\n",
      "75th Percentile (Q3): 60109.0\n",
      "Interquartile Range (IQR): 9591.0\n",
      "Upper Limit for Outliers: 74495.5\n",
      "Lower Limit for Outliers: 36131.5\n"
     ]
    }
   ],
   "source": [
    "# Display the calculated values\n",
    "print(\"25th Percentile (Q1):\", percent25)\n",
    "print(\"75th Percentile (Q3):\", percent75)\n",
    "print(\"Interquartile Range (IQR):\", iqr)\n",
    "print(\"Upper Limit for Outliers:\", upper_limit)\n",
    "print(\"Lower Limit for Outliers:\", lower_limit)"
   ]
  },
  {
   "cell_type": "markdown",
   "metadata": {},
   "source": [
    "**Upon reviewing these outliers, it's evident that they are not extreme values. Therefore, retaining this data in the dataset is unlikely to significantly impact the performance of the model.**"
   ]
  },
  {
   "cell_type": "markdown",
   "metadata": {},
   "source": [
    "## Outliers Analysis for \"CTC column\""
   ]
  },
  {
   "cell_type": "code",
   "execution_count": 160,
   "metadata": {},
   "outputs": [],
   "source": [
    "percent25 = df['CTC'].quantile(0.25)\n",
    "percent75 = df['CTC'].quantile(0.75)"
   ]
  },
  {
   "cell_type": "code",
   "execution_count": 161,
   "metadata": {},
   "outputs": [],
   "source": [
    "iqr = percent75 - percent25"
   ]
  },
  {
   "cell_type": "code",
   "execution_count": 162,
   "metadata": {},
   "outputs": [],
   "source": [
    "upper_limit = percent75 + 1.5 * iqr\n",
    "lower_limit = percent25 - 1.5 * iqr"
   ]
  },
  {
   "cell_type": "code",
   "execution_count": 163,
   "metadata": {
    "scrolled": true
   },
   "outputs": [
    {
     "name": "stdout",
     "output_type": "stream",
     "text": [
      "25th Percentile (Q1): 66902.35\n",
      "75th Percentile (Q3): 80588.67\n",
      "Interquartile Range (IQR): 13686.319999999992\n",
      "Upper Limit for Outliers: 101118.15\n",
      "Lower Limit for Outliers: 46372.87000000002\n"
     ]
    }
   ],
   "source": [
    "# Display the calculated values\n",
    "print(\"25th Percentile (Q1):\", percent25)\n",
    "print(\"75th Percentile (Q3):\", percent75)\n",
    "print(\"Interquartile Range (IQR):\", iqr)\n",
    "print(\"Upper Limit for Outliers:\", upper_limit)\n",
    "print(\"Lower Limit for Outliers:\", lower_limit)"
   ]
  },
  {
   "cell_type": "code",
   "execution_count": 164,
   "metadata": {},
   "outputs": [
    {
     "data": {
      "text/html": [
       "<div>\n",
       "<style scoped>\n",
       "    .dataframe tbody tr th:only-of-type {\n",
       "        vertical-align: middle;\n",
       "    }\n",
       "\n",
       "    .dataframe tbody tr th {\n",
       "        vertical-align: top;\n",
       "    }\n",
       "\n",
       "    .dataframe thead th {\n",
       "        text-align: right;\n",
       "    }\n",
       "</style>\n",
       "<table border=\"1\" class=\"dataframe\">\n",
       "  <thead>\n",
       "    <tr style=\"text-align: right;\">\n",
       "      <th></th>\n",
       "      <th>College</th>\n",
       "      <th>City</th>\n",
       "      <th>Previous CTC</th>\n",
       "      <th>Previous job change</th>\n",
       "      <th>Graduation Marks</th>\n",
       "      <th>EXP (Month)</th>\n",
       "      <th>CTC</th>\n",
       "      <th>Role_Manager</th>\n",
       "    </tr>\n",
       "  </thead>\n",
       "  <tbody>\n",
       "    <tr>\n",
       "      <th>14</th>\n",
       "      <td>1</td>\n",
       "      <td>0</td>\n",
       "      <td>66487.0</td>\n",
       "      <td>1</td>\n",
       "      <td>50</td>\n",
       "      <td>27</td>\n",
       "      <td>103595.83</td>\n",
       "      <td>1</td>\n",
       "    </tr>\n",
       "    <tr>\n",
       "      <th>29</th>\n",
       "      <td>2</td>\n",
       "      <td>0</td>\n",
       "      <td>65172.0</td>\n",
       "      <td>1</td>\n",
       "      <td>44</td>\n",
       "      <td>31</td>\n",
       "      <td>107138.14</td>\n",
       "      <td>1</td>\n",
       "    </tr>\n",
       "    <tr>\n",
       "      <th>30</th>\n",
       "      <td>3</td>\n",
       "      <td>0</td>\n",
       "      <td>58529.0</td>\n",
       "      <td>1</td>\n",
       "      <td>65</td>\n",
       "      <td>22</td>\n",
       "      <td>102763.61</td>\n",
       "      <td>1</td>\n",
       "    </tr>\n",
       "    <tr>\n",
       "      <th>34</th>\n",
       "      <td>3</td>\n",
       "      <td>0</td>\n",
       "      <td>60894.0</td>\n",
       "      <td>4</td>\n",
       "      <td>80</td>\n",
       "      <td>28</td>\n",
       "      <td>118651.89</td>\n",
       "      <td>1</td>\n",
       "    </tr>\n",
       "    <tr>\n",
       "      <th>38</th>\n",
       "      <td>2</td>\n",
       "      <td>0</td>\n",
       "      <td>57485.0</td>\n",
       "      <td>1</td>\n",
       "      <td>77</td>\n",
       "      <td>35</td>\n",
       "      <td>103774.34</td>\n",
       "      <td>1</td>\n",
       "    </tr>\n",
       "    <tr>\n",
       "      <th>...</th>\n",
       "      <td>...</td>\n",
       "      <td>...</td>\n",
       "      <td>...</td>\n",
       "      <td>...</td>\n",
       "      <td>...</td>\n",
       "      <td>...</td>\n",
       "      <td>...</td>\n",
       "      <td>...</td>\n",
       "    </tr>\n",
       "    <tr>\n",
       "      <th>1447</th>\n",
       "      <td>1</td>\n",
       "      <td>0</td>\n",
       "      <td>59099.0</td>\n",
       "      <td>2</td>\n",
       "      <td>67</td>\n",
       "      <td>63</td>\n",
       "      <td>103305.30</td>\n",
       "      <td>1</td>\n",
       "    </tr>\n",
       "    <tr>\n",
       "      <th>1461</th>\n",
       "      <td>3</td>\n",
       "      <td>0</td>\n",
       "      <td>55440.0</td>\n",
       "      <td>4</td>\n",
       "      <td>72</td>\n",
       "      <td>44</td>\n",
       "      <td>112826.26</td>\n",
       "      <td>1</td>\n",
       "    </tr>\n",
       "    <tr>\n",
       "      <th>1513</th>\n",
       "      <td>1</td>\n",
       "      <td>0</td>\n",
       "      <td>58639.0</td>\n",
       "      <td>2</td>\n",
       "      <td>46</td>\n",
       "      <td>63</td>\n",
       "      <td>109108.12</td>\n",
       "      <td>1</td>\n",
       "    </tr>\n",
       "    <tr>\n",
       "      <th>1523</th>\n",
       "      <td>2</td>\n",
       "      <td>1</td>\n",
       "      <td>70258.0</td>\n",
       "      <td>4</td>\n",
       "      <td>38</td>\n",
       "      <td>36</td>\n",
       "      <td>115126.75</td>\n",
       "      <td>1</td>\n",
       "    </tr>\n",
       "    <tr>\n",
       "      <th>1580</th>\n",
       "      <td>3</td>\n",
       "      <td>1</td>\n",
       "      <td>53027.0</td>\n",
       "      <td>4</td>\n",
       "      <td>69</td>\n",
       "      <td>55</td>\n",
       "      <td>106846.34</td>\n",
       "      <td>0</td>\n",
       "    </tr>\n",
       "  </tbody>\n",
       "</table>\n",
       "<p>94 rows × 8 columns</p>\n",
       "</div>"
      ],
      "text/plain": [
       "      College City  Previous CTC  Previous job change  Graduation Marks  \\\n",
       "14          1    0       66487.0                    1                50   \n",
       "29          2    0       65172.0                    1                44   \n",
       "30          3    0       58529.0                    1                65   \n",
       "34          3    0       60894.0                    4                80   \n",
       "38          2    0       57485.0                    1                77   \n",
       "...       ...  ...           ...                  ...               ...   \n",
       "1447        1    0       59099.0                    2                67   \n",
       "1461        3    0       55440.0                    4                72   \n",
       "1513        1    0       58639.0                    2                46   \n",
       "1523        2    1       70258.0                    4                38   \n",
       "1580        3    1       53027.0                    4                69   \n",
       "\n",
       "      EXP (Month)        CTC  Role_Manager  \n",
       "14             27  103595.83             1  \n",
       "29             31  107138.14             1  \n",
       "30             22  102763.61             1  \n",
       "34             28  118651.89             1  \n",
       "38             35  103774.34             1  \n",
       "...           ...        ...           ...  \n",
       "1447           63  103305.30             1  \n",
       "1461           44  112826.26             1  \n",
       "1513           63  109108.12             1  \n",
       "1523           36  115126.75             1  \n",
       "1580           55  106846.34             0  \n",
       "\n",
       "[94 rows x 8 columns]"
      ]
     },
     "execution_count": 164,
     "metadata": {},
     "output_type": "execute_result"
    }
   ],
   "source": [
    "df[(df['CTC'] < lower_limit) | (df['CTC'] > upper_limit)]"
   ]
  },
  {
   "cell_type": "markdown",
   "metadata": {},
   "source": [
    "**As seen above, these are some outliers in the 'CTC' column, but they are not extreme enough to significantly impact predictions. Therefore, in my opinion, keeping these outliers in the data is more useful than removing them.**"
   ]
  },
  {
   "cell_type": "markdown",
   "metadata": {},
   "source": [
    "### Conclusion on Outlier Detection"
   ]
  },
  {
   "cell_type": "markdown",
   "metadata": {},
   "source": [
    "- **Our analysis reveals that there are no extreme outliers in the dataset that would significantly impact the performance of our machine learning model. The results from the describe function confirm that there are no extreme outliers present.**\n",
    "- **While we identified some outliers in the \"Previous CTC\" and \"CTC\" columns, I believe these will not adversely affect the model’s predictions.**\n",
    "- **Additionally, the HeatMap visualization indicates meaningful relationships between \"Role_Manager\" and \"CTC,\" as well as between \"Previous CTC\" and \"CTC.\"**"
   ]
  },
  {
   "cell_type": "markdown",
   "metadata": {},
   "source": [
    "## Applying Machine Learning Models Without Feature Scaling"
   ]
  },
  {
   "cell_type": "markdown",
   "metadata": {},
   "source": [
    "- **In this section, I will apply various machine learning algorithms without any scaling to evaluate their performance.**"
   ]
  },
  {
   "cell_type": "code",
   "execution_count": 165,
   "metadata": {},
   "outputs": [],
   "source": [
    "# Importing Necessary Libraries\n",
    "# We need these libraries for data handling and modeling.\n",
    "from sklearn.model_selection import train_test_split\n",
    "from sklearn.linear_model import LinearRegression, Ridge, Lasso\n",
    "from sklearn.metrics import r2_score, mean_absolute_error, mean_squared_error"
   ]
  },
  {
   "cell_type": "code",
   "execution_count": 166,
   "metadata": {},
   "outputs": [],
   "source": [
    "# Split Data into Features and Target\n",
    "# Here, we separate our features (X) from the target variable (y).\n",
    "X = df.loc[:, df.columns != 'CTC']\n",
    "y = df['CTC']"
   ]
  },
  {
   "cell_type": "code",
   "execution_count": 167,
   "metadata": {},
   "outputs": [],
   "source": [
    "# Split Data into Train and Test Sets\n",
    "# We'll use 80% of the data for training and 20% for testing.\n",
    "X_train, X_test, y_train, y_test = train_test_split(X, y, test_size=0.2, random_state=42)"
   ]
  },
  {
   "cell_type": "code",
   "execution_count": 168,
   "metadata": {},
   "outputs": [
    {
     "data": {
      "text/plain": [
       "1079     74059.06\n",
       "405      84692.16\n",
       "1492     75028.75\n",
       "239      71001.53\n",
       "610      62426.39\n",
       "          ...    \n",
       "1023     67435.46\n",
       "700      62927.79\n",
       "486      75143.25\n",
       "672      60479.67\n",
       "1303    105077.70\n",
       "Name: CTC, Length: 318, dtype: float64"
      ]
     },
     "execution_count": 168,
     "metadata": {},
     "output_type": "execute_result"
    }
   ],
   "source": [
    "# View Test Set Targets\n",
    "y_test"
   ]
  },
  {
   "cell_type": "markdown",
   "metadata": {},
   "source": [
    "- **Model Creation and Fitting (Linear Regression):**"
   ]
  },
  {
   "cell_type": "code",
   "execution_count": 169,
   "metadata": {},
   "outputs": [
    {
     "data": {
      "text/plain": [
       "LinearRegression()"
      ]
     },
     "execution_count": 169,
     "metadata": {},
     "output_type": "execute_result"
    }
   ],
   "source": [
    "linear_reg = LinearRegression()\n",
    "linear_reg.fit(X_train, y_train)"
   ]
  },
  {
   "cell_type": "markdown",
   "metadata": {},
   "source": [
    "- **Making Predictions:**"
   ]
  },
  {
   "cell_type": "code",
   "execution_count": 170,
   "metadata": {},
   "outputs": [],
   "source": [
    "linear_reg_pred = linear_reg.predict(X_test)"
   ]
  },
  {
   "cell_type": "markdown",
   "metadata": {},
   "source": [
    "- **Evaluation Metrics:**"
   ]
  },
  {
   "cell_type": "code",
   "execution_count": 171,
   "metadata": {},
   "outputs": [
    {
     "name": "stdout",
     "output_type": "stream",
     "text": [
      "r2_score: 0.5933517958385097\n",
      "MAE: 7191.231067500027\n",
      "MSE: 77362774.94956529\n"
     ]
    }
   ],
   "source": [
    "print(\"r2_score:\", r2_score(y_test, linear_reg_pred))\n",
    "print(\"MAE:\", mean_absolute_error(y_test, linear_reg_pred))\n",
    "print(\"MSE:\", mean_squared_error(y_test, linear_reg_pred))"
   ]
  },
  {
   "cell_type": "markdown",
   "metadata": {},
   "source": [
    "- **Model Coefficients and Intercept:**"
   ]
  },
  {
   "cell_type": "code",
   "execution_count": 172,
   "metadata": {
    "scrolled": false
   },
   "outputs": [
    {
     "name": "stdout",
     "output_type": "stream",
     "text": [
      "Coef: [5.17509158e+02 4.82800374e+02 4.22242899e-01 8.74331790e+00\n",
      " 1.94023127e+00 2.43718541e+02 1.86020838e+04]\n",
      "Intercept: 37159.5294966958\n"
     ]
    }
   ],
   "source": [
    "print(\"Coef:\", linear_reg.coef_)\n",
    "print(\"Intercept:\", linear_reg.intercept_)"
   ]
  },
  {
   "cell_type": "code",
   "execution_count": null,
   "metadata": {},
   "outputs": [],
   "source": []
  },
  {
   "cell_type": "markdown",
   "metadata": {},
   "source": [
    "- **Model Creation and Fitting (Ridge Regression):**"
   ]
  },
  {
   "cell_type": "code",
   "execution_count": 173,
   "metadata": {},
   "outputs": [
    {
     "data": {
      "text/plain": [
       "Ridge()"
      ]
     },
     "execution_count": 173,
     "metadata": {},
     "output_type": "execute_result"
    }
   ],
   "source": [
    "ridge = Ridge()\n",
    "ridge.fit(X_train, y_train)"
   ]
  },
  {
   "cell_type": "markdown",
   "metadata": {},
   "source": [
    "- **Making Predictions:**"
   ]
  },
  {
   "cell_type": "code",
   "execution_count": 174,
   "metadata": {},
   "outputs": [],
   "source": [
    "ridge_predictions = ridge.predict(X_test)"
   ]
  },
  {
   "cell_type": "markdown",
   "metadata": {},
   "source": [
    "- **Evaluation Metrics:**"
   ]
  },
  {
   "cell_type": "code",
   "execution_count": 175,
   "metadata": {},
   "outputs": [
    {
     "name": "stdout",
     "output_type": "stream",
     "text": [
      "r2_score: 0.5926580862926114\n",
      "MAE: 7198.215276305915\n",
      "MSE: 77494749.70054285\n"
     ]
    }
   ],
   "source": [
    "print(\"r2_score:\",r2_score(y_test, ridge_predictions))\n",
    "print(\"MAE:\", mean_absolute_error(y_test, ridge_predictions))\n",
    "print(\"MSE:\", mean_squared_error(y_test, ridge_predictions))"
   ]
  },
  {
   "cell_type": "markdown",
   "metadata": {},
   "source": [
    "- **Model Coefficients and Intercept:**"
   ]
  },
  {
   "cell_type": "code",
   "execution_count": 176,
   "metadata": {},
   "outputs": [
    {
     "name": "stdout",
     "output_type": "stream",
     "text": [
      "Coef: [5.16821192e+02 4.76920014e+02 4.22312444e-01 7.76895529e+00\n",
      " 1.98601422e+00 2.43648895e+02 1.85111317e+04]\n",
      "Intercept: 37180.93708654531\n"
     ]
    }
   ],
   "source": [
    "print(\"Coef:\",ridge.coef_)\n",
    "print(\"Intercept:\",ridge.intercept_)"
   ]
  },
  {
   "cell_type": "code",
   "execution_count": null,
   "metadata": {},
   "outputs": [],
   "source": []
  },
  {
   "cell_type": "markdown",
   "metadata": {},
   "source": [
    "### **Tuned Ridge Regression Model Evaluation**"
   ]
  },
  {
   "cell_type": "markdown",
   "metadata": {},
   "source": [
    "**In this notebook, we will create and evaluate a Ridge regression model. We will specify an alpha value and a solver, fit the model to the training data, make predictions, and evaluate the model's performance using various metrics.**"
   ]
  },
  {
   "cell_type": "markdown",
   "metadata": {},
   "source": [
    "**Create and Fit the Ridge Model:**"
   ]
  },
  {
   "cell_type": "code",
   "execution_count": 177,
   "metadata": {},
   "outputs": [
    {
     "data": {
      "text/plain": [
       "Ridge(alpha=0.3, solver='cholesky')"
      ]
     },
     "execution_count": 177,
     "metadata": {},
     "output_type": "execute_result"
    }
   ],
   "source": [
    "# Create a Ridge regression model with a specified alpha value and solver\n",
    "ridge_tuned = Ridge(alpha=0.3, solver='cholesky')\n",
    "\n",
    "# Fit the Ridge model to the training data\n",
    "ridge_tuned.fit(X_train, y_train)"
   ]
  },
  {
   "cell_type": "markdown",
   "metadata": {},
   "source": [
    "**Make Predictions**"
   ]
  },
  {
   "cell_type": "code",
   "execution_count": 178,
   "metadata": {},
   "outputs": [],
   "source": [
    "# Make predictions on the test data using the tuned Ridge model\n",
    "ridge_predict_tuned = ridge_tuned.predict(X_test)"
   ]
  },
  {
   "cell_type": "markdown",
   "metadata": {},
   "source": [
    "**Evaluate Model Performance**"
   ]
  },
  {
   "cell_type": "code",
   "execution_count": 179,
   "metadata": {},
   "outputs": [
    {
     "name": "stdout",
     "output_type": "stream",
     "text": [
      "r2_score: 0.5931445798927215\n",
      "MAE: 7193.333508538068\n",
      "MSE: 77402196.7407251\n"
     ]
    }
   ],
   "source": [
    "# Evaluate model performance using R-squared (R²) score\n",
    "print(\"r2_score:\",r2_score(y_test, ridge_predict_tuned))\n",
    "\n",
    "# Measure prediction accuracy using Mean Absolute Error (MAE)\n",
    "print(\"MAE:\", mean_absolute_error(y_test, ridge_predict_tuned))\n",
    "\n",
    "# Assess prediction accuracy using Mean Squared Error (MSE)\n",
    "print(\"MSE:\", mean_squared_error(y_test, ridge_predict_tuned))\n"
   ]
  },
  {
   "cell_type": "markdown",
   "metadata": {},
   "source": [
    "**Model Coefficients and Intercept**"
   ]
  },
  {
   "cell_type": "code",
   "execution_count": 180,
   "metadata": {},
   "outputs": [
    {
     "name": "stdout",
     "output_type": "stream",
     "text": [
      "Coefficients: [5.17302519e+02 4.81027864e+02 4.22263836e-01 8.44992996e+00\n",
      " 1.95401218e+00 2.43697575e+02 1.85747043e+04]\n",
      "Intercept: 37165.9743090738\n"
     ]
    }
   ],
   "source": [
    "# Print the coefficients of the tuned Ridge regression model\n",
    "print(\"Coefficients:\", ridge_tuned.coef_)\n",
    "\n",
    "# Print the intercept of the tuned Ridge regression model\n",
    "print(\"Intercept:\", ridge_tuned.intercept_)"
   ]
  },
  {
   "cell_type": "code",
   "execution_count": null,
   "metadata": {},
   "outputs": [],
   "source": []
  },
  {
   "cell_type": "markdown",
   "metadata": {},
   "source": [
    "## Lasso Regression Model Evaluation"
   ]
  },
  {
   "cell_type": "markdown",
   "metadata": {},
   "source": [
    "**In this section, we will create and evaluate a Lasso regression model using default parameters. We will fit the model to the training data, make predictions, and evaluate its performance using various metrics.**"
   ]
  },
  {
   "cell_type": "markdown",
   "metadata": {},
   "source": [
    "**Create and Fit the Lasso Model**"
   ]
  },
  {
   "cell_type": "code",
   "execution_count": 181,
   "metadata": {},
   "outputs": [
    {
     "data": {
      "text/plain": [
       "Lasso()"
      ]
     },
     "execution_count": 181,
     "metadata": {},
     "output_type": "execute_result"
    }
   ],
   "source": [
    "# Create Lasso regression model with default parameters\n",
    "lasso = Lasso()\n",
    "\n",
    "# Fit the model with training data\n",
    "lasso.fit(X_train, y_train)"
   ]
  },
  {
   "cell_type": "markdown",
   "metadata": {},
   "source": [
    "**Make Predictions**"
   ]
  },
  {
   "cell_type": "code",
   "execution_count": 182,
   "metadata": {},
   "outputs": [],
   "source": [
    "# Make predictions on the test data\n",
    "lasso_pred = lasso.predict(X_test)"
   ]
  },
  {
   "cell_type": "markdown",
   "metadata": {},
   "source": [
    "**Evaluate Model Performance**"
   ]
  },
  {
   "cell_type": "code",
   "execution_count": 183,
   "metadata": {},
   "outputs": [
    {
     "name": "stdout",
     "output_type": "stream",
     "text": [
      "r2_score: 0.5933030911807144\n",
      "MAE: 7191.7094203244\n",
      "MSE: 77372040.76567228\n"
     ]
    }
   ],
   "source": [
    "# Evaluate model performance using R-squared (R²) score\n",
    "print(\"r2_score:\",r2_score(y_test, lasso_pred))\n",
    "\n",
    "# Measure prediction accuracy using Mean Absolute Error (MAE)\n",
    "print(\"MAE:\",mean_absolute_error(y_test, lasso_pred))\n",
    "\n",
    "\n",
    "# Assess prediction accuracy using Mean Squared Error (MSE)\n",
    "print(\"MSE:\",mean_squared_error(y_test, lasso_pred))\n"
   ]
  },
  {
   "cell_type": "markdown",
   "metadata": {},
   "source": [
    "**Model Coefficients and Intercept**"
   ]
  },
  {
   "cell_type": "code",
   "execution_count": 184,
   "metadata": {},
   "outputs": [
    {
     "name": "stdout",
     "output_type": "stream",
     "text": [
      "Coefficients: [5.16164197e+02 4.78595253e+02 4.22241674e-01 8.05923215e+00\n",
      " 1.93522068e+00 2.43703723e+02 1.85954658e+04]\n",
      "Intercept: 37168.43217713194\n"
     ]
    }
   ],
   "source": [
    "# Print the coefficients of the Lasso regression model\n",
    "print(\"Coefficients:\", lasso.coef_)\n",
    "\n",
    "# Print the intercept of the Lasso regression model\n",
    "print(\"Intercept:\", lasso.intercept_)"
   ]
  },
  {
   "cell_type": "code",
   "execution_count": null,
   "metadata": {},
   "outputs": [],
   "source": []
  },
  {
   "cell_type": "markdown",
   "metadata": {},
   "source": [
    "## Tuned Lasso Regression Model Evaluation"
   ]
  },
  {
   "cell_type": "markdown",
   "metadata": {},
   "source": [
    "**In this section, we will create and evaluate a Lasso regression model with a specified alpha value. We will fit the model to the training data, make predictions, and evaluate its performance using various metrics.**"
   ]
  },
  {
   "cell_type": "markdown",
   "metadata": {},
   "source": [
    "**Create and Fit the Tuned Lasso Model**"
   ]
  },
  {
   "cell_type": "code",
   "execution_count": 185,
   "metadata": {},
   "outputs": [
    {
     "data": {
      "text/plain": [
       "Lasso(alpha=0.3)"
      ]
     },
     "execution_count": 185,
     "metadata": {},
     "output_type": "execute_result"
    }
   ],
   "source": [
    "# Create Lasso regression model with a specified alpha value\n",
    "lasso_tuned = Lasso(alpha=0.3)\n",
    "\n",
    "# Fit the model on training data\n",
    "lasso_tuned.fit(X_train, y_train)"
   ]
  },
  {
   "cell_type": "markdown",
   "metadata": {},
   "source": [
    "**Make Predictions**"
   ]
  },
  {
   "cell_type": "code",
   "execution_count": 186,
   "metadata": {},
   "outputs": [],
   "source": [
    "# Make predictions on the test data\n",
    "lasso_tuned_pred = lasso_tuned.predict(X_test)"
   ]
  },
  {
   "cell_type": "markdown",
   "metadata": {},
   "source": [
    "**Evaluate Model Performance**"
   ]
  },
  {
   "cell_type": "code",
   "execution_count": 187,
   "metadata": {},
   "outputs": [
    {
     "name": "stdout",
     "output_type": "stream",
     "text": [
      "r2_score 0.5933372007824145\n",
      "MAE 7191.374573405909\n",
      "MSE 77365551.58555806\n"
     ]
    }
   ],
   "source": [
    "# Evaluate model performance using R-squared (R²) score\n",
    "print(\"r2_score\",r2_score(y_test, lasso_tuned_pred))\n",
    "\n",
    "# Measure prediction accuracy using Mean Absolute Error (MAE)\n",
    "print(\"MAE\", mean_absolute_error(y_test, lasso_tuned_pred))\n",
    "\n",
    "# Assess prediction accuracy using Mean Squared Error (MSE)\n",
    "print(\"MSE\",mean_squared_error(y_test, lasso_tuned_pred))"
   ]
  },
  {
   "cell_type": "code",
   "execution_count": null,
   "metadata": {},
   "outputs": [],
   "source": []
  },
  {
   "cell_type": "markdown",
   "metadata": {},
   "source": [
    "## Decision Tree Regression Model Evaluation"
   ]
  },
  {
   "cell_type": "markdown",
   "metadata": {},
   "source": [
    "**In this section, we will create and evaluate a Decision Tree Regressor model. We will fit the model to the training data, make predictions, and evaluate its performance using various metrics.**"
   ]
  },
  {
   "cell_type": "markdown",
   "metadata": {},
   "source": [
    "**Create and Fit the Decision Tree Model**"
   ]
  },
  {
   "cell_type": "code",
   "execution_count": 188,
   "metadata": {},
   "outputs": [],
   "source": [
    "# Import necessary libraries\n",
    "from sklearn.tree import DecisionTreeRegressor"
   ]
  },
  {
   "cell_type": "code",
   "execution_count": 189,
   "metadata": {},
   "outputs": [
    {
     "data": {
      "text/plain": [
       "DecisionTreeRegressor()"
      ]
     },
     "execution_count": 189,
     "metadata": {},
     "output_type": "execute_result"
    }
   ],
   "source": [
    "# Create a DecisionTreeRegressor model\n",
    "dtr = DecisionTreeRegressor()\n",
    "\n",
    "# Train the model using the training data\n",
    "dtr.fit(X_train, y_train)"
   ]
  },
  {
   "cell_type": "markdown",
   "metadata": {},
   "source": [
    "**Make Predictions**"
   ]
  },
  {
   "cell_type": "code",
   "execution_count": 190,
   "metadata": {},
   "outputs": [],
   "source": [
    "# Make predictions on the test data\n",
    "dtr_pred = dtr.predict(X_test)"
   ]
  },
  {
   "cell_type": "markdown",
   "metadata": {},
   "source": [
    "**Evaluate Model Performance**"
   ]
  },
  {
   "cell_type": "code",
   "execution_count": 191,
   "metadata": {},
   "outputs": [
    {
     "name": "stdout",
     "output_type": "stream",
     "text": [
      "r2_score: 0.30975696117678797\n",
      "MAE: 8361.970660377357\n",
      "MSE: 131315265.44693175\n"
     ]
    }
   ],
   "source": [
    "# Evaluate model performance using R-squared (R²) score\n",
    "print(\"r2_score:\",r2_score(y_test, dtr_pred))\n",
    "\n",
    "# Measure prediction accuracy using Mean Absolute Error (MAE)\n",
    "print(\"MAE:\", mean_absolute_error(y_test, dtr_pred))\n",
    "\n",
    "# Assess prediction accuracy using Mean Squared Error (MSE)\n",
    "print(\"MSE:\", mean_squared_error(y_test, dtr_pred))"
   ]
  },
  {
   "cell_type": "code",
   "execution_count": null,
   "metadata": {},
   "outputs": [],
   "source": []
  },
  {
   "cell_type": "markdown",
   "metadata": {},
   "source": [
    "## Tuned Decision Tree Regression Model Evaluation"
   ]
  },
  {
   "cell_type": "markdown",
   "metadata": {},
   "source": [
    "**In this section, we will create and evaluate a Decision Tree Regressor model with a maximum depth of 4. We will fit the model to the training data, make predictions, and evaluate its performance using various metrics.**"
   ]
  },
  {
   "cell_type": "markdown",
   "metadata": {},
   "source": [
    "**Create and Fit the Tuned Decision Tree Model**"
   ]
  },
  {
   "cell_type": "code",
   "execution_count": 192,
   "metadata": {},
   "outputs": [
    {
     "data": {
      "text/plain": [
       "DecisionTreeRegressor(max_depth=4)"
      ]
     },
     "execution_count": 192,
     "metadata": {},
     "output_type": "execute_result"
    }
   ],
   "source": [
    "# Create Decision Tree with max depth = 4\n",
    "dtr_tuned = DecisionTreeRegressor(max_depth=4)\n",
    "\n",
    "# Fit the model with training data\n",
    "dtr_tuned.fit(X_train, y_train)"
   ]
  },
  {
   "cell_type": "markdown",
   "metadata": {},
   "source": [
    "**Make Predictions**"
   ]
  },
  {
   "cell_type": "code",
   "execution_count": 193,
   "metadata": {},
   "outputs": [],
   "source": [
    "# Make predictions on the test data\n",
    "dtr_tuned_pred = dtr_tuned.predict(X_test)"
   ]
  },
  {
   "cell_type": "markdown",
   "metadata": {},
   "source": [
    "**Evaluate Model Performance (Single Line Output)**"
   ]
  },
  {
   "cell_type": "code",
   "execution_count": 194,
   "metadata": {},
   "outputs": [
    {
     "name": "stdout",
     "output_type": "stream",
     "text": [
      "r2_score: 0.5974129112852863\n",
      "MAE: 6780.081301726799\n",
      "MSE: 76590168.16773768\n"
     ]
    }
   ],
   "source": [
    "# Evaluate model performance using R-squared (R²) score\n",
    "print(\"r2_score:\",r2_score(y_test, dtr_tuned_pred))\n",
    "\n",
    "# Measure prediction accuracy using Mean Absolute Error (MAE)\n",
    "print(\"MAE:\", mean_absolute_error(y_test, dtr_tuned_pred))\n",
    "\n",
    "# Assess prediction accuracy using Mean Squared Error (MSE)\n",
    "print(\"MSE:\", mean_squared_error(y_test, dtr_tuned_pred))"
   ]
  },
  {
   "cell_type": "code",
   "execution_count": null,
   "metadata": {},
   "outputs": [],
   "source": []
  },
  {
   "cell_type": "markdown",
   "metadata": {},
   "source": [
    "## Random Forest Regression Model Evaluation"
   ]
  },
  {
   "cell_type": "markdown",
   "metadata": {},
   "source": [
    "**In this section, we will create and evaluate a Random Forest Regressor model using default parameters. We will fit the model to the training data, make predictions, and evaluate its performance using various metrics.**"
   ]
  },
  {
   "cell_type": "markdown",
   "metadata": {},
   "source": [
    "**Create and Fit the Random Forest Model**"
   ]
  },
  {
   "cell_type": "code",
   "execution_count": 195,
   "metadata": {},
   "outputs": [],
   "source": [
    "# Import necessary libraries\n",
    "from sklearn.ensemble import RandomForestRegressor"
   ]
  },
  {
   "cell_type": "code",
   "execution_count": 196,
   "metadata": {},
   "outputs": [
    {
     "data": {
      "text/plain": [
       "RandomForestRegressor()"
      ]
     },
     "execution_count": 196,
     "metadata": {},
     "output_type": "execute_result"
    }
   ],
   "source": [
    "# Create Random Forest regression model with default parameters\n",
    "rnd = RandomForestRegressor()\n",
    "\n",
    "# Fit the model on training data\n",
    "rnd.fit(X_train, y_train)"
   ]
  },
  {
   "cell_type": "markdown",
   "metadata": {},
   "source": [
    "**Make Predictions**"
   ]
  },
  {
   "cell_type": "code",
   "execution_count": 197,
   "metadata": {},
   "outputs": [],
   "source": [
    "# Make predictions on the test data\n",
    "rnd_pred = rnd.predict(X_test)"
   ]
  },
  {
   "cell_type": "markdown",
   "metadata": {},
   "source": [
    "**Evaluate Model Performance**"
   ]
  },
  {
   "cell_type": "code",
   "execution_count": 198,
   "metadata": {},
   "outputs": [
    {
     "name": "stdout",
     "output_type": "stream",
     "text": [
      "r2_score: 0.6350170117457712\n",
      "MAE: 6376.383307861634\n",
      "MSE: 69436177.24552512\n"
     ]
    }
   ],
   "source": [
    "# Evaluate model performance using R-squared (R²) score\n",
    "print(\"r2_score:\",r2_score(y_test, rnd_pred))\n",
    "\n",
    "# Measure prediction accuracy using Mean Absolute Error (MAE)\n",
    "print(\"MAE:\", mean_absolute_error(y_test, rnd_pred))\n",
    "\n",
    "# Assess prediction accuracy using Mean Squared Error (MSE)\n",
    "print(\"MSE:\", mean_squared_error(y_test, rnd_pred))"
   ]
  },
  {
   "cell_type": "code",
   "execution_count": null,
   "metadata": {},
   "outputs": [],
   "source": []
  },
  {
   "cell_type": "markdown",
   "metadata": {},
   "source": [
    "## Tuned Random Forest Regression Model Evaluation"
   ]
  },
  {
   "cell_type": "markdown",
   "metadata": {},
   "source": [
    "**In this section, we will create and evaluate a Random Forest Regressor model with tuned parameters. We will fit the model to the training data, make predictions, and evaluate its performance using various metrics.**"
   ]
  },
  {
   "cell_type": "markdown",
   "metadata": {},
   "source": [
    "**Create and Fit the Tuned Random Forest Model**"
   ]
  },
  {
   "cell_type": "code",
   "execution_count": 199,
   "metadata": {},
   "outputs": [
    {
     "data": {
      "text/plain": [
       "RandomForestRegressor(max_features=5, min_samples_split=3, n_jobs=-1)"
      ]
     },
     "execution_count": 199,
     "metadata": {},
     "output_type": "execute_result"
    }
   ],
   "source": [
    "# Create Random Forest regression model with tuned parameters\n",
    "rnd_tuned = RandomForestRegressor(n_jobs=-1, max_features=5, min_samples_split=3)\n",
    "\n",
    "# Fit the model on training data\n",
    "rnd_tuned.fit(X_train, y_train)"
   ]
  },
  {
   "cell_type": "markdown",
   "metadata": {},
   "source": [
    "**Predictions**"
   ]
  },
  {
   "cell_type": "code",
   "execution_count": 200,
   "metadata": {},
   "outputs": [],
   "source": [
    "# Make predictions on the test data\n",
    "rnd_tuned_pred = rnd_tuned.predict(X_test)"
   ]
  },
  {
   "cell_type": "markdown",
   "metadata": {},
   "source": [
    "**Evaluate Model Performance**"
   ]
  },
  {
   "cell_type": "code",
   "execution_count": 201,
   "metadata": {},
   "outputs": [
    {
     "name": "stdout",
     "output_type": "stream",
     "text": [
      "r2_score: 0.6386829530268224\n",
      "MAE: 6397.266068846573\n",
      "MSE: 68738750.36056177\n"
     ]
    }
   ],
   "source": [
    "# Evaluate model performance using R-squared (R²) score\n",
    "print(\"r2_score:\",r2_score(y_test, rnd_tuned_pred))\n",
    "\n",
    "# Measure prediction accuracy using Mean Absolute Error (MAE)\n",
    "print(\"MAE:\", mean_absolute_error(y_test, rnd_tuned_pred))\n",
    "\n",
    "# Assess prediction accuracy using Mean Squared Error (MSE)\n",
    "print(\"MSE:\", mean_squared_error(y_test, rnd_tuned_pred))"
   ]
  },
  {
   "cell_type": "code",
   "execution_count": null,
   "metadata": {},
   "outputs": [],
   "source": []
  },
  {
   "cell_type": "markdown",
   "metadata": {},
   "source": [
    "## Hyperparameter Tuning for Random Forest Regression"
   ]
  },
  {
   "cell_type": "markdown",
   "metadata": {},
   "source": [
    "**In this section, we will use GridSearchCV to find the best parameters for our Random Forest Regressor model. This process will help optimize the model's performance by evaluating various combinations of specified hyperparameters.**"
   ]
  },
  {
   "cell_type": "markdown",
   "metadata": {},
   "source": [
    "**Define Parameter Grid**"
   ]
  },
  {
   "cell_type": "code",
   "execution_count": 202,
   "metadata": {},
   "outputs": [],
   "source": [
    "from sklearn.model_selection import GridSearchCV"
   ]
  },
  {
   "cell_type": "code",
   "execution_count": 203,
   "metadata": {},
   "outputs": [],
   "source": [
    "# Parameters for grid search\n",
    "params_grid = {\n",
    "    \"max_features\": [4, 5, 6, 7, 8, 9, 10],\n",
    "    \"min_samples_split\": [2, 3, 10]\n",
    "}"
   ]
  },
  {
   "cell_type": "markdown",
   "metadata": {},
   "source": [
    "**Perform Grid Search**"
   ]
  },
  {
   "cell_type": "code",
   "execution_count": 204,
   "metadata": {},
   "outputs": [
    {
     "data": {
      "text/plain": [
       "GridSearchCV(cv=5, estimator=RandomForestRegressor(n_jobs=-1), n_jobs=-1,\n",
       "             param_grid={'max_features': [4, 5, 6, 7, 8, 9, 10],\n",
       "                         'min_samples_split': [2, 3, 10]})"
      ]
     },
     "execution_count": 204,
     "metadata": {},
     "output_type": "execute_result"
    }
   ],
   "source": [
    "# Create the grid search object\n",
    "grid_search = GridSearchCV(\n",
    "    RandomForestRegressor(n_jobs=-1),\n",
    "    params_grid,\n",
    "    n_jobs=-1,\n",
    "    cv=5\n",
    ")\n",
    "\n",
    "# Fit the grid search to the training data\n",
    "grid_search.fit(X_train, y_train)"
   ]
  },
  {
   "cell_type": "markdown",
   "metadata": {},
   "source": [
    "**Display Best Parameters**"
   ]
  },
  {
   "cell_type": "code",
   "execution_count": 205,
   "metadata": {},
   "outputs": [
    {
     "name": "stdout",
     "output_type": "stream",
     "text": [
      "Best Parameters: {'max_features': 4, 'min_samples_split': 2}\n",
      "Best R² Score: 0.6172952063345567\n"
     ]
    }
   ],
   "source": [
    "# Display the best parameters found by GridSearchCV\n",
    "print(\"Best Parameters:\", grid_search.best_params_)\n",
    "print(\"Best R² Score:\", grid_search.best_score_)"
   ]
  },
  {
   "cell_type": "code",
   "execution_count": null,
   "metadata": {},
   "outputs": [],
   "source": []
  },
  {
   "cell_type": "markdown",
   "metadata": {},
   "source": [
    "## Model Performance Evaluation with Test Size = 0.1"
   ]
  },
  {
   "cell_type": "markdown",
   "metadata": {},
   "source": [
    "**In this section, we will evaluate the performance of a Linear Regression model using a smaller test set (10% of the data). We will analyze various performance metrics to understand how well the model generalizes.**"
   ]
  },
  {
   "cell_type": "code",
   "execution_count": 206,
   "metadata": {},
   "outputs": [],
   "source": [
    "# Split Data into Train and Test Sets\n",
    "X_train, X_test, y_train, y_test = train_test_split(X, y, test_size = 0.1, random_state = 42)"
   ]
  },
  {
   "cell_type": "code",
   "execution_count": 207,
   "metadata": {},
   "outputs": [
    {
     "data": {
      "text/plain": [
       "LinearRegression()"
      ]
     },
     "execution_count": 207,
     "metadata": {},
     "output_type": "execute_result"
    }
   ],
   "source": [
    "# Create Linear Regression model\n",
    "linear_reg = LinearRegression()\n",
    "\n",
    "# Fit the model with training data\n",
    "linear_reg.fit(X_train, y_train)"
   ]
  },
  {
   "cell_type": "markdown",
   "metadata": {},
   "source": [
    "**Make Predictions**"
   ]
  },
  {
   "cell_type": "code",
   "execution_count": 208,
   "metadata": {},
   "outputs": [],
   "source": [
    "# Make predictions using the test data\n",
    "linear_reg_pred = linear_reg.predict(X_test)"
   ]
  },
  {
   "cell_type": "markdown",
   "metadata": {},
   "source": [
    "**Evaluate Model Performance**"
   ]
  },
  {
   "cell_type": "code",
   "execution_count": 209,
   "metadata": {},
   "outputs": [
    {
     "name": "stdout",
     "output_type": "stream",
     "text": [
      "r2_score: 0.6363216852464182\n",
      "MAE: 7264.5952221849\n",
      "MSE: 75992712.22135596\n"
     ]
    }
   ],
   "source": [
    "# Calculate and print the R-squared (R²) score\n",
    "print(\"r2_score:\",r2_score(y_test, linear_reg_pred))\n",
    "\n",
    "# Calculate and print the Mean Absolute Error (MAE)\n",
    "print(\"MAE:\", mean_absolute_error(y_test, linear_reg_pred))\n",
    "\n",
    "# Calculate and print the Mean Squared Error (MSE)\n",
    "print(\"MSE:\", mean_squared_error(y_test, linear_reg_pred))"
   ]
  },
  {
   "cell_type": "markdown",
   "metadata": {},
   "source": [
    "**Display Model Coefficients and Intercept**"
   ]
  },
  {
   "cell_type": "code",
   "execution_count": 210,
   "metadata": {},
   "outputs": [
    {
     "name": "stdout",
     "output_type": "stream",
     "text": [
      "Coefficients: [4.42911803e+02 5.25765245e+02 4.08212376e-01 9.22873354e+01\n",
      " 2.31517208e+00 2.51617523e+02 1.89309912e+04]\n",
      "Intercept: 37413.57369634288\n"
     ]
    }
   ],
   "source": [
    "# Print the coefficients of the linear regression model\n",
    "print(\"Coefficients:\", linear_reg.coef_)\n",
    "\n",
    "# Print the intercept of the linear regression model\n",
    "print(\"Intercept:\", linear_reg.intercept_)"
   ]
  },
  {
   "cell_type": "code",
   "execution_count": null,
   "metadata": {},
   "outputs": [],
   "source": []
  },
  {
   "cell_type": "markdown",
   "metadata": {},
   "source": [
    "## Ridge Regression Evaluation with Test Size = 0.1"
   ]
  },
  {
   "cell_type": "markdown",
   "metadata": {},
   "source": [
    "**In this section, we will evaluate the performance of a Ridge Regression model using a smaller test set (10% of the data). We will analyze various performance metrics to understand how well the model generalizes.**"
   ]
  },
  {
   "cell_type": "markdown",
   "metadata": {},
   "source": [
    "**Create and Fit the Ridge Regression Model**"
   ]
  },
  {
   "cell_type": "code",
   "execution_count": 211,
   "metadata": {},
   "outputs": [
    {
     "data": {
      "text/plain": [
       "Ridge()"
      ]
     },
     "execution_count": 211,
     "metadata": {},
     "output_type": "execute_result"
    }
   ],
   "source": [
    "# Create Ridge regression model\n",
    "ridge = Ridge()\n",
    "\n",
    "# Fit the model with training data\n",
    "ridge.fit(X_train, y_train)"
   ]
  },
  {
   "cell_type": "markdown",
   "metadata": {},
   "source": [
    "**Make Predictions**"
   ]
  },
  {
   "cell_type": "code",
   "execution_count": 212,
   "metadata": {},
   "outputs": [],
   "source": [
    "# Make predictions using the test data\n",
    "ridge_predict = ridge.predict(X_test)"
   ]
  },
  {
   "cell_type": "markdown",
   "metadata": {},
   "source": [
    "**Evaluate Model Performance**"
   ]
  },
  {
   "cell_type": "code",
   "execution_count": 213,
   "metadata": {},
   "outputs": [
    {
     "name": "stdout",
     "output_type": "stream",
     "text": [
      "r2_score: 0.6356079191742235\n",
      "MAE: 7273.6074969177425\n",
      "MSE: 76141857.81931223\n"
     ]
    }
   ],
   "source": [
    "# Calculate R-squared (R²) score\n",
    "print(\"r2_score:\",r2_score(y_test, ridge_predict))\n",
    "\n",
    "# Calculate Mean Absolute Error (MAE)\n",
    "print(\"MAE:\", mean_absolute_error(y_test, ridge_predict))\n",
    "\n",
    "# Calculate Mean Squared Error (MSE)\n",
    "print(\"MSE:\", mean_squared_error(y_test, ridge_predict))"
   ]
  },
  {
   "cell_type": "markdown",
   "metadata": {},
   "source": [
    "**Display Model Coefficients and Intercept**"
   ]
  },
  {
   "cell_type": "code",
   "execution_count": 214,
   "metadata": {},
   "outputs": [
    {
     "name": "stdout",
     "output_type": "stream",
     "text": [
      "Coefficients: [4.42864404e+02 5.20710813e+02 4.08256354e-01 9.19186306e+01\n",
      " 2.35030487e+00 2.51556414e+02 1.88488104e+04]\n",
      "Intercept: 37431.673353484744\n"
     ]
    }
   ],
   "source": [
    "# Print the coefficients of the Ridge regression model\n",
    "print(\"Coefficients:\", ridge.coef_)\n",
    "\n",
    "# Print the intercept of the Ridge regression model\n",
    "print(\"Intercept:\", ridge.intercept_)"
   ]
  },
  {
   "cell_type": "code",
   "execution_count": null,
   "metadata": {},
   "outputs": [],
   "source": []
  },
  {
   "cell_type": "markdown",
   "metadata": {},
   "source": [
    "## Tuned Ridge Regression Evaluation"
   ]
  },
  {
   "cell_type": "markdown",
   "metadata": {},
   "source": [
    "**In this section, we evaluate the performance of a tuned Ridge Regression model with an alpha value of 0.3 and the Cholesky solver. We will analyze the model's performance using various metrics.**"
   ]
  },
  {
   "cell_type": "markdown",
   "metadata": {},
   "source": [
    "**Create and Fit the Tuned Ridge Regression Model**"
   ]
  },
  {
   "cell_type": "code",
   "execution_count": 215,
   "metadata": {},
   "outputs": [
    {
     "data": {
      "text/plain": [
       "Ridge(alpha=0.3, solver='cholesky')"
      ]
     },
     "execution_count": 215,
     "metadata": {},
     "output_type": "execute_result"
    }
   ],
   "source": [
    "# Create Ridge regression model with alpha = 0.3 and solver = 'cholesky'\n",
    "ridge_tuned = Ridge(alpha=0.3, solver='cholesky')\n",
    "\n",
    "# Fit the model with training data\n",
    "ridge_tuned.fit(X_train, y_train)"
   ]
  },
  {
   "cell_type": "markdown",
   "metadata": {},
   "source": [
    "**Make Predictions**"
   ]
  },
  {
   "cell_type": "code",
   "execution_count": 216,
   "metadata": {},
   "outputs": [],
   "source": [
    "# Make predictions using the test data\n",
    "ridge_predict_tuned = ridge_tuned.predict(X_test)"
   ]
  },
  {
   "cell_type": "markdown",
   "metadata": {},
   "source": [
    "**Evaluate Model Performance**"
   ]
  },
  {
   "cell_type": "code",
   "execution_count": 217,
   "metadata": {},
   "outputs": [
    {
     "name": "stdout",
     "output_type": "stream",
     "text": [
      "r2_score: 0.6361081830776945\n",
      "MAE: 7267.307079778788\n",
      "MSE: 76037324.74898893\n"
     ]
    }
   ],
   "source": [
    "# Calculate R-squared (R²) score\n",
    "print(\"r2_score:\",r2_score(y_test, ridge_predict_tuned))\n",
    "\n",
    "# Calculate Mean Absolute Error (MAE)\n",
    "print(\"MAE:\", mean_absolute_error(y_test, ridge_predict_tuned))\n",
    "\n",
    "# Calculate Mean Squared Error (MSE)\n",
    "print(\"MSE:\", mean_squared_error(y_test, ridge_predict_tuned))"
   ]
  },
  {
   "cell_type": "markdown",
   "metadata": {},
   "source": [
    "**Display Model Coefficients and Intercept**"
   ]
  },
  {
   "cell_type": "code",
   "execution_count": 218,
   "metadata": {},
   "outputs": [
    {
     "name": "stdout",
     "output_type": "stream",
     "text": [
      "Coefficients: [4.42897940e+02 5.24242646e+02 4.08225611e-01 9.21764079e+01\n",
      " 2.32574303e+00 2.51599134e+02 1.89062616e+04]\n",
      "Intercept: 37419.02017641859\n"
     ]
    }
   ],
   "source": [
    "# Print the coefficients of the tuned Ridge regression model\n",
    "print(\"Coefficients:\", ridge_tuned.coef_)\n",
    "\n",
    "# Print the intercept of the tuned Ridge regression model\n",
    "print(\"Intercept:\", ridge_tuned.intercept_)"
   ]
  },
  {
   "cell_type": "code",
   "execution_count": null,
   "metadata": {},
   "outputs": [],
   "source": []
  },
  {
   "cell_type": "markdown",
   "metadata": {},
   "source": [
    "## Lasso Regression Evaluation"
   ]
  },
  {
   "cell_type": "markdown",
   "metadata": {},
   "source": [
    "**In this section, we evaluate the performance of a Lasso Regression model with default parameters. We will analyze the model's performance using various metrics.**"
   ]
  },
  {
   "cell_type": "markdown",
   "metadata": {},
   "source": [
    "**Create and Fit the Lasso Regression Model**"
   ]
  },
  {
   "cell_type": "code",
   "execution_count": 219,
   "metadata": {},
   "outputs": [
    {
     "data": {
      "text/plain": [
       "Lasso()"
      ]
     },
     "execution_count": 219,
     "metadata": {},
     "output_type": "execute_result"
    }
   ],
   "source": [
    "# Create Lasso regression model with default parameters\n",
    "lasso = Lasso()\n",
    "\n",
    "# Fit the model on training data\n",
    "lasso.fit(X_train, y_train)"
   ]
  },
  {
   "cell_type": "markdown",
   "metadata": {},
   "source": [
    "**Make Predictions**"
   ]
  },
  {
   "cell_type": "code",
   "execution_count": 220,
   "metadata": {},
   "outputs": [],
   "source": [
    "# Make predictions using the test data\n",
    "lasso_pred = lasso.predict(X_test)"
   ]
  },
  {
   "cell_type": "markdown",
   "metadata": {},
   "source": [
    "**Evaluate Model Performance**"
   ]
  },
  {
   "cell_type": "code",
   "execution_count": 221,
   "metadata": {},
   "outputs": [
    {
     "name": "stdout",
     "output_type": "stream",
     "text": [
      "r2_score: 0.6362725365808042\n",
      "MAE: 7265.304096193648\n",
      "MSE: 76002982.12266861\n"
     ]
    }
   ],
   "source": [
    "# Calculate R-squared (R²) score\n",
    "print(\"r2_score:\",r2_score(y_test, lasso_pred))\n",
    "\n",
    "# Calculate Mean Absolute Error (MAE)\n",
    "print(\"MAE:\", mean_absolute_error(y_test, lasso_pred))\n",
    "\n",
    "# Calculate Mean Squared Error (MSE)\n",
    "print(\"MSE:\", mean_squared_error(y_test, lasso_pred))"
   ]
  },
  {
   "cell_type": "markdown",
   "metadata": {},
   "source": [
    "**Display Model Coefficients and Intercept**"
   ]
  },
  {
   "cell_type": "code",
   "execution_count": 222,
   "metadata": {},
   "outputs": [
    {
     "name": "stdout",
     "output_type": "stream",
     "text": [
      "Coefficients: [4.41583747e+02 5.21553553e+02 4.08206824e-01 9.16362699e+01\n",
      " 2.30982336e+00 2.51603269e+02 1.89244902e+04]\n",
      "Intercept: 37422.56964438998\n"
     ]
    }
   ],
   "source": [
    "# Print the coefficients of the Lasso regression model\n",
    "print(\"Coefficients:\", lasso.coef_)\n",
    "\n",
    "# Print the intercept of the Lasso regression model\n",
    "print(\"Intercept:\", lasso.intercept_)"
   ]
  },
  {
   "cell_type": "code",
   "execution_count": null,
   "metadata": {},
   "outputs": [],
   "source": []
  },
  {
   "cell_type": "markdown",
   "metadata": {},
   "source": [
    "## Lasso Regression with Tuned Parameters"
   ]
  },
  {
   "cell_type": "markdown",
   "metadata": {},
   "source": [
    "**In this section, we create a Lasso regression model with a specified alpha value. The model is trained on the training data, and we evaluate its performance using various metrics.**"
   ]
  },
  {
   "cell_type": "markdown",
   "metadata": {},
   "source": [
    "**Create and Fit the Tuned Lasso Regression Model**"
   ]
  },
  {
   "cell_type": "code",
   "execution_count": 223,
   "metadata": {},
   "outputs": [
    {
     "data": {
      "text/plain": [
       "Lasso(alpha=0.3)"
      ]
     },
     "execution_count": 223,
     "metadata": {},
     "output_type": "execute_result"
    }
   ],
   "source": [
    "# Create Lasso regression model with tuned parameter\n",
    "lasso_tuned = Lasso(alpha=0.3)\n",
    "\n",
    "# Fit model on train data\n",
    "lasso_tuned.fit(X_train, y_train)"
   ]
  },
  {
   "cell_type": "markdown",
   "metadata": {},
   "source": [
    "**Make Predictions**"
   ]
  },
  {
   "cell_type": "code",
   "execution_count": 224,
   "metadata": {},
   "outputs": [],
   "source": [
    "# Prediction on test data\n",
    "lasso_tuned_pred = lasso_tuned.predict(X_test)"
   ]
  },
  {
   "cell_type": "markdown",
   "metadata": {},
   "source": [
    "**Evaluate Model Performance**"
   ]
  },
  {
   "cell_type": "code",
   "execution_count": 225,
   "metadata": {},
   "outputs": [
    {
     "name": "stdout",
     "output_type": "stream",
     "text": [
      "r2_score: 0.6363069568715122\n",
      "MAE: 7264.807871629203\n",
      "MSE: 75995789.80148739\n"
     ]
    }
   ],
   "source": [
    "# Calculate and print the R-squared (r2) score to evaluate model performance\n",
    "print(\"r2_score:\", r2_score(y_test, lasso_tuned_pred))\n",
    "\n",
    "# Calculate and print the Mean Absolute Error (MAE) to measure prediction accuracy\n",
    "print(\"MAE:\", mean_absolute_error(y_test, lasso_tuned_pred))\n",
    "\n",
    "# Calculate and print the Mean Squared Error (MSE) to assess prediction accuracy\n",
    "print(\"MSE:\", mean_squared_error(y_test, lasso_tuned_pred))"
   ]
  },
  {
   "cell_type": "code",
   "execution_count": null,
   "metadata": {},
   "outputs": [],
   "source": []
  },
  {
   "cell_type": "markdown",
   "metadata": {},
   "source": [
    "## Decision Tree Regression"
   ]
  },
  {
   "cell_type": "markdown",
   "metadata": {},
   "source": [
    "**In this section, we create a Decision Tree Regressor using default parameters. We train the model on the training dataset and evaluate its performance using various metrics.**"
   ]
  },
  {
   "cell_type": "markdown",
   "metadata": {},
   "source": [
    "**Create and Fit Decison Tree Regression Model**"
   ]
  },
  {
   "cell_type": "code",
   "execution_count": 226,
   "metadata": {},
   "outputs": [
    {
     "data": {
      "text/plain": [
       "DecisionTreeRegressor()"
      ]
     },
     "execution_count": 226,
     "metadata": {},
     "output_type": "execute_result"
    }
   ],
   "source": [
    "# Create a Decision Tree Regressor model with default parameters\n",
    "dtr = DecisionTreeRegressor()\n",
    "\n",
    "# Fit the model on training data\n",
    "dtr.fit(X_train, y_train)"
   ]
  },
  {
   "cell_type": "markdown",
   "metadata": {},
   "source": [
    "**Make Predictions**"
   ]
  },
  {
   "cell_type": "code",
   "execution_count": 227,
   "metadata": {},
   "outputs": [],
   "source": [
    "# Make predictions on the test data\n",
    "dtr_pred = dtr.predict(X_test)"
   ]
  },
  {
   "cell_type": "markdown",
   "metadata": {},
   "source": [
    "**Evaluate Model Performance**"
   ]
  },
  {
   "cell_type": "code",
   "execution_count": 228,
   "metadata": {},
   "outputs": [
    {
     "name": "stdout",
     "output_type": "stream",
     "text": [
      "r2_score: 0.4691038017274143\n",
      "MAE: 7112.128050314464\n",
      "MSE: 110933867.5914088\n"
     ]
    }
   ],
   "source": [
    "# Calculate and print the R-squared (r2) score to evaluate model performance\n",
    "print(\"r2_score:\",r2_score(y_test, dtr_pred))\n",
    "\n",
    "# Calculate and print the Mean Absolute Error (MAE) to measure prediction accuracy\n",
    "print(\"MAE:\", mean_absolute_error(y_test, dtr_pred))\n",
    "\n",
    "# Calculate and print the Mean Squared Error (MSE) to assess prediction accuracy\n",
    "print(\"MSE:\", mean_squared_error(y_test, dtr_pred))"
   ]
  },
  {
   "cell_type": "code",
   "execution_count": null,
   "metadata": {},
   "outputs": [],
   "source": []
  },
  {
   "cell_type": "markdown",
   "metadata": {},
   "source": [
    "## Tuned Decision Tree Regression"
   ]
  },
  {
   "cell_type": "markdown",
   "metadata": {},
   "source": [
    "**In this section, we create a Decision Tree Regressor with a tuned parameter for maximum depth. We train the model on the training dataset and evaluate its performance using various metrics.**"
   ]
  },
  {
   "cell_type": "markdown",
   "metadata": {},
   "source": [
    "**Create and Fit the Tuned Decision Tree Regression Model**"
   ]
  },
  {
   "cell_type": "code",
   "execution_count": 229,
   "metadata": {},
   "outputs": [
    {
     "data": {
      "text/plain": [
       "DecisionTreeRegressor(max_depth=4)"
      ]
     },
     "execution_count": 229,
     "metadata": {},
     "output_type": "execute_result"
    }
   ],
   "source": [
    "# Create a Decision Tree Regressor model with tuned parameter\n",
    "dtr_tuned = DecisionTreeRegressor(max_depth=4)\n",
    "\n",
    "# Fit the model on training data\n",
    "dtr_tuned.fit(X_train, y_train)"
   ]
  },
  {
   "cell_type": "markdown",
   "metadata": {},
   "source": [
    "**Make Predictions**"
   ]
  },
  {
   "cell_type": "code",
   "execution_count": 230,
   "metadata": {},
   "outputs": [],
   "source": [
    "# Prediction using test data\n",
    "dtr_tuned_pred = dtr_tuned.predict(X_test)"
   ]
  },
  {
   "cell_type": "markdown",
   "metadata": {},
   "source": [
    "**Evaluate Model Performance**"
   ]
  },
  {
   "cell_type": "code",
   "execution_count": 231,
   "metadata": {},
   "outputs": [
    {
     "name": "stdout",
     "output_type": "stream",
     "text": [
      "r2_score: 0.6302592573081194\n",
      "MAE: 7013.486928870295\n",
      "MSE: 77259492.01819374\n"
     ]
    }
   ],
   "source": [
    "# Calculate and print the R-squared (r2) score to evaluate model performance\n",
    "print(\"r2_score:\",r2_score(y_test, dtr_tuned_pred))\n",
    "\n",
    "# Calculate and print the mean absolute error(MSE) score to evaluate model performance\n",
    "print(\"MAE:\", mean_absolute_error(y_test, dtr_tuned_pred))\n",
    "\n",
    "# Calculate and print the Mean Squared Error (MSE) to evaluate prediction errors\n",
    "print(\"MSE:\", mean_squared_error(y_test, dtr_tuned_pred))"
   ]
  },
  {
   "cell_type": "code",
   "execution_count": null,
   "metadata": {},
   "outputs": [],
   "source": []
  },
  {
   "cell_type": "markdown",
   "metadata": {},
   "source": [
    "## Random Forest Regression Model Evaluation"
   ]
  },
  {
   "cell_type": "markdown",
   "metadata": {},
   "source": [
    "**In this section, we will create and evaluate a Random Forest Regressor model using default parameters. We will fit the model to the training data, make predictions, and evaluate its performance using various metrics.**"
   ]
  },
  {
   "cell_type": "markdown",
   "metadata": {},
   "source": [
    "**Create and Fit the Random Forest Model**"
   ]
  },
  {
   "cell_type": "code",
   "execution_count": 232,
   "metadata": {},
   "outputs": [
    {
     "data": {
      "text/plain": [
       "RandomForestRegressor()"
      ]
     },
     "execution_count": 232,
     "metadata": {},
     "output_type": "execute_result"
    }
   ],
   "source": [
    "# Create a Random Forest Regressor model with default parameters\n",
    "rnd = RandomForestRegressor()\n",
    "\n",
    "# Fit the model on the training data\n",
    "rnd.fit(X_train, y_train)"
   ]
  },
  {
   "cell_type": "markdown",
   "metadata": {},
   "source": [
    "**Make Predictions**"
   ]
  },
  {
   "cell_type": "code",
   "execution_count": 233,
   "metadata": {},
   "outputs": [],
   "source": [
    "# Predict target values using the test data\n",
    "rnd_pred = rnd.predict(X_test)"
   ]
  },
  {
   "cell_type": "markdown",
   "metadata": {},
   "source": [
    "**Evaluate Model Performance**"
   ]
  },
  {
   "cell_type": "code",
   "execution_count": 234,
   "metadata": {},
   "outputs": [
    {
     "name": "stdout",
     "output_type": "stream",
     "text": [
      "r2_score: 0.6871613743912862\n",
      "MAE: 6369.978514465408\n",
      "MSE: 65369461.64556368\n"
     ]
    }
   ],
   "source": [
    "# Evaluate model performance using R-squared score\n",
    "print(\"r2_score:\",r2_score(y_test, rnd_pred))\n",
    "\n",
    "# Calculate and print the Mean Absolute Error (MAE)\n",
    "print(\"MAE:\", mean_absolute_error(y_test, rnd_pred))\n",
    "\n",
    "# Calculate and print the Mean Squared Error (MSE)\n",
    "print(\"MSE:\", mean_squared_error(y_test, rnd_pred))"
   ]
  },
  {
   "cell_type": "code",
   "execution_count": null,
   "metadata": {},
   "outputs": [],
   "source": []
  },
  {
   "cell_type": "markdown",
   "metadata": {},
   "source": [
    "## Tuned Random Forest Regression Model Evaluation"
   ]
  },
  {
   "cell_type": "markdown",
   "metadata": {},
   "source": [
    "**In this section, we will create and evaluate a Random Forest Regressor model with tuned parameters. We will fit the model to the training data, make predictions, and evaluate its performance using various metrics.**"
   ]
  },
  {
   "cell_type": "markdown",
   "metadata": {},
   "source": [
    "**Create and Fit the Tuned Random Forest Model**"
   ]
  },
  {
   "cell_type": "code",
   "execution_count": 235,
   "metadata": {},
   "outputs": [
    {
     "data": {
      "text/plain": [
       "RandomForestRegressor(max_features=5, min_samples_split=3, n_jobs=-1)"
      ]
     },
     "execution_count": 235,
     "metadata": {},
     "output_type": "execute_result"
    }
   ],
   "source": [
    "# Create a Random Forest Regressor model with specified hyperparameters\n",
    "rnd_tuned = RandomForestRegressor(n_jobs=-1, max_features=5, min_samples_split=3)\n",
    "\n",
    "# Fit the model using the training data\n",
    "rnd_tuned.fit(X_train, y_train)"
   ]
  },
  {
   "cell_type": "markdown",
   "metadata": {},
   "source": [
    "**Make Predictions**"
   ]
  },
  {
   "cell_type": "code",
   "execution_count": 236,
   "metadata": {},
   "outputs": [],
   "source": [
    "# Predict target values using the test data\n",
    "rnd_tuned_pred = rnd_tuned.predict(X_test)"
   ]
  },
  {
   "cell_type": "markdown",
   "metadata": {},
   "source": [
    "**Evaluate Model Performance**"
   ]
  },
  {
   "cell_type": "code",
   "execution_count": 237,
   "metadata": {},
   "outputs": [
    {
     "name": "stdout",
     "output_type": "stream",
     "text": [
      "r2_score: 0.6832402430748883\n",
      "MAE: 6441.9139545522585\n",
      "MSE: 66188804.981750995\n"
     ]
    }
   ],
   "source": [
    "# Evaluate model performance using R-squared score\n",
    "print(\"r2_score:\",r2_score(y_test, rnd_tuned_pred))\n",
    "\n",
    "# Calculate and print the Mean Absolute Error (MAE)\n",
    "print(\"MAE:\", mean_absolute_error(y_test, rnd_tuned_pred))\n",
    "\n",
    "# Calculate and print the Mean Squared Error (MSE)\n",
    "print(\"MSE:\", mean_squared_error(y_test, rnd_tuned_pred))"
   ]
  },
  {
   "cell_type": "code",
   "execution_count": null,
   "metadata": {},
   "outputs": [],
   "source": []
  },
  {
   "cell_type": "markdown",
   "metadata": {},
   "source": [
    "## Performing Feature scaling on dataset"
   ]
  },
  {
   "cell_type": "markdown",
   "metadata": {},
   "source": [
    "**Split Data into Independent and Target Variables**"
   ]
  },
  {
   "cell_type": "code",
   "execution_count": 238,
   "metadata": {},
   "outputs": [],
   "source": [
    "# Features (independent variables)\n",
    "X = df.loc[:, df.columns != 'CTC']  \n",
    "\n",
    "# Target variable\n",
    "y = df['CTC']         "
   ]
  },
  {
   "cell_type": "markdown",
   "metadata": {},
   "source": [
    "**Split Data into Training and Testing Sets**"
   ]
  },
  {
   "cell_type": "code",
   "execution_count": 239,
   "metadata": {},
   "outputs": [],
   "source": [
    "# Split data into training (80%) and testing (20%) sets\n",
    "X_train, X_test, y_train, y_test = train_test_split(X, y, test_size=0.2, random_state=42)"
   ]
  },
  {
   "cell_type": "markdown",
   "metadata": {},
   "source": [
    "**Feature Scaling**"
   ]
  },
  {
   "cell_type": "code",
   "execution_count": 240,
   "metadata": {},
   "outputs": [],
   "source": [
    "# Import Standard scaler from sklearn for feature scaling(mean=0, std dev=1)\n",
    "from sklearn.preprocessing import StandardScaler"
   ]
  },
  {
   "cell_type": "code",
   "execution_count": 241,
   "metadata": {},
   "outputs": [],
   "source": [
    "# Create a StandardScaler object for feature scaling (mean=0, std dev=1)\n",
    "scaler = StandardScaler()"
   ]
  },
  {
   "cell_type": "markdown",
   "metadata": {},
   "source": [
    "**Fit and Transform the Training Data**"
   ]
  },
  {
   "cell_type": "code",
   "execution_count": 242,
   "metadata": {},
   "outputs": [],
   "source": [
    "# Fit the scaler on the training data and transform it\n",
    "X_train_scaled = scaler.fit_transform(X_train)"
   ]
  },
  {
   "cell_type": "markdown",
   "metadata": {},
   "source": [
    "**Transform the Test Data**"
   ]
  },
  {
   "cell_type": "code",
   "execution_count": 243,
   "metadata": {},
   "outputs": [],
   "source": [
    "# Transform the test data using the same scaler to ensure consistency\n",
    "X_test_scaled = scaler.transform(X_test)"
   ]
  },
  {
   "cell_type": "markdown",
   "metadata": {},
   "source": [
    "**Store Scaled Data in DataFrames for Verification**"
   ]
  },
  {
   "cell_type": "code",
   "execution_count": 244,
   "metadata": {},
   "outputs": [],
   "source": [
    "# Store the scaled training data in a DataFrame\n",
    "df_X_train = pd.DataFrame(X_train_scaled, columns=X_train.columns)\n",
    "\n",
    "# Store the scaled test data in a DataFrame\n",
    "df_X_test = pd.DataFrame(X_test_scaled, columns=X_test.columns)"
   ]
  },
  {
   "cell_type": "markdown",
   "metadata": {},
   "source": [
    "**Statistical Changes After Scaling**"
   ]
  },
  {
   "cell_type": "code",
   "execution_count": 245,
   "metadata": {},
   "outputs": [
    {
     "name": "stdout",
     "output_type": "stream",
     "text": [
      "       College    City  Previous CTC  Previous job change  Graduation Marks  \\\n",
      "count   1271.0  1271.0        1271.0               1271.0            1271.0   \n",
      "mean      -0.0    -0.0           0.0                  0.0              -0.0   \n",
      "std        1.0     1.0           1.0                  1.0               1.0   \n",
      "min       -1.2    -1.0          -2.8                 -1.4              -1.7   \n",
      "25%       -1.2    -1.0          -0.8                 -0.5              -0.9   \n",
      "50%       -0.0     1.0          -0.0                  0.4               0.0   \n",
      "75%        1.2     1.0           0.7                  1.3               0.9   \n",
      "max        1.2     1.0           3.4                  1.3               1.7   \n",
      "\n",
      "       EXP (Month)  Role_Manager  \n",
      "count       1271.0        1271.0  \n",
      "mean          -0.0          -0.0  \n",
      "std            1.0           1.0  \n",
      "min           -1.5          -0.5  \n",
      "25%           -0.9          -0.5  \n",
      "50%           -0.0          -0.5  \n",
      "75%            0.9          -0.5  \n",
      "max            1.7           2.0  \n"
     ]
    }
   ],
   "source": [
    "# Display statistical changes after scaling\n",
    "print(np.round(df_X_train.describe(), 1))"
   ]
  },
  {
   "cell_type": "code",
   "execution_count": null,
   "metadata": {},
   "outputs": [],
   "source": []
  },
  {
   "cell_type": "markdown",
   "metadata": {},
   "source": [
    "## Model Performance Evaluation After Scaling with test size 0.2"
   ]
  },
  {
   "cell_type": "markdown",
   "metadata": {},
   "source": [
    "**Create and Fit Linear Regression Model with Scaled Data**"
   ]
  },
  {
   "cell_type": "code",
   "execution_count": 246,
   "metadata": {},
   "outputs": [
    {
     "data": {
      "text/plain": [
       "LinearRegression()"
      ]
     },
     "execution_count": 246,
     "metadata": {},
     "output_type": "execute_result"
    }
   ],
   "source": [
    "# Create a Linear Regression model\n",
    "lr_scaled = LinearRegression()\n",
    "\n",
    "# Fit the model on the scaled training data\n",
    "lr_scaled.fit(X_train_scaled, y_train)"
   ]
  },
  {
   "cell_type": "markdown",
   "metadata": {},
   "source": [
    "**Make Predictions Using Test Data**"
   ]
  },
  {
   "cell_type": "code",
   "execution_count": 247,
   "metadata": {},
   "outputs": [],
   "source": [
    "# Make predictions using the scaled test data\n",
    "lr_scaled_pred = lr_scaled.predict(X_test_scaled)"
   ]
  },
  {
   "cell_type": "markdown",
   "metadata": {},
   "source": [
    "**Evaluate Model Performance**"
   ]
  },
  {
   "cell_type": "code",
   "execution_count": 248,
   "metadata": {},
   "outputs": [
    {
     "name": "stdout",
     "output_type": "stream",
     "text": [
      "r2_score: 0.593351795838508\n",
      "Mean Absolute Error (MAE): 7191.231067500048\n",
      "Mean Squared Error (MSE): 77362774.9495656\n"
     ]
    }
   ],
   "source": [
    "# Calculate and print the R-squared (R²) score to evaluate model performance\n",
    "print(\"r2_score:\", r2_score(y_test, lr_scaled_pred))\n",
    "\n",
    "# Calculate and print the Mean Absolute Error (MAE)\n",
    "print(\"Mean Absolute Error (MAE):\", mean_absolute_error(y_test, lr_scaled_pred))\n",
    "\n",
    "# Calculate and print the Mean Squared Error (MSE)\n",
    "print(\"Mean Squared Error (MSE):\", mean_squared_error(y_test, lr_scaled_pred))"
   ]
  },
  {
   "cell_type": "markdown",
   "metadata": {},
   "source": [
    "**Model Coefficients and Intercept**"
   ]
  },
  {
   "cell_type": "code",
   "execution_count": 249,
   "metadata": {},
   "outputs": [
    {
     "name": "stdout",
     "output_type": "stream",
     "text": [
      "Coefficients: [ 435.09743711  241.31880694 2802.97570998    9.81979783   29.0192253\n",
      " 3467.75304336 7471.39306988]\n",
      "Intercept: 75284.838245476\n"
     ]
    }
   ],
   "source": [
    "# Print the coefficients of the linear regression model\n",
    "print(\"Coefficients:\", lr_scaled.coef_)\n",
    "\n",
    "# Print the intercept of the linear regression model\n",
    "print(\"Intercept:\", lr_scaled.intercept_)"
   ]
  },
  {
   "cell_type": "code",
   "execution_count": null,
   "metadata": {},
   "outputs": [],
   "source": []
  },
  {
   "cell_type": "markdown",
   "metadata": {},
   "source": [
    "## Ridge Regression Model Evaluation After Feature Scaling with test size 0.2"
   ]
  },
  {
   "cell_type": "markdown",
   "metadata": {},
   "source": [
    "**Create and Fit Ridge Regression Model with Scaled Data**"
   ]
  },
  {
   "cell_type": "code",
   "execution_count": 250,
   "metadata": {},
   "outputs": [
    {
     "data": {
      "text/plain": [
       "Ridge()"
      ]
     },
     "execution_count": 250,
     "metadata": {},
     "output_type": "execute_result"
    }
   ],
   "source": [
    "# Create a Ridge Regression model\n",
    "r_scaled = Ridge()\n",
    "\n",
    "# Fit the model using the scaled training data\n",
    "r_scaled.fit(X_train_scaled, y_train)"
   ]
  },
  {
   "cell_type": "markdown",
   "metadata": {},
   "source": [
    "**Make Predictions Using Test Data**"
   ]
  },
  {
   "cell_type": "code",
   "execution_count": 251,
   "metadata": {},
   "outputs": [],
   "source": [
    "# Make predictions using the scaled test data\n",
    "r_scaled_pred = r_scaled.predict(X_test_scaled)"
   ]
  },
  {
   "cell_type": "markdown",
   "metadata": {},
   "source": [
    "**Evaluate Model Performance**"
   ]
  },
  {
   "cell_type": "code",
   "execution_count": 252,
   "metadata": {},
   "outputs": [
    {
     "name": "stdout",
     "output_type": "stream",
     "text": [
      "r2_score: 0.5932150226490305\n",
      "Mean Absolute Error (MAE): 7192.60467728189\n",
      "Mean Squared Error (MSE): 77388795.36074264\n"
     ]
    }
   ],
   "source": [
    "# Calculate and print the R-squared (R²) score to evaluate model performance\n",
    "print(\"r2_score:\", r2_score(y_test, r_scaled_pred))\n",
    "\n",
    "# Calculate and print the Mean Absolute Error (MAE)\n",
    "print(\"Mean Absolute Error (MAE):\", mean_absolute_error(y_test, r_scaled_pred))\n",
    "\n",
    "# Calculate and print the Mean Squared Error (MSE)\n",
    "print(\"Mean Squared Error (MSE):\", mean_squared_error(y_test, r_scaled_pred))"
   ]
  },
  {
   "cell_type": "code",
   "execution_count": null,
   "metadata": {},
   "outputs": [],
   "source": []
  },
  {
   "cell_type": "markdown",
   "metadata": {},
   "source": [
    "## Lasso Regression Model Evaluation After Feature Scaling with test size 0.2"
   ]
  },
  {
   "cell_type": "markdown",
   "metadata": {},
   "source": [
    "**Create and Fit Lasso Regression Model with Scaled Data**"
   ]
  },
  {
   "cell_type": "code",
   "execution_count": 253,
   "metadata": {},
   "outputs": [
    {
     "data": {
      "text/plain": [
       "Lasso()"
      ]
     },
     "execution_count": 253,
     "metadata": {},
     "output_type": "execute_result"
    }
   ],
   "source": [
    "# Create a Lasso Regression model\n",
    "l_scaled = Lasso()\n",
    "\n",
    "# Fit the model on the scaled training data\n",
    "l_scaled.fit(X_train_scaled, y_train)"
   ]
  },
  {
   "cell_type": "markdown",
   "metadata": {},
   "source": [
    "**Make Predictions Using Test Data**"
   ]
  },
  {
   "cell_type": "code",
   "execution_count": 254,
   "metadata": {},
   "outputs": [],
   "source": [
    "# Make predictions using the scaled test data\n",
    "l_scaled_pred = l_scaled.predict(X_test_scaled)"
   ]
  },
  {
   "cell_type": "markdown",
   "metadata": {},
   "source": [
    "**Evaluate Model Performance**"
   ]
  },
  {
   "cell_type": "code",
   "execution_count": 255,
   "metadata": {},
   "outputs": [
    {
     "name": "stdout",
     "output_type": "stream",
     "text": [
      "r2_score: 0.5933169519706637\n",
      "Mean Absolute Error (MAE): 7191.560845403443\n",
      "Mean Squared Error (MSE): 77369403.82011962\n"
     ]
    }
   ],
   "source": [
    "# Calculate and print the R-squared (R²) score to evaluate model performance\n",
    "print(\"r2_score:\", r2_score(y_test, l_scaled_pred))\n",
    "\n",
    "# Calculate and print the Mean Absolute Error (MAE)\n",
    "print(\"Mean Absolute Error (MAE):\", mean_absolute_error(y_test, l_scaled_pred))\n",
    "\n",
    "# Calculate and print the Mean Squared Error (MSE)\n",
    "print(\"Mean Squared Error (MSE):\", mean_squared_error(y_test, l_scaled_pred))"
   ]
  },
  {
   "cell_type": "code",
   "execution_count": null,
   "metadata": {},
   "outputs": [],
   "source": []
  },
  {
   "cell_type": "markdown",
   "metadata": {},
   "source": [
    "## Decision Tree Regression Model Evaluation After Feature Scaling with test size 0.2"
   ]
  },
  {
   "cell_type": "markdown",
   "metadata": {},
   "source": [
    "**Create and Fit Decision Tree Regression Model with Scaled Data**"
   ]
  },
  {
   "cell_type": "code",
   "execution_count": 256,
   "metadata": {},
   "outputs": [
    {
     "data": {
      "text/plain": [
       "DecisionTreeRegressor()"
      ]
     },
     "execution_count": 256,
     "metadata": {},
     "output_type": "execute_result"
    }
   ],
   "source": [
    "# Create a Decision Tree Regression model\n",
    "dt_scaled = DecisionTreeRegressor()\n",
    "\n",
    "# Fit the model on the scaled training data\n",
    "dt_scaled.fit(X_train_scaled, y_train)"
   ]
  },
  {
   "cell_type": "markdown",
   "metadata": {},
   "source": [
    "**Make Predictions Using Test Data**"
   ]
  },
  {
   "cell_type": "code",
   "execution_count": 257,
   "metadata": {},
   "outputs": [],
   "source": [
    "# Make predictions using the scaled test data\n",
    "dt_scaled_pred = dt_scaled.predict(X_test_scaled)"
   ]
  },
  {
   "cell_type": "markdown",
   "metadata": {},
   "source": [
    "**Evaluate Model Performance**"
   ]
  },
  {
   "cell_type": "code",
   "execution_count": 258,
   "metadata": {},
   "outputs": [
    {
     "name": "stdout",
     "output_type": "stream",
     "text": [
      "r2_score: 0.29756498064199277\n",
      "Mean Absolute Error (MAE): 8412.90248427673\n",
      "Mean Squared Error (MSE): 133634728.40447201\n"
     ]
    }
   ],
   "source": [
    "# Calculate and print the R-squared (R²) score to evaluate model performance\n",
    "print(\"r2_score:\", r2_score(y_test, dt_scaled_pred))\n",
    "\n",
    "# Calculate and print the Mean Absolute Error (MAE)\n",
    "print(\"Mean Absolute Error (MAE):\", mean_absolute_error(y_test, dt_scaled_pred))\n",
    "\n",
    "# Calculate and print the Mean Squared Error (MSE)\n",
    "print(\"Mean Squared Error (MSE):\", mean_squared_error(y_test, dt_scaled_pred))"
   ]
  },
  {
   "cell_type": "code",
   "execution_count": null,
   "metadata": {},
   "outputs": [],
   "source": []
  },
  {
   "cell_type": "markdown",
   "metadata": {},
   "source": [
    "## Random Forest Regression Model Evaluation After Feature Scaling with test size 0.2"
   ]
  },
  {
   "cell_type": "markdown",
   "metadata": {},
   "source": [
    "**Create and Fit Random Forest Regressor Model with Scaled Data**"
   ]
  },
  {
   "cell_type": "code",
   "execution_count": 259,
   "metadata": {},
   "outputs": [
    {
     "data": {
      "text/plain": [
       "RandomForestRegressor()"
      ]
     },
     "execution_count": 259,
     "metadata": {},
     "output_type": "execute_result"
    }
   ],
   "source": [
    "# Create a Random Forest Regressor model with default parameters\n",
    "rf_scaled = RandomForestRegressor()\n",
    "\n",
    "# Fit the model on the scaled training data\n",
    "rf_scaled.fit(X_train_scaled, y_train)"
   ]
  },
  {
   "cell_type": "markdown",
   "metadata": {},
   "source": [
    "**Make Predictions Using Test Data**"
   ]
  },
  {
   "cell_type": "code",
   "execution_count": 260,
   "metadata": {},
   "outputs": [],
   "source": [
    "# Make predictions using the scaled test data\n",
    "rf_scaled_pred = rf_scaled.predict(X_test_scaled)"
   ]
  },
  {
   "cell_type": "markdown",
   "metadata": {},
   "source": [
    "**Evaluate Model Performance**"
   ]
  },
  {
   "cell_type": "code",
   "execution_count": 261,
   "metadata": {},
   "outputs": [
    {
     "name": "stdout",
     "output_type": "stream",
     "text": [
      "r2_score: 0.6375784796765674\n",
      "Mean Absolute Error (MAE): 6388.696341509433\n",
      "Mean Squared Error (MSE): 68948870.85872002\n"
     ]
    }
   ],
   "source": [
    "# Calculate and print the R-squared (R²) score to evaluate model performance\n",
    "print(\"r2_score:\", r2_score(y_test, rf_scaled_pred))\n",
    "\n",
    "# Calculate and print the Mean Absolute Error (MAE)\n",
    "print(\"Mean Absolute Error (MAE):\", mean_absolute_error(y_test, rf_scaled_pred))\n",
    "\n",
    "# Calculate and print the Mean Squared Error (MSE)\n",
    "print(\"Mean Squared Error (MSE):\", mean_squared_error(y_test, rf_scaled_pred))"
   ]
  },
  {
   "cell_type": "code",
   "execution_count": null,
   "metadata": {},
   "outputs": [],
   "source": []
  },
  {
   "cell_type": "markdown",
   "metadata": {},
   "source": [
    "## Tuned Random Forest Regression Model Evaluation After Feature Scaling"
   ]
  },
  {
   "cell_type": "markdown",
   "metadata": {},
   "source": [
    "**Create and Fit Tuned Random Forest Regressor Model with Scaled Data**"
   ]
  },
  {
   "cell_type": "code",
   "execution_count": 262,
   "metadata": {},
   "outputs": [
    {
     "data": {
      "text/plain": [
       "RandomForestRegressor(max_features=5, min_samples_split=3, n_jobs=-1)"
      ]
     },
     "execution_count": 262,
     "metadata": {},
     "output_type": "execute_result"
    }
   ],
   "source": [
    "# Create a Tuned Random Forest Regressor model\n",
    "rf_scaled_tuned = RandomForestRegressor(max_features=5, min_samples_split=3, n_jobs=-1)\n",
    "\n",
    "# Fit the model on the scaled training data\n",
    "rf_scaled_tuned.fit(X_train_scaled, y_train)"
   ]
  },
  {
   "cell_type": "markdown",
   "metadata": {},
   "source": [
    "**Make Predictions Using Test Data**"
   ]
  },
  {
   "cell_type": "code",
   "execution_count": 263,
   "metadata": {},
   "outputs": [],
   "source": [
    "# Make predictions using the scaled test data\n",
    "rf_scaled_tuned_pred = rf_scaled_tuned.predict(X_test_scaled)"
   ]
  },
  {
   "cell_type": "markdown",
   "metadata": {},
   "source": [
    "**Evaluate Model Performance**"
   ]
  },
  {
   "cell_type": "code",
   "execution_count": 264,
   "metadata": {},
   "outputs": [
    {
     "name": "stdout",
     "output_type": "stream",
     "text": [
      "r2_score: 0.6373552128260478\n",
      "Mean Absolute Error (MAE): 6375.787968022987\n",
      "Mean Squared Error (MSE): 68991346.25375114\n"
     ]
    }
   ],
   "source": [
    "# Calculate and print the R-squared (R²) score to evaluate model performance\n",
    "print(\"r2_score:\", r2_score(y_test, rf_scaled_tuned_pred))\n",
    "\n",
    "# Calculate and print the Mean Absolute Error (MAE)\n",
    "print(\"Mean Absolute Error (MAE):\", mean_absolute_error(y_test, rf_scaled_tuned_pred))\n",
    "\n",
    "# Calculate and print the Mean Squared Error (MSE)\n",
    "print(\"Mean Squared Error (MSE):\", mean_squared_error(y_test, rf_scaled_tuned_pred))"
   ]
  },
  {
   "cell_type": "code",
   "execution_count": null,
   "metadata": {},
   "outputs": [],
   "source": []
  },
  {
   "cell_type": "markdown",
   "metadata": {},
   "source": [
    "## Model Performance Summary"
   ]
  },
  {
   "cell_type": "markdown",
   "metadata": {},
   "source": [
    "**To evaluate the performance of various machine learning models, we focused on the R-squared (R²) metric, which indicates the goodness of fit for the models. A higher R² value signifies a better fit to the data. In addition to R², we also considered Mean Absolute Error (MAE) and Mean Squared Error (MSE) as reference metrics.**"
   ]
  },
  {
   "cell_type": "markdown",
   "metadata": {},
   "source": [
    "**Model Performance Across Scenarios**"
   ]
  },
  {
   "cell_type": "markdown",
   "metadata": {},
   "source": [
    "**Scenario 1: Test Size = 0.2**"
   ]
  },
  {
   "cell_type": "markdown",
   "metadata": {},
   "source": [
    "* Linear Regression: R² = 0.5933\n",
    "* Ridge Regression: R² = 0.5926 \n",
    "* Lasso Regression: R² = 0.5933\n",
    "* Decision Tree: R² = 0.3097    \n",
    "* Random Forest: R² = 0.6350   "
   ]
  },
  {
   "cell_type": "markdown",
   "metadata": {},
   "source": [
    "**Scenario 2: Test Size = 0.1**"
   ]
  },
  {
   "cell_type": "markdown",
   "metadata": {},
   "source": [
    "* Linear Regression: R² = 0.6363\n",
    "* Ridge Regression: R² = 0.6356 \n",
    "* Lasso Regression: R² = 0.6362\n",
    "* Decision Tree: R² = 0.4691    \n",
    "* Random Forest: R² = 0.6871  "
   ]
  },
  {
   "cell_type": "markdown",
   "metadata": {},
   "source": [
    "**Scenario 3: Test Size = 0.1 with Feature Scaling**"
   ]
  },
  {
   "cell_type": "markdown",
   "metadata": {},
   "source": [
    "* Linear Regression: R² = 0.6363\n",
    "* Ridge Regression: R² = 0.6356 \n",
    "* Lasso Regression: R² = 0.6362\n",
    "* Decision Tree: R² = 0.4617    \n",
    "* Random Forest: R² = 0.6843   "
   ]
  },
  {
   "cell_type": "markdown",
   "metadata": {},
   "source": [
    "**Scenario 4: Test Size = 0.2 with Feature Scaling**"
   ]
  },
  {
   "cell_type": "markdown",
   "metadata": {},
   "source": [
    "* Linear Regression: R² = 0.5933\n",
    "* Ridge Regression: R² = 0.5932 \n",
    "* Lasso Regression: R² = 0.5933\n",
    "* Decision Tree: R² = 0.3014    \n",
    "* Random Forest: R² = 0.6440   "
   ]
  },
  {
   "cell_type": "markdown",
   "metadata": {},
   "source": [
    "# **Summary**"
   ]
  },
  {
   "cell_type": "markdown",
   "metadata": {},
   "source": [
    "- **Random Forest consistently achieves the highest R-squared scores across all scenarios, indicating it is the best fit for the data among the models evaluated.**"
   ]
  },
  {
   "cell_type": "markdown",
   "metadata": {},
   "source": [
    "- **Linear Regression and Lasso Regression perform reasonably well, but their R-squared scores are slightly lower compared to Random Forest.**"
   ]
  },
  {
   "cell_type": "markdown",
   "metadata": {},
   "source": [
    "- **The Decision Tree model has the lowest R-squared scores and performs the worst across all scenarios.**"
   ]
  },
  {
   "cell_type": "markdown",
   "metadata": {},
   "source": [
    "- **Feature scaling appears to improve model performance, as seen by the higher R-squared scores in the scenarios where feature scaling was applied.**"
   ]
  },
  {
   "cell_type": "markdown",
   "metadata": {},
   "source": [
    "**Overall, considering R-squared as the primary metric for model evaluation, Random Forest emerges as the top performer, followed by Linear Regression and Lasso Regression. However, it is important to also take into account other factors such as computational efficiency, model interpretability, and the specific goals of the application when choosing the best model**"
   ]
  },
  {
   "cell_type": "markdown",
   "metadata": {},
   "source": [
    "## Steps to Further Improve the Selected Model"
   ]
  },
  {
   "cell_type": "markdown",
   "metadata": {},
   "source": [
    "- **Increase the Number of Trees (Estimators): Random Forest's performance often improves with a larger number of decision trees (estimators) in the ensemble.**"
   ]
  },
  {
   "cell_type": "markdown",
   "metadata": {},
   "source": [
    "- **Tune Hyperparameters: Conduct more thorough hyperparameter tuning by experimenting with different values for parameters like max_depth, min_samples_split, min_samples_leaf, and max_features. Using Grid Search or Randomized Search can help identify the optimal combination of hyperparameters.**"
   ]
  },
  {
   "cell_type": "markdown",
   "metadata": {},
   "source": [
    "- **Feature Selection: Consider removing less informative features to improve the model’s efficiency and potentially enhance its performance. This can be achieved through feature importance analysis or other feature selection techniques.**"
   ]
  },
  {
   "cell_type": "code",
   "execution_count": null,
   "metadata": {},
   "outputs": [],
   "source": []
  }
 ],
 "metadata": {
  "kernelspec": {
   "display_name": "Python 3",
   "language": "python",
   "name": "python3"
  },
  "language_info": {
   "codemirror_mode": {
    "name": "ipython",
    "version": 3
   },
   "file_extension": ".py",
   "mimetype": "text/x-python",
   "name": "python",
   "nbconvert_exporter": "python",
   "pygments_lexer": "ipython3",
   "version": "3.8.5"
  }
 },
 "nbformat": 4,
 "nbformat_minor": 4
}
