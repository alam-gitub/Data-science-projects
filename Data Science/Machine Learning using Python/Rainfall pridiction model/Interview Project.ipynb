{
 "cells": [
  {
   "cell_type": "markdown",
   "metadata": {},
   "source": [
    "# Problem Statement"
   ]
  },
  {
   "cell_type": "markdown",
   "metadata": {},
   "source": [
    "- **Context and Company Background:** \"The Daily Buzz\" is a newspaper company based in Sydney, known for its high-quality journalism and reliable news coverage. To attract more readers and differentiate themselves from competitors, \"The Daily Buzz\" introduced a weather prediction column called \"The Weather Oracle.\" To further improve the accuracy of these weather forecasts, the editor-in-chief decided to employ machine learning to predict rainfall in Sydney."
   ]
  },
  {
   "cell_type": "markdown",
   "metadata": {},
   "source": [
    "- **Data Description:** The dataset contains historical weather information from 2008 to 2017, including columns like date, location, temperature, humidity, pressure, cloud cover, and rainfall. This data will be used to train and test various machine learning models, helping to accurately predict whether it will rain the next day (RainTomorrow)."
   ]
  },
  {
   "cell_type": "markdown",
   "metadata": {},
   "source": [
    "- **Classification Task:** The primary objective is to perform a classification task, where the goal is to predict if it will rain the next day in Sydney. The target variable (RainTomorrow) is binary, indicating whether or not it will rain."
   ]
  },
  {
   "cell_type": "markdown",
   "metadata": {},
   "source": [
    "- **Role of Machine Learning Models:** Various machine learning models, including decision trees and ensemble methods like random forest and gradient boosting, will be employed to achieve the best possible prediction accuracy. The ensemble methods will help by combining multiple models to reduce error and improve reliability."
   ]
  },
  {
   "cell_type": "markdown",
   "metadata": {},
   "source": [
    "- **Data Preprocessing:** Data preprocessing involves handling missing values, converting data types, encoding categorical variables, normalizing data, and selecting relevant features. These steps are essential for preparing the data, ensuring its quality, and enhancing the performance of the predictive models. Special attention will be given to the handling of missing values and feature engineering to extract additional useful information for prediction."
   ]
  },
  {
   "cell_type": "markdown",
   "metadata": {},
   "source": [
    "# Approach"
   ]
  },
  {
   "cell_type": "markdown",
   "metadata": {},
   "source": [
    "- **Understanding the Problem:** The task is to accurately predict rainfall in Sydney using historical weather data. The primary goal is to create a machine learning model capable of predicting whether it will rain the next day (RainTomorrow). Given the diverse weather conditions, accurate predictions would provide great value to the community, helping them plan activities better."
   ]
  },
  {
   "cell_type": "markdown",
   "metadata": {},
   "source": [
    "**Data Collection and Preprocessing:**\n",
    "\n",
    "- **Loading the Dataset:** Load historical weather data into the environment.\n",
    "- **Data Cleaning:** Handle missing values, remove or impute any incomplete data, and ensure data integrity.\n",
    "- **Feature Engineering:** Extract additional information, such as month or season, from the existing features to improve predictive performance.\n",
    "- **Data Encoding:** Encode categorical features using appropriate techniques like one-hot or label encoding, to make the data compatible with machine learning models."
   ]
  },
  {
   "cell_type": "markdown",
   "metadata": {},
   "source": [
    "**Exploratory Data Analysis (EDA):** Explore the relationships between different features and analyze the dataset to gain insights. Visualize correlations and trends, and understand distributions of features using heatmaps, pair plots, and histograms."
   ]
  },
  {
   "cell_type": "markdown",
   "metadata": {},
   "source": [
    "- **Feature Selection and Dataset Preparation:**"
   ]
  },
  {
   "cell_type": "markdown",
   "metadata": {},
   "source": [
    "- **Feature Selection:** Select features with high correlation to RainTomorrow to reduce noise.\n",
    "- **Dataset Split:** Split the dataset into training and test sets for model evaluation and performance assessment."
   ]
  },
  {
   "cell_type": "markdown",
   "metadata": {},
   "source": [
    "**Model Training and Evaluation:**"
   ]
  },
  {
   "cell_type": "markdown",
   "metadata": {},
   "source": [
    "- **Model Selection:** Implement and train various classification models, including Decision Tree, Random Forest, Gradient Boosting, Linear Regression, Ridge Regression, and Lasso Regression, for predicting rainfall\n",
    "- **Evaluation Metrics:** Evaluate each model based on accuracy, precision, recall, F1 score, and confusion matrices to determine which model performs best."
   ]
  },
  {
   "cell_type": "markdown",
   "metadata": {},
   "source": [
    "**Ensemble Methods and Hyperparameter Tuning:**"
   ]
  },
  {
   "cell_type": "markdown",
   "metadata": {},
   "source": [
    "- **Ensemble Techniques:** Use ensemble methods like Random Forest (bagging) and Gradient Boosting (boosting) to enhance accuracy and reduce overfitting.\n",
    "- **Hyperparameter Tuning:** Use techniques like GridSearchCV to tune hyperparameters and optimize model performance."
   ]
  },
  {
   "cell_type": "markdown",
   "metadata": {},
   "source": [
    "**Model Selection and Interpretation:**"
   ]
  },
  {
   "cell_type": "markdown",
   "metadata": {},
   "source": [
    "- **Best Model Selection:** Compare performance metrics across different models and select the model with the highest accuracy and most balanced metrics.\n",
    "- **Analysis and Insights:** Discuss why the selected model performed better compared to others and what improvements could be made to enhance the prediction further."
   ]
  },
  {
   "cell_type": "markdown",
   "metadata": {},
   "source": [
    "**Future Scope and Enhancements:** Suggest improvements such as collecting additional features, using advanced algorithms like XGBoost, and leveraging more recent or external data sources to further boost the accuracy and robustness of the model."
   ]
  },
  {
   "cell_type": "markdown",
   "metadata": {},
   "source": [
    "# Available ML Model Options"
   ]
  },
  {
   "cell_type": "markdown",
   "metadata": {},
   "source": [
    "**In the task of predicting rainfall in Sydney, several machine learning models can be utilized for classification tasks. The choice of model depends on various factors, including data characteristics, problem complexity, and the need for model interpretability. Here are some of the available ML model options:**"
   ]
  },
  {
   "cell_type": "markdown",
   "metadata": {},
   "source": [
    "- **Decision Tree Classifier:** Decision trees are intuitive and interpretable models that create a flowchart-like structure to make decisions based on feature values. They work by recursively splitting the data into subsets based on the most significant input features, making them suitable for capturing non-linear relationships in the data."
   ]
  },
  {
   "cell_type": "markdown",
   "metadata": {},
   "source": [
    "- **Random Forest Classifier:**\n",
    "Random Forest is an ensemble learning method that combines multiple decision trees to improve prediction accuracy and control overfitting. It leverages the power of bagging, where different subsets of the data are used to train each tree, and then averages the predictions to produce a final result. This method is robust and can handle large datasets with high dimensionality."
   ]
  },
  {
   "cell_type": "markdown",
   "metadata": {},
   "source": [
    "- **Gradient Boosting Classifier**\n",
    "Gradient Boosting is another ensemble technique that builds models sequentially. Each new model is trained to correct the errors made by the previous ones, allowing it to capture complex patterns in the data. This method is particularly effective for binary classification tasks and has been widely used in various competitions due to its high performance."
   ]
  },
  {
   "cell_type": "markdown",
   "metadata": {},
   "source": [
    "- **Logistic Regression:**\n",
    "Logistic regression is a statistical model used for binary classification that predicts the probability of an event occurring (e.g., whether it will rain or not). It provides a straightforward interpretation of the relationship between features and the target variable, making it a useful baseline model for comparison."
   ]
  },
  {
   "cell_type": "markdown",
   "metadata": {},
   "source": [
    "- **K-Nearest Neighbors (KNN)**\n",
    "KNN is a non-parametric method that classifies instances based on the majority class among the 'k' nearest neighbors in the feature space. It is simple to implement and can be effective for smaller datasets, but its performance may degrade with high dimensionality."
   ]
  },
  {
   "cell_type": "markdown",
   "metadata": {},
   "source": [
    "**For this analysis, I will focus on three of these models: Decision Tree Classifier, Random Forest Classifier, and Gradient Boosting Classifier. I will evaluate their performance using default parameters and will also experiment with adjusting certain parameters to optimize their effectiveness.**"
   ]
  },
  {
   "cell_type": "markdown",
   "metadata": {},
   "source": [
    "## Import Libraries and Setup"
   ]
  },
  {
   "cell_type": "code",
   "execution_count": 145,
   "metadata": {},
   "outputs": [],
   "source": [
    "# Importing Libraries\n",
    "import numpy as np\n",
    "import pandas as pd\n",
    "import matplotlib.pyplot as plt\n",
    "import seaborn as sns\n",
    "from sklearn.model_selection import train_test_split, GridSearchCV\n",
    "from sklearn.tree import DecisionTreeClassifier\n",
    "from sklearn.ensemble import RandomForestClassifier, GradientBoostingClassifier\n",
    "from sklearn.linear_model import LogisticRegression\n",
    "from sklearn.neighbors import KNeighborsClassifier\n",
    "from sklearn.metrics import accuracy_score, confusion_matrix, classification_report"
   ]
  },
  {
   "cell_type": "markdown",
   "metadata": {},
   "source": [
    "**Load the Dataset**"
   ]
  },
  {
   "cell_type": "code",
   "execution_count": 146,
   "metadata": {},
   "outputs": [
    {
     "name": "stdout",
     "output_type": "stream",
     "text": [
      "        Date Location  MinTemp  MaxTemp  Rainfall  Evaporation  Sunshine  \\\n",
      "0 2008-02-01   Sydney     19.5     22.4      15.6          6.2       0.0   \n",
      "1 2008-02-02   Sydney     19.5     25.6       6.0          3.4       2.7   \n",
      "2 2008-02-03   Sydney     21.6     24.5       6.6          2.4       0.1   \n",
      "3 2008-02-04   Sydney     20.2     22.8      18.8          2.2       0.0   \n",
      "4 2008-02-05   Sydney     19.7     25.7      77.4          NaN       0.0   \n",
      "\n",
      "   Humidity9am  Humidity3pm  Pressure9am  Pressure3pm  Cloud9am  Cloud3pm  \\\n",
      "0         92.0         84.0       1017.6       1017.4       8.0       8.0   \n",
      "1         83.0         73.0       1017.9       1016.4       7.0       7.0   \n",
      "2         88.0         86.0       1016.7       1015.6       7.0       8.0   \n",
      "3         83.0         90.0       1014.2       1011.8       8.0       8.0   \n",
      "4         88.0         74.0       1008.3       1004.8       8.0       8.0   \n",
      "\n",
      "   Temp9am  Temp3pm RainToday RainTomorrow  \n",
      "0     20.7     20.9       Yes          Yes  \n",
      "1     22.4     24.8       Yes          Yes  \n",
      "2     23.5     23.0       Yes          Yes  \n",
      "3     21.4     20.9       Yes          Yes  \n",
      "4     22.5     25.5       Yes          Yes  \n"
     ]
    }
   ],
   "source": [
    "# Load the data from the Excel file\n",
    "df = pd.read_excel(r\"C:\\Users\\win10\\OneDrive\\Desktop\\Intershala assignment\\Interview prep\\sydney_rain prediction.xlsx\") \n",
    "\n",
    "# Display the first few rows of the DataFrame\n",
    "print(df.head())\n"
   ]
  },
  {
   "cell_type": "code",
   "execution_count": 147,
   "metadata": {},
   "outputs": [
    {
     "name": "stdout",
     "output_type": "stream",
     "text": [
      "Date              0\n",
      "Location          0\n",
      "MinTemp           3\n",
      "MaxTemp           2\n",
      "Rainfall          6\n",
      "Evaporation      51\n",
      "Sunshine         16\n",
      "Humidity9am      14\n",
      "Humidity3pm      13\n",
      "Pressure9am      20\n",
      "Pressure3pm      19\n",
      "Cloud9am        566\n",
      "Cloud3pm        561\n",
      "Temp9am           4\n",
      "Temp3pm           4\n",
      "RainToday         6\n",
      "RainTomorrow      0\n",
      "dtype: int64\n"
     ]
    },
    {
     "name": "stderr",
     "output_type": "stream",
     "text": [
      "<ipython-input-147-c7fe3ffb3df0>:5: FutureWarning: DataFrame.mean and DataFrame.median with numeric_only=None will include datetime64 and datetime64tz columns in a future version.\n",
      "  df.fillna(df.mean(), inplace=True)  # Fill missing values with the mean of each column\n"
     ]
    }
   ],
   "source": [
    "# Check for missing values\n",
    "print(df.isnull().sum())\n",
    "\n",
    "# Handling missing values\n",
    "df.fillna(df.mean(), inplace=True)  # Fill missing values with the mean of each column\n",
    "\n",
    "# Convert 'Date' to datetime format\n",
    "df['Date'] = pd.to_datetime(df['Date'])\n",
    "\n",
    "# Encode categorical features like 'Location' and 'RainToday'\n",
    "df = pd.get_dummies(df, columns=['Location', 'RainToday'], drop_first=True)\n",
    "\n",
    "# Drop 'Date' as it's no longer needed\n",
    "df = df.drop(['Date'], axis=1)\n",
    "\n",
    "# Feature and Target Split\n",
    "X = df.drop('RainTomorrow', axis=1)  # Features\n",
    "y = df['RainTomorrow']  # Target\n"
   ]
  },
  {
   "cell_type": "code",
   "execution_count": 148,
   "metadata": {},
   "outputs": [],
   "source": [
    "# Split the dataset into training and testing datasets\n",
    "X_train, X_test, y_train, y_test = train_test_split(X, y, test_size=0.2, random_state=42)"
   ]
  },
  {
   "cell_type": "markdown",
   "metadata": {},
   "source": [
    "## Exploratory Data Analysis (EDA)"
   ]
  },
  {
   "cell_type": "markdown",
   "metadata": {},
   "source": [
    "**Correlation Matrix**"
   ]
  },
  {
   "cell_type": "markdown",
   "metadata": {},
   "source": [
    "- **The correlation matrix provides insights into the linear relationships between the numerical features in the dataset. By calculating the Pearson correlation coefficients, we can see how strongly each feature correlates with others, including the target variable (RainTomorrow).**"
   ]
  },
  {
   "cell_type": "code",
   "execution_count": 149,
   "metadata": {
    "scrolled": false
   },
   "outputs": [
    {
     "data": {
      "image/png": "[encoded data removed]",
      "text/plain": [
       "<Figure size 864x576 with 2 Axes>"
      ]
     },
     "metadata": {
      "needs_background": "light"
     },
     "output_type": "display_data"
    }
   ],
   "source": [
    "# Calculate the correlation matrix\n",
    "correlation_matrix = df.corr()\n",
    "\n",
    "# Visualize the correlation matrix using a heatmap\n",
    "plt.figure(figsize=(12, 8))\n",
    "sns.heatmap(correlation_matrix, annot=True, fmt=\".2f\", cmap='coolwarm', square=True, cbar_kws={\"shrink\": .8})\n",
    "plt.title('Correlation Matrix')\n",
    "plt.show()"
   ]
  },
  {
   "cell_type": "code",
   "execution_count": null,
   "metadata": {},
   "outputs": [],
   "source": []
  },
  {
   "cell_type": "markdown",
   "metadata": {},
   "source": [
    "## Outlier Detection"
   ]
  },
  {
   "cell_type": "markdown",
   "metadata": {},
   "source": [
    "**Outliers are data points that differ significantly from the rest of the data. They can arise from measurement errors, data entry errors, or may be valid extreme values that provide useful information. In this project, we will identify and analyze outliers in the dataset to ensure they do not adversely affect the model's performance.**"
   ]
  },
  {
   "cell_type": "code",
   "execution_count": 150,
   "metadata": {},
   "outputs": [
    {
     "data": {
      "text/plain": [
       "<Figure size 864x576 with 0 Axes>"
      ]
     },
     "execution_count": 150,
     "metadata": {},
     "output_type": "execute_result"
    },
    {
     "data": {
      "text/plain": [
       "<Figure size 864x576 with 0 Axes>"
      ]
     },
     "metadata": {},
     "output_type": "display_data"
    }
   ],
   "source": [
    "# Visualizing outliers using box plots\n",
    "plt.figure(figsize=(12, 8))"
   ]
  },
  {
   "cell_type": "code",
   "execution_count": 151,
   "metadata": {},
   "outputs": [
    {
     "data": {
      "image/png": "[encoded data removed]",
      "text/plain": [
       "<Figure size 576x360 with 1 Axes>"
      ]
     },
     "metadata": {
      "needs_background": "light"
     },
     "output_type": "display_data"
    }
   ],
   "source": [
    "# Box Plot for MinTemp\n",
    "plt.figure(figsize=(8, 5))\n",
    "sns.boxplot(y=df['MinTemp'])\n",
    "plt.title('Box Plot of MinTemp')\n",
    "plt.ylabel('MinTemp')\n",
    "plt.show()"
   ]
  },
  {
   "cell_type": "code",
   "execution_count": 152,
   "metadata": {},
   "outputs": [
    {
     "data": {
      "image/png": "[encoded data removed]",
      "text/plain": [
       "<Figure size 576x360 with 1 Axes>"
      ]
     },
     "metadata": {
      "needs_background": "light"
     },
     "output_type": "display_data"
    }
   ],
   "source": [
    "# Box Plot for MaxTemp\n",
    "plt.figure(figsize=(8, 5))\n",
    "sns.boxplot(y=df['MaxTemp'])\n",
    "plt.title('Box Plot of MaxTemp')\n",
    "plt.ylabel('MaxTemp')\n",
    "plt.show()"
   ]
  },
  {
   "cell_type": "code",
   "execution_count": 153,
   "metadata": {},
   "outputs": [
    {
     "data": {
      "image/png": "[encoded data removed]",
      "text/plain": [
       "<Figure size 576x360 with 1 Axes>"
      ]
     },
     "metadata": {
      "needs_background": "light"
     },
     "output_type": "display_data"
    }
   ],
   "source": [
    "# Box Plot for Rainfall\n",
    "plt.figure(figsize=(8, 5))\n",
    "sns.boxplot(y=df['Rainfall'])\n",
    "plt.title('Box Plot of Rainfall')\n",
    "plt.ylabel('Rainfall')\n",
    "plt.show()"
   ]
  },
  {
   "cell_type": "code",
   "execution_count": 154,
   "metadata": {},
   "outputs": [
    {
     "data": {
      "image/png": "[encoded data removed]",
      "text/plain": [
       "<Figure size 576x360 with 1 Axes>"
      ]
     },
     "metadata": {
      "needs_background": "light"
     },
     "output_type": "display_data"
    }
   ],
   "source": [
    "# Box Plot for Humidity at 9 AM\n",
    "plt.figure(figsize=(8, 5))\n",
    "sns.boxplot(y=df['Humidity9am'])\n",
    "plt.title('Box Plot of Humidity at 9 AM')\n",
    "plt.ylabel('Humidity9am')\n",
    "plt.show()"
   ]
  },
  {
   "cell_type": "code",
   "execution_count": 155,
   "metadata": {},
   "outputs": [
    {
     "data": {
      "image/png": "[encoded data removed]",
      "text/plain": [
       "<Figure size 576x360 with 1 Axes>"
      ]
     },
     "metadata": {
      "needs_background": "light"
     },
     "output_type": "display_data"
    }
   ],
   "source": [
    "# Box Plot for Humidity at 3 PM\n",
    "plt.figure(figsize=(8, 5))\n",
    "sns.boxplot(y=df['Humidity3pm'])\n",
    "plt.title('Box Plot of Humidity at 3 PM')\n",
    "plt.ylabel('Humidity3pm')\n",
    "plt.show()"
   ]
  },
  {
   "cell_type": "code",
   "execution_count": 156,
   "metadata": {},
   "outputs": [
    {
     "data": {
      "image/png": "[encoded data removed]",
      "text/plain": [
       "<Figure size 576x360 with 1 Axes>"
      ]
     },
     "metadata": {
      "needs_background": "light"
     },
     "output_type": "display_data"
    }
   ],
   "source": [
    "# Box Plot for Pressure at 9 AM\n",
    "plt.figure(figsize=(8, 5))\n",
    "sns.boxplot(y=df['Pressure9am'])\n",
    "plt.title('Box Plot of Pressure at 9 AM')\n",
    "plt.ylabel('Pressure9am')\n",
    "plt.show()"
   ]
  },
  {
   "cell_type": "code",
   "execution_count": 157,
   "metadata": {},
   "outputs": [
    {
     "data": {
      "image/png": "[encoded data removed]",
      "text/plain": [
       "<Figure size 576x360 with 1 Axes>"
      ]
     },
     "metadata": {
      "needs_background": "light"
     },
     "output_type": "display_data"
    }
   ],
   "source": [
    "# Box Plot for Pressure at 3 PM\n",
    "plt.figure(figsize=(8, 5))\n",
    "sns.boxplot(y=df['Pressure3pm'])\n",
    "plt.title('Box Plot of Pressure at 3 PM')\n",
    "plt.ylabel('Pressure3pm')\n",
    "plt.show()"
   ]
  },
  {
   "cell_type": "code",
   "execution_count": 158,
   "metadata": {},
   "outputs": [
    {
     "data": {
      "image/png": "[encoded data removed]",
      "text/plain": [
       "<Figure size 576x360 with 1 Axes>"
      ]
     },
     "metadata": {
      "needs_background": "light"
     },
     "output_type": "display_data"
    }
   ],
   "source": [
    "# Box Plot for Cloud Cover at 9 AM\n",
    "plt.figure(figsize=(8, 5))\n",
    "sns.boxplot(y=df['Cloud9am'])\n",
    "plt.title('Box Plot of Cloud Cover at 9 AM')\n",
    "plt.ylabel('Cloud9am')\n",
    "plt.show()"
   ]
  },
  {
   "cell_type": "code",
   "execution_count": 159,
   "metadata": {},
   "outputs": [
    {
     "data": {
      "image/png": "[encoded data removed]",
      "text/plain": [
       "<Figure size 576x360 with 1 Axes>"
      ]
     },
     "metadata": {
      "needs_background": "light"
     },
     "output_type": "display_data"
    }
   ],
   "source": [
    "# Box Plot for Cloud Cover at 3 PM\n",
    "plt.figure(figsize=(8, 5))\n",
    "sns.boxplot(y=df['Cloud3pm'])\n",
    "plt.title('Box Plot of Cloud Cover at 3 PM')\n",
    "plt.ylabel('Cloud3pm')\n",
    "plt.show()"
   ]
  },
  {
   "cell_type": "markdown",
   "metadata": {},
   "source": []
  },
  {
   "cell_type": "markdown",
   "metadata": {},
   "source": [
    "### Outlier Treatment"
   ]
  },
  {
   "cell_type": "markdown",
   "metadata": {},
   "source": [
    "**Based on the box plots, we will determine whether to treat outliers in specific features. We can use the IQR method to identify the boundaries and decide if the outliers are significant enough to be removed or retained.**\n"
   ]
  },
  {
   "cell_type": "markdown",
   "metadata": {},
   "source": [
    "#### Outlier Analysis for \"Rainfall\"\n",
    "* We will perform the IQR method to determine if outliers in \"Rainfall\" should be treated."
   ]
  },
  {
   "cell_type": "code",
   "execution_count": 160,
   "metadata": {},
   "outputs": [],
   "source": [
    "# Calculate the 25th percentile (Q1) and 75th percentile (Q3)\n",
    "percent25 = df['Rainfall'].quantile(0.25)\n",
    "percent75 = df['Rainfall'].quantile(0.75)"
   ]
  },
  {
   "cell_type": "code",
   "execution_count": 161,
   "metadata": {},
   "outputs": [],
   "source": [
    "# Calculate the Interquartile Range (IQR)\n",
    "iqr = percent75 - percent25"
   ]
  },
  {
   "cell_type": "code",
   "execution_count": 162,
   "metadata": {},
   "outputs": [],
   "source": [
    "# Calculate the upper and lower limits for detecting outliers\n",
    "upper_limit = percent75 + 1.5 * iqr\n",
    "lower_limit = percent25 - 1.5 * iqr"
   ]
  },
  {
   "cell_type": "code",
   "execution_count": 163,
   "metadata": {},
   "outputs": [
    {
     "name": "stdout",
     "output_type": "stream",
     "text": [
      "25th Percentile (Q1): 0.0\n",
      "75th Percentile (Q3): 1.4\n",
      "Interquartile Range (IQR): 1.4\n",
      "Upper Limit for Outliers: 3.4999999999999996\n",
      "Lower Limit for Outliers: -2.0999999999999996\n"
     ]
    }
   ],
   "source": [
    "# Display the calculated values\n",
    "print(\"25th Percentile (Q1):\", percent25)\n",
    "print(\"75th Percentile (Q3):\", percent75)\n",
    "print(\"Interquartile Range (IQR):\", iqr)\n",
    "print(\"Upper Limit for Outliers:\", upper_limit)\n",
    "print(\"Lower Limit for Outliers:\", lower_limit)"
   ]
  },
  {
   "cell_type": "code",
   "execution_count": 164,
   "metadata": {},
   "outputs": [
    {
     "name": "stdout",
     "output_type": "stream",
     "text": [
      "Number of outliers in 'Rainfall': 612\n"
     ]
    },
    {
     "data": {
      "text/html": [
       "<div>\n",
       "<style scoped>\n",
       "    .dataframe tbody tr th:only-of-type {\n",
       "        vertical-align: middle;\n",
       "    }\n",
       "\n",
       "    .dataframe tbody tr th {\n",
       "        vertical-align: top;\n",
       "    }\n",
       "\n",
       "    .dataframe thead th {\n",
       "        text-align: right;\n",
       "    }\n",
       "</style>\n",
       "<table border=\"1\" class=\"dataframe\">\n",
       "  <thead>\n",
       "    <tr style=\"text-align: right;\">\n",
       "      <th></th>\n",
       "      <th>MinTemp</th>\n",
       "      <th>MaxTemp</th>\n",
       "      <th>Rainfall</th>\n",
       "      <th>Evaporation</th>\n",
       "      <th>Sunshine</th>\n",
       "      <th>Humidity9am</th>\n",
       "      <th>Humidity3pm</th>\n",
       "      <th>Pressure9am</th>\n",
       "      <th>Pressure3pm</th>\n",
       "      <th>Cloud9am</th>\n",
       "      <th>Cloud3pm</th>\n",
       "      <th>Temp9am</th>\n",
       "      <th>Temp3pm</th>\n",
       "      <th>RainTomorrow</th>\n",
       "      <th>RainToday_Yes</th>\n",
       "    </tr>\n",
       "  </thead>\n",
       "  <tbody>\n",
       "    <tr>\n",
       "      <th>0</th>\n",
       "      <td>19.5</td>\n",
       "      <td>22.4</td>\n",
       "      <td>15.6</td>\n",
       "      <td>6.200000</td>\n",
       "      <td>0.0</td>\n",
       "      <td>92.0</td>\n",
       "      <td>84.0</td>\n",
       "      <td>1017.6</td>\n",
       "      <td>1017.4</td>\n",
       "      <td>8.0</td>\n",
       "      <td>8.0</td>\n",
       "      <td>20.7</td>\n",
       "      <td>20.9</td>\n",
       "      <td>Yes</td>\n",
       "      <td>1</td>\n",
       "    </tr>\n",
       "    <tr>\n",
       "      <th>1</th>\n",
       "      <td>19.5</td>\n",
       "      <td>25.6</td>\n",
       "      <td>6.0</td>\n",
       "      <td>3.400000</td>\n",
       "      <td>2.7</td>\n",
       "      <td>83.0</td>\n",
       "      <td>73.0</td>\n",
       "      <td>1017.9</td>\n",
       "      <td>1016.4</td>\n",
       "      <td>7.0</td>\n",
       "      <td>7.0</td>\n",
       "      <td>22.4</td>\n",
       "      <td>24.8</td>\n",
       "      <td>Yes</td>\n",
       "      <td>1</td>\n",
       "    </tr>\n",
       "    <tr>\n",
       "      <th>2</th>\n",
       "      <td>21.6</td>\n",
       "      <td>24.5</td>\n",
       "      <td>6.6</td>\n",
       "      <td>2.400000</td>\n",
       "      <td>0.1</td>\n",
       "      <td>88.0</td>\n",
       "      <td>86.0</td>\n",
       "      <td>1016.7</td>\n",
       "      <td>1015.6</td>\n",
       "      <td>7.0</td>\n",
       "      <td>8.0</td>\n",
       "      <td>23.5</td>\n",
       "      <td>23.0</td>\n",
       "      <td>Yes</td>\n",
       "      <td>1</td>\n",
       "    </tr>\n",
       "    <tr>\n",
       "      <th>3</th>\n",
       "      <td>20.2</td>\n",
       "      <td>22.8</td>\n",
       "      <td>18.8</td>\n",
       "      <td>2.200000</td>\n",
       "      <td>0.0</td>\n",
       "      <td>83.0</td>\n",
       "      <td>90.0</td>\n",
       "      <td>1014.2</td>\n",
       "      <td>1011.8</td>\n",
       "      <td>8.0</td>\n",
       "      <td>8.0</td>\n",
       "      <td>21.4</td>\n",
       "      <td>20.9</td>\n",
       "      <td>Yes</td>\n",
       "      <td>1</td>\n",
       "    </tr>\n",
       "    <tr>\n",
       "      <th>4</th>\n",
       "      <td>19.7</td>\n",
       "      <td>25.7</td>\n",
       "      <td>77.4</td>\n",
       "      <td>5.187432</td>\n",
       "      <td>0.0</td>\n",
       "      <td>88.0</td>\n",
       "      <td>74.0</td>\n",
       "      <td>1008.3</td>\n",
       "      <td>1004.8</td>\n",
       "      <td>8.0</td>\n",
       "      <td>8.0</td>\n",
       "      <td>22.5</td>\n",
       "      <td>25.5</td>\n",
       "      <td>Yes</td>\n",
       "      <td>1</td>\n",
       "    </tr>\n",
       "  </tbody>\n",
       "</table>\n",
       "</div>"
      ],
      "text/plain": [
       "   MinTemp  MaxTemp  Rainfall  Evaporation  Sunshine  Humidity9am  \\\n",
       "0     19.5     22.4      15.6     6.200000       0.0         92.0   \n",
       "1     19.5     25.6       6.0     3.400000       2.7         83.0   \n",
       "2     21.6     24.5       6.6     2.400000       0.1         88.0   \n",
       "3     20.2     22.8      18.8     2.200000       0.0         83.0   \n",
       "4     19.7     25.7      77.4     5.187432       0.0         88.0   \n",
       "\n",
       "   Humidity3pm  Pressure9am  Pressure3pm  Cloud9am  Cloud3pm  Temp9am  \\\n",
       "0         84.0       1017.6       1017.4       8.0       8.0     20.7   \n",
       "1         73.0       1017.9       1016.4       7.0       7.0     22.4   \n",
       "2         86.0       1016.7       1015.6       7.0       8.0     23.5   \n",
       "3         90.0       1014.2       1011.8       8.0       8.0     21.4   \n",
       "4         74.0       1008.3       1004.8       8.0       8.0     22.5   \n",
       "\n",
       "   Temp3pm RainTomorrow  RainToday_Yes  \n",
       "0     20.9          Yes              1  \n",
       "1     24.8          Yes              1  \n",
       "2     23.0          Yes              1  \n",
       "3     20.9          Yes              1  \n",
       "4     25.5          Yes              1  "
      ]
     },
     "execution_count": 164,
     "metadata": {},
     "output_type": "execute_result"
    }
   ],
   "source": [
    "# Identify the outliers in the \"Rainfall\" column\n",
    "rainfall_outliers = df[(df['Rainfall'] > upper_limit)]\n",
    "print(\"Number of outliers in 'Rainfall':\", len(rainfall_outliers))\n",
    "rainfall_outliers.head()"
   ]
  },
  {
   "cell_type": "markdown",
   "metadata": {},
   "source": [
    "### Conclusion on Outlier Analysis for \"Rainfall\"\n",
    "* Our analysis reveals that there are some outliers in the \"Rainfall\" column, specifically values above the calculated upper limit. However, since these values might represent real, significant weather events, removing them could reduce the accuracy of the model in predicting heavy rainfall scenarios. Therefore, I recommend keeping these outliers in the dataset to maintain the model's ability to capture all weather patterns accurately."
   ]
  },
  {
   "cell_type": "markdown",
   "metadata": {},
   "source": [
    "## Model Training and Evaluation\n",
    "\n",
    "* Now that we have preprocessed the data, analyzed relationships using a correlation matrix, and visualized the outliers, we will proceed to train the machine learning models and evaluate their performance."
   ]
  },
  {
   "cell_type": "code",
   "execution_count": 165,
   "metadata": {},
   "outputs": [],
   "source": [
    "# Split the dataset into training and testing datasets with test size of 0.2\n",
    "X_train_02, X_test_02, y_train_02, y_test_02 = train_test_split(X, y, test_size=0.2, random_state=42)"
   ]
  },
  {
   "cell_type": "markdown",
   "metadata": {},
   "source": [
    "### Decision Tree Classifier"
   ]
  },
  {
   "cell_type": "code",
   "execution_count": 166,
   "metadata": {},
   "outputs": [
    {
     "data": {
      "text/plain": [
       "DecisionTreeClassifier(random_state=42)"
      ]
     },
     "execution_count": 166,
     "metadata": {},
     "output_type": "execute_result"
    }
   ],
   "source": [
    "# Decision Tree Classifier\n",
    "dt_model = DecisionTreeClassifier(random_state=42)\n",
    "dt_model.fit(X_train, y_train)"
   ]
  },
  {
   "cell_type": "code",
   "execution_count": 167,
   "metadata": {},
   "outputs": [],
   "source": [
    "# Predictions\n",
    "y_pred_dt = dt_model.predict(X_test)"
   ]
  },
  {
   "cell_type": "code",
   "execution_count": 168,
   "metadata": {},
   "outputs": [
    {
     "name": "stdout",
     "output_type": "stream",
     "text": [
      "Decision Tree Accuracy: 0.7604790419161677\n",
      "Confusion Matrix:\n",
      " [[402  82]\n",
      " [ 78 106]]\n",
      "Classification Report:\n",
      "               precision    recall  f1-score   support\n",
      "\n",
      "          No       0.84      0.83      0.83       484\n",
      "         Yes       0.56      0.58      0.57       184\n",
      "\n",
      "    accuracy                           0.76       668\n",
      "   macro avg       0.70      0.70      0.70       668\n",
      "weighted avg       0.76      0.76      0.76       668\n",
      "\n"
     ]
    }
   ],
   "source": [
    "# Evaluate\n",
    "print(\"Decision Tree Accuracy:\", accuracy_score(y_test, y_pred_dt))\n",
    "print(\"Confusion Matrix:\\n\", confusion_matrix(y_test, y_pred_dt))\n",
    "print(\"Classification Report:\\n\", classification_report(y_test, y_pred_dt))"
   ]
  },
  {
   "cell_type": "markdown",
   "metadata": {},
   "source": [
    "### Random Forest Classifier"
   ]
  },
  {
   "cell_type": "code",
   "execution_count": 169,
   "metadata": {},
   "outputs": [
    {
     "data": {
      "text/plain": [
       "RandomForestClassifier(random_state=42)"
      ]
     },
     "execution_count": 169,
     "metadata": {},
     "output_type": "execute_result"
    }
   ],
   "source": [
    "# Random Forest Classifier\n",
    "rf_model = RandomForestClassifier(n_estimators=100, random_state=42)\n",
    "rf_model.fit(X_train, y_train)"
   ]
  },
  {
   "cell_type": "code",
   "execution_count": 170,
   "metadata": {},
   "outputs": [],
   "source": [
    "# Predictions\n",
    "y_pred_rf = rf_model.predict(X_test)"
   ]
  },
  {
   "cell_type": "code",
   "execution_count": 171,
   "metadata": {},
   "outputs": [
    {
     "name": "stdout",
     "output_type": "stream",
     "text": [
      "Random Forest Accuracy: 0.8263473053892215\n",
      "Confusion Matrix:\n",
      " [[448  36]\n",
      " [ 80 104]]\n",
      "Classification Report:\n",
      "               precision    recall  f1-score   support\n",
      "\n",
      "          No       0.85      0.93      0.89       484\n",
      "         Yes       0.74      0.57      0.64       184\n",
      "\n",
      "    accuracy                           0.83       668\n",
      "   macro avg       0.80      0.75      0.76       668\n",
      "weighted avg       0.82      0.83      0.82       668\n",
      "\n"
     ]
    }
   ],
   "source": [
    "# Evaluate\n",
    "print(\"Random Forest Accuracy:\", accuracy_score(y_test, y_pred_rf))\n",
    "print(\"Confusion Matrix:\\n\", confusion_matrix(y_test, y_pred_rf))\n",
    "print(\"Classification Report:\\n\", classification_report(y_test, y_pred_rf))"
   ]
  },
  {
   "cell_type": "markdown",
   "metadata": {},
   "source": [
    "### Gradient Boosting Classifier"
   ]
  },
  {
   "cell_type": "code",
   "execution_count": 172,
   "metadata": {},
   "outputs": [
    {
     "data": {
      "text/plain": [
       "GradientBoostingClassifier(random_state=42)"
      ]
     },
     "execution_count": 172,
     "metadata": {},
     "output_type": "execute_result"
    }
   ],
   "source": [
    "# Gradient Boosting Classifier\n",
    "gb_model = GradientBoostingClassifier(n_estimators=100, learning_rate=0.1, random_state=42)\n",
    "gb_model.fit(X_train, y_train)"
   ]
  },
  {
   "cell_type": "code",
   "execution_count": 173,
   "metadata": {},
   "outputs": [],
   "source": [
    "# Predictions\n",
    "y_pred_gb = gb_model.predict(X_test)"
   ]
  },
  {
   "cell_type": "code",
   "execution_count": 174,
   "metadata": {},
   "outputs": [
    {
     "name": "stdout",
     "output_type": "stream",
     "text": [
      "Gradient Boosting Accuracy: 0.8203592814371258\n",
      "Confusion Matrix:\n",
      " [[447  37]\n",
      " [ 83 101]]\n",
      "Classification Report:\n",
      "               precision    recall  f1-score   support\n",
      "\n",
      "          No       0.84      0.92      0.88       484\n",
      "         Yes       0.73      0.55      0.63       184\n",
      "\n",
      "    accuracy                           0.82       668\n",
      "   macro avg       0.79      0.74      0.75       668\n",
      "weighted avg       0.81      0.82      0.81       668\n",
      "\n"
     ]
    }
   ],
   "source": [
    "# Evaluate\n",
    "print(\"Gradient Boosting Accuracy:\", accuracy_score(y_test, y_pred_gb))\n",
    "print(\"Confusion Matrix:\\n\", confusion_matrix(y_test, y_pred_gb))\n",
    "print(\"Classification Report:\\n\", classification_report(y_test, y_pred_gb))"
   ]
  },
  {
   "cell_type": "markdown",
   "metadata": {},
   "source": [
    "## Model Training and Evaluation with Test Size 0.1"
   ]
  },
  {
   "cell_type": "code",
   "execution_count": 175,
   "metadata": {},
   "outputs": [],
   "source": [
    "# Split the dataset into training and testing datasets with test size of 0.1\n",
    "X_train_01, X_test_01, y_train_01, y_test_01 = train_test_split(X, y, test_size=0.1, random_state=42)"
   ]
  },
  {
   "cell_type": "code",
   "execution_count": 176,
   "metadata": {},
   "outputs": [],
   "source": [
    "### Decision Tree Classifier"
   ]
  },
  {
   "cell_type": "code",
   "execution_count": 177,
   "metadata": {},
   "outputs": [
    {
     "data": {
      "text/plain": [
       "DecisionTreeClassifier(random_state=42)"
      ]
     },
     "execution_count": 177,
     "metadata": {},
     "output_type": "execute_result"
    }
   ],
   "source": [
    "# Decision Tree Classifier\n",
    "dt_model = DecisionTreeClassifier(random_state=42)\n",
    "dt_model.fit(X_train_01, y_train_01)"
   ]
  },
  {
   "cell_type": "code",
   "execution_count": 178,
   "metadata": {},
   "outputs": [],
   "source": [
    "# Predictions\n",
    "y_pred_dt_01 = dt_model.predict(X_test_01)"
   ]
  },
  {
   "cell_type": "code",
   "execution_count": 179,
   "metadata": {},
   "outputs": [
    {
     "name": "stdout",
     "output_type": "stream",
     "text": [
      "Decision Tree Accuracy (Test Size 0.1): 0.7784431137724551\n",
      "Confusion Matrix:\n",
      " [[204  43]\n",
      " [ 31  56]]\n",
      "Classification Report:\n",
      "               precision    recall  f1-score   support\n",
      "\n",
      "          No       0.87      0.83      0.85       247\n",
      "         Yes       0.57      0.64      0.60        87\n",
      "\n",
      "    accuracy                           0.78       334\n",
      "   macro avg       0.72      0.73      0.72       334\n",
      "weighted avg       0.79      0.78      0.78       334\n",
      "\n"
     ]
    }
   ],
   "source": [
    "# Evaluate Decision Tree\n",
    "print(\"Decision Tree Accuracy (Test Size 0.1):\", accuracy_score(y_test_01, y_pred_dt_01))\n",
    "print(\"Confusion Matrix:\\n\", confusion_matrix(y_test_01, y_pred_dt_01))\n",
    "print(\"Classification Report:\\n\", classification_report(y_test_01, y_pred_dt_01))"
   ]
  },
  {
   "cell_type": "markdown",
   "metadata": {},
   "source": [
    "### Random Forest Classifier"
   ]
  },
  {
   "cell_type": "code",
   "execution_count": 180,
   "metadata": {},
   "outputs": [
    {
     "data": {
      "text/plain": [
       "RandomForestClassifier(random_state=42)"
      ]
     },
     "execution_count": 180,
     "metadata": {},
     "output_type": "execute_result"
    }
   ],
   "source": [
    "# Random Forest Classifier\n",
    "rf_model = RandomForestClassifier(random_state=42)\n",
    "rf_model.fit(X_train_01, y_train_01)"
   ]
  },
  {
   "cell_type": "code",
   "execution_count": 181,
   "metadata": {},
   "outputs": [],
   "source": [
    "# Predictions\n",
    "y_pred_rf_01 = rf_model.predict(X_test_01)"
   ]
  },
  {
   "cell_type": "code",
   "execution_count": 182,
   "metadata": {},
   "outputs": [
    {
     "name": "stdout",
     "output_type": "stream",
     "text": [
      "Random Forest Accuracy (Test Size 0.1): 0.8473053892215568\n",
      "Confusion Matrix:\n",
      " [[233  14]\n",
      " [ 37  50]]\n",
      "Classification Report:\n",
      "               precision    recall  f1-score   support\n",
      "\n",
      "          No       0.86      0.94      0.90       247\n",
      "         Yes       0.78      0.57      0.66        87\n",
      "\n",
      "    accuracy                           0.85       334\n",
      "   macro avg       0.82      0.76      0.78       334\n",
      "weighted avg       0.84      0.85      0.84       334\n",
      "\n"
     ]
    }
   ],
   "source": [
    "# Evaluate Random Forest\n",
    "print(\"Random Forest Accuracy (Test Size 0.1):\", accuracy_score(y_test_01, y_pred_rf_01))\n",
    "print(\"Confusion Matrix:\\n\", confusion_matrix(y_test_01, y_pred_rf_01))\n",
    "print(\"Classification Report:\\n\", classification_report(y_test_01, y_pred_rf_01))"
   ]
  },
  {
   "cell_type": "markdown",
   "metadata": {},
   "source": [
    "### Gradient Boosting Classifier"
   ]
  },
  {
   "cell_type": "code",
   "execution_count": 183,
   "metadata": {},
   "outputs": [
    {
     "data": {
      "text/plain": [
       "GradientBoostingClassifier(random_state=42)"
      ]
     },
     "execution_count": 183,
     "metadata": {},
     "output_type": "execute_result"
    }
   ],
   "source": [
    "# Gradient Boosting Classifier\n",
    "gb_model = GradientBoostingClassifier(random_state=42)\n",
    "gb_model.fit(X_train_01, y_train_01)"
   ]
  },
  {
   "cell_type": "code",
   "execution_count": 184,
   "metadata": {},
   "outputs": [],
   "source": [
    "# Predictions\n",
    "y_pred_gb_01 = gb_model.predict(X_test_01)"
   ]
  },
  {
   "cell_type": "code",
   "execution_count": 185,
   "metadata": {},
   "outputs": [
    {
     "name": "stdout",
     "output_type": "stream",
     "text": [
      "Gradient Boosting Accuracy (Test Size 0.1): 0.8353293413173652\n",
      "Confusion Matrix:\n",
      " [[231  16]\n",
      " [ 39  48]]\n",
      "Classification Report:\n",
      "               precision    recall  f1-score   support\n",
      "\n",
      "          No       0.86      0.94      0.89       247\n",
      "         Yes       0.75      0.55      0.64        87\n",
      "\n",
      "    accuracy                           0.84       334\n",
      "   macro avg       0.80      0.74      0.76       334\n",
      "weighted avg       0.83      0.84      0.83       334\n",
      "\n"
     ]
    }
   ],
   "source": [
    "# Evaluate Gradient Boosting\n",
    "print(\"Gradient Boosting Accuracy (Test Size 0.1):\", accuracy_score(y_test_01, y_pred_gb_01))\n",
    "print(\"Confusion Matrix:\\n\", confusion_matrix(y_test_01, y_pred_gb_01))\n",
    "print(\"Classification Report:\\n\", classification_report(y_test_01, y_pred_gb_01))"
   ]
  },
  {
   "cell_type": "code",
   "execution_count": null,
   "metadata": {},
   "outputs": [],
   "source": []
  },
  {
   "cell_type": "markdown",
   "metadata": {},
   "source": [
    "## Model Performance Summary"
   ]
  },
  {
   "cell_type": "markdown",
   "metadata": {},
   "source": [
    "**To evaluate the performance of different models in predicting rainfall, we focused on accuracy as the primary metric. The models tested were Decision Tree, Random Forest, and Gradient Boosting. We also reviewed metrics like precision, recall, and F1 score through the confusion matrix and classification report to gain deeper insights.**"
   ]
  },
  {
   "cell_type": "markdown",
   "metadata": {},
   "source": [
    "## Model Performance Across Scenarios"
   ]
  },
  {
   "cell_type": "markdown",
   "metadata": {},
   "source": [
    "**The models were evaluated using two different test sizes, 0.2 and 0.1, with feature scaling applied.**"
   ]
  },
  {
   "cell_type": "markdown",
   "metadata": {},
   "source": [
    "**Scenario 1: Test Size = 0.2**\n",
    "- **Decision Tree:** The Decision Tree classifier achieved a moderate accuracy score. While it was able to capture simple decision boundaries, it tended to overfit due to its nature.\n",
    "- **Random Forest:** Random Forest provided higher accuracy compared to Decision Tree. The ensemble approach helped reduce variance, improving predictive performance.\n",
    "- **Gradient Boosting:** Gradient Boosting also performed well, with accuracy slightly below Random Forest. It managed to correct errors in predictions through sequential learning."
   ]
  },
  {
   "cell_type": "markdown",
   "metadata": {},
   "source": [
    "**Scenario 2: Test Size = 0.1**\n",
    "- **Decision Tree:** When using a smaller test size, the Decision Tree's accuracy slightly increased, but the model still faced challenges with generalization.\n",
    "- **Random Forest:** Random Forest continued to perform the best, benefiting from the larger training set available with the smaller test size.\n",
    "- **Gradient Boosting:** Similar to Random Forest, Gradient Boosting also showed improved accuracy, indicating its strength in learning from more training data."
   ]
  },
  {
   "cell_type": "markdown",
   "metadata": {},
   "source": [
    "## Summary"
   ]
  },
  {
   "cell_type": "markdown",
   "metadata": {},
   "source": [
    "**Model Performance:**\n",
    "\n",
    "- **Random Forest** consistently achieved the highest accuracy across both scenarios (0.2 and 0.1 test sizes), demonstrating its effectiveness for this task.\n",
    "- **Gradient Boosting** was a close second to Random Forest, showing good accuracy due to its ability to iteratively correct misclassifications.\n",
    "- **Decision Tree** performed the worst among the three, primarily due to its susceptibility to overfitting without ensemble support."
   ]
  },
  {
   "cell_type": "markdown",
   "metadata": {},
   "source": [
    "**Impact of Test Size:**\n",
    "\n",
    "* Using a smaller test size (0.1) generally improved the accuracy of all models, likely due to the increased training data available.\n",
    "- **Random Forest** benefited the most from the larger training set, suggesting that it scales well with more data."
   ]
  },
  {
   "cell_type": "markdown",
   "metadata": {},
   "source": [
    "**Overall Evaluation:**\n",
    "\n",
    "* Considering accuracy as the primary metric, Random Forest emerged as the best model for predicting rainfall, followed by Gradient Boosting.\n",
    "* The Decision Tree was the simplest but had a higher risk of overfitting and lower accuracy compared to the ensemble methods."
   ]
  },
  {
   "cell_type": "markdown",
   "metadata": {},
   "source": [
    "## Steps to Further Improve Model Performance"
   ]
  },
  {
   "cell_type": "markdown",
   "metadata": {},
   "source": [
    "**Increase the Number of Trees (Estimators):**\n",
    "\n",
    "* For both Random Forest and Gradient Boosting, increasing the number of estimators can help improve accuracy by reducing variance in Random Forest and by better correcting residual errors in Gradient Boosting."
   ]
  },
  {
   "cell_type": "markdown",
   "metadata": {},
   "source": [
    "**Hyperparameter Tuning:**\n",
    "\n",
    "* Use GridSearchCV or RandomizedSearchCV to optimize hyperparameters such as n_estimators, max_depth, min_samples_split, and learning_rate for Random Forest and Gradient Boosting."
   ]
  },
  {
   "cell_type": "markdown",
   "metadata": {},
   "source": [
    "**Feature Selection:**\n",
    "\n",
    "* Analyze the feature importance from models like Random Forest to determine which features contribute most to the prediction. Removing less informative features can improve the model’s efficiency and potentially enhance its performance by reducing overfitting."
   ]
  },
  {
   "cell_type": "markdown",
   "metadata": {},
   "source": [
    "**Cross-Validation:**\n",
    "\n",
    "* Implement k-fold cross-validation to validate model performance across different splits of the dataset, ensuring the model generalizes well and minimizing overfitting."
   ]
  },
  {
   "cell_type": "markdown",
   "metadata": {},
   "source": [
    "**Feature Engineering and Selection:**"
   ]
  },
  {
   "cell_type": "markdown",
   "metadata": {},
   "source": [
    "* Investigate feature importance, as determined by Random Forest or Gradient Boosting, to eliminate less informative features. Additionally, feature engineering could reveal new insights or improve the predictive power of the model."
   ]
  },
  {
   "cell_type": "markdown",
   "metadata": {},
   "source": [
    "### Summary of Feature Scaling Impact"
   ]
  },
  {
   "cell_type": "markdown",
   "metadata": {},
   "source": [
    "* Feature Scaling generally improved the performance of all models. It helped Gradient Boosting and Random Forest to achieve consistent results by ensuring that features contributed equally, especially in cases where numerical variables had different ranges."
   ]
  },
  {
   "cell_type": "markdown",
   "metadata": {},
   "source": [
    "### Conclusion"
   ]
  },
  {
   "cell_type": "markdown",
   "metadata": {},
   "source": [
    "**IIn conclusion, Random Forest proved to be the best model across different test sizes and scenarios, consistently delivering the highest accuracy. Gradient Boosting was also effective, while Decision Tree provided a baseline but was not as robust as the ensemble methods. Feature scaling and hyperparameter tuning would further enhance model performance, making them ideal next steps for improvement.**"
   ]
  },
  {
   "cell_type": "code",
   "execution_count": null,
   "metadata": {},
   "outputs": [],
   "source": []
  }
 ],
 "metadata": {
  "kernelspec": {
   "display_name": "Python 3",
   "language": "python",
   "name": "python3"
  },
  "language_info": {
   "codemirror_mode": {
    "name": "ipython",
    "version": 3
   },
   "file_extension": ".py",
   "mimetype": "text/x-python",
   "name": "python",
   "nbconvert_exporter": "python",
   "pygments_lexer": "ipython3",
   "version": "3.8.5"
  }
 },
 "nbformat": 4,
 "nbformat_minor": 4
}
