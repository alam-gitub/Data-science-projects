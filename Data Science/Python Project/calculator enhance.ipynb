{
 "cells": [
  {
   "cell_type": "markdown",
   "metadata": {},
   "source": [
    "# Calculator"
   ]
  },
  {
   "cell_type": "code",
   "execution_count": 1,
   "metadata": {},
   "outputs": [
    {
     "name": "stdout",
     "output_type": "stream",
     "text": [
      "\n",
      "==============================\n",
      "Simple Calculator\n",
      "Operations: +, -, *, /\n",
      "Type 'quit' to exit\n",
      "==============================\n",
      "Enter first number (or 'quit' to exit): 25\n",
      "Enter operator (+, -, *, /): /\n",
      "Enter second number: \n",
      "Invalid input! Please enter numeric values.\n",
      "\n",
      "==============================\n",
      "Simple Calculator\n",
      "Operations: +, -, *, /\n",
      "Type 'quit' to exit\n",
      "==============================\n",
      "Enter first number (or 'quit' to exit): 25\n",
      "Enter operator (+, -, *, /): /\n",
      "Enter second number: 4\n",
      "Result: 25.0 / 4.0 = 6.25\n",
      "\n",
      "==============================\n",
      "Simple Calculator\n",
      "Operations: +, -, *, /\n",
      "Type 'quit' to exit\n",
      "==============================\n",
      "Enter first number (or 'quit' to exit): abc\n",
      "Invalid input! Please enter numeric values.\n",
      "\n",
      "==============================\n",
      "Simple Calculator\n",
      "Operations: +, -, *, /\n",
      "Type 'quit' to exit\n",
      "==============================\n",
      "Enter first number (or 'quit' to exit): quit\n",
      "Thank you for using the calculator. Goodbye!\n"
     ]
    }
   ],
   "source": [
    "def calculator():\n",
    "    while True:\n",
    "        print(\"\\n\" + \"=\"*30)\n",
    "        print(\"Simple Calculator\")\n",
    "        print(\"Operations: +, -, *, /\")\n",
    "        print(\"Type 'quit' to exit\")\n",
    "        print(\"=\"*30)\n",
    "        \n",
    "        # Get first number or check for quit\n",
    "        num1_input = input(\"Enter first number (or 'quit' to exit): \")\n",
    "        if num1_input.lower() == 'quit':\n",
    "            print(\"Thank you for using the calculator. Goodbye!\")\n",
    "            break\n",
    "            \n",
    "        try:\n",
    "            num1 = float(num1_input)\n",
    "            operator = input(\"Enter operator (+, -, *, /): \")\n",
    "            \n",
    "            # Get second number\n",
    "            num2_input = input(\"Enter second number: \")\n",
    "            num2 = float(num2_input)\n",
    "            \n",
    "            # Perform calculation\n",
    "            if operator == '+':\n",
    "                result = num1 + num2\n",
    "            elif operator == '-':\n",
    "                result = num1 - num2\n",
    "            elif operator == '*':\n",
    "                result = num1 * num2\n",
    "            elif operator == '/':\n",
    "                if num2 == 0:\n",
    "                    print(\"Error: Division by zero is not allowed!\")\n",
    "                    continue\n",
    "                result = num1 / num2\n",
    "            else:\n",
    "                print(\"Invalid operator! Please use +, -, *, or /\")\n",
    "                continue\n",
    "            \n",
    "            print(f\"Result: {num1} {operator} {num2} = {result}\")\n",
    "            \n",
    "        except ValueError:\n",
    "            print(\"Invalid input! Please enter numeric values.\")\n",
    "\n",
    "# Run the calculator\n",
    "if __name__ == \"__main__\":\n",
    "    calculator()"
   ]
  },
  {
   "cell_type": "code",
   "execution_count": null,
   "metadata": {},
   "outputs": [],
   "source": []
  }
 ],
 "metadata": {
  "kernelspec": {
   "display_name": "Python 3",
   "language": "python",
   "name": "python3"
  },
  "language_info": {
   "codemirror_mode": {
    "name": "ipython",
    "version": 3
   },
   "file_extension": ".py",
   "mimetype": "text/x-python",
   "name": "python",
   "nbconvert_exporter": "python",
   "pygments_lexer": "ipython3",
   "version": "3.8.5"
  }
 },
 "nbformat": 4,
 "nbformat_minor": 4
}
