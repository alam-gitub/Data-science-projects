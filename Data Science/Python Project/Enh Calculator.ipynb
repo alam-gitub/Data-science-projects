{
 "cells": [
  {
   "cell_type": "code",
   "execution_count": null,
   "metadata": {},
   "outputs": [
    {
     "name": "stdout",
     "output_type": "stream",
     "text": [
      "\n",
      "========================================\n",
      "PYTHON CALCULATOR\n",
      "========================================\n",
      "Enter two numbers and an operator\n",
      "Type 'exit' to quit\n",
      "----------------------------------------\n",
      "First number: 258\n",
      "Operator (+, -, *, /): -\n",
      "Second number: 123\n",
      "✅ 258.0 - 123.0 = 135.0\n",
      "\n",
      "========================================\n",
      "PYTHON CALCULATOR\n",
      "========================================\n",
      "Enter two numbers and an operator\n",
      "Type 'exit' to quit\n",
      "----------------------------------------\n",
      "First number: 256\n",
      "Operator (+, -, *, /): +\n",
      "Second number: 232\n",
      "✅ 256.0 + 232.0 = 488.0\n",
      "\n",
      "========================================\n",
      "PYTHON CALCULATOR\n",
      "========================================\n",
      "Enter two numbers and an operator\n",
      "Type 'exit' to quit\n",
      "----------------------------------------\n"
     ]
    }
   ],
   "source": [
    "def calc():\n",
    "    while True:\n",
    "        print(\"\\n\" + \"=\"*40)\n",
    "        print(\"PYTHON CALCULATOR\")\n",
    "        print(\"=\"*40)\n",
    "        print(\"Enter two numbers and an operator\")\n",
    "        print(\"Type 'exit' to quit\")\n",
    "        print(\"-\"*40)\n",
    "        \n",
    "        try:\n",
    "            # Get first input\n",
    "            first_input = input(\"First number: \")\n",
    "            if first_input.lower() == 'exit':\n",
    "                print(\"Goodbye! 👋\")\n",
    "                break\n",
    "                \n",
    "            num1 = float(first_input)\n",
    "            operator = input(\"Operator (+, -, *, /): \")\n",
    "            num2 = float(input(\"Second number: \"))\n",
    "            \n",
    "            # Perform calculation\n",
    "            if operator == '+':\n",
    "                result = num1 + num2\n",
    "                print(f\"✅ {num1} + {num2} = {result}\")\n",
    "            elif operator == '-':\n",
    "                result = num1 - num2\n",
    "                print(f\"✅ {num1} - {num2} = {result}\")\n",
    "            elif operator == '*':\n",
    "                result = num1 * num2\n",
    "                print(f\"✅ {num1} × {num2} = {result}\")\n",
    "            elif operator == '/':\n",
    "                if num2 == 0:\n",
    "                    print(\"❌ Error: Cannot divide by zero!\")\n",
    "                    continue\n",
    "                result = num1 / num2\n",
    "                print(f\"✅ {num1} ÷ {num2} = {result}\")\n",
    "            else:\n",
    "                print(\"❌ Error: Invalid operator! Use +, -, *, or /\")\n",
    "                \n",
    "        except ValueError:\n",
    "            print(\"❌ Error: Please enter valid numbers!\")\n",
    "        except KeyboardInterrupt:\n",
    "            print(\"\\n\\nCalculator stopped by user. Goodbye! 👋\")\n",
    "            break\n",
    "\n",
    "# Start the calculator\n",
    "calc()"
   ]
  },
  {
   "cell_type": "code",
   "execution_count": null,
   "metadata": {},
   "outputs": [],
   "source": []
  }
 ],
 "metadata": {
  "kernelspec": {
   "display_name": "Python 3",
   "language": "python",
   "name": "python3"
  },
  "language_info": {
   "codemirror_mode": {
    "name": "ipython",
    "version": 3
   },
   "file_extension": ".py",
   "mimetype": "text/x-python",
   "name": "python",
   "nbconvert_exporter": "python",
   "pygments_lexer": "ipython3",
   "version": "3.8.5"
  }
 },
 "nbformat": 4,
 "nbformat_minor": 4
}
