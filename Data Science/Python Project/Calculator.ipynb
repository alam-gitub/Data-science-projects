{
 "cells": [
  {
   "cell_type": "markdown",
   "metadata": {},
   "source": [
    "# Calculator"
   ]
  },
  {
   "cell_type": "code",
   "execution_count": 2,
   "metadata": {},
   "outputs": [
    {
     "name": "stdout",
     "output_type": "stream",
     "text": [
      "Simple Calculator\n",
      "Operations: + (Add), - (Subtract), * (Multiply), / (Divide)\n",
      "Enter first number: 123\n",
      "Enter operator (+, -, *, /): -\n",
      "Enter second number: 22\n",
      "Result: 123.0 - 22.0 = 101.0\n"
     ]
    }
   ],
   "source": [
    "def calculator():\n",
    "    print(\"Simple Calculator\")\n",
    "    print(\"Operations: + (Add), - (Subtract), * (Multiply), / (Divide)\")\n",
    "    \n",
    "    try:\n",
    "        num1 = float(input(\"Enter first number: \"))\n",
    "        operator = input(\"Enter operator (+, -, *, /): \")\n",
    "        num2 = float(input(\"Enter second number: \"))\n",
    "        \n",
    "        if operator == '+':\n",
    "            result = num1 + num2\n",
    "        elif operator == '-':\n",
    "            result = num1 - num2\n",
    "        elif operator == '*':\n",
    "            result = num1 * num2\n",
    "        elif operator == '/':\n",
    "            if num2 == 0:\n",
    "                print(\"Error: Division by zero is not allowed!\")\n",
    "                return\n",
    "            result = num1 / num2\n",
    "        else:\n",
    "            print(\"Invalid operator! Please use +, -, *, or /\")\n",
    "            return\n",
    "        \n",
    "        print(f\"Result: {num1} {operator} {num2} = {result}\")\n",
    "    \n",
    "    except ValueError:\n",
    "        print(\"Invalid input! Please enter numeric values.\")\n",
    "\n",
    "# Now you can call it multiple times\n",
    "calculator()\n",
    "# Want to calculate again? Just type:\n",
    "# calculator()"
   ]
  },
  {
   "cell_type": "code",
   "execution_count": 4,
   "metadata": {},
   "outputs": [
    {
     "name": "stdout",
     "output_type": "stream",
     "text": [
      "Simple Calculator\n",
      "Operations: + (Add), - (Subtract), * (Multiply), / (Divide)\n",
      "Enter first number: 333\n",
      "Enter operator (+, -, *, /): -\n",
      "Enter second number: 123\n",
      "Result: 333.0 - 123.0 = 210.0\n"
     ]
    }
   ],
   "source": [
    "calculator()"
   ]
  },
  {
   "cell_type": "code",
   "execution_count": null,
   "metadata": {},
   "outputs": [],
   "source": []
  }
 ],
 "metadata": {
  "kernelspec": {
   "display_name": "Python 3",
   "language": "python",
   "name": "python3"
  },
  "language_info": {
   "codemirror_mode": {
    "name": "ipython",
    "version": 3
   },
   "file_extension": ".py",
   "mimetype": "text/x-python",
   "name": "python",
   "nbconvert_exporter": "python",
   "pygments_lexer": "ipython3",
   "version": "3.8.5"
  }
 },
 "nbformat": 4,
 "nbformat_minor": 4
}
